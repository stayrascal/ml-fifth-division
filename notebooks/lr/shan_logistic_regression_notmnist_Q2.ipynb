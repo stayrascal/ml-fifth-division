{
 "cells": [
  {
   "cell_type": "markdown",
   "metadata": {
    "deletable": true,
    "editable": true
   },
   "source": [
    "# 基于TF使用NotMnist数据集训练一个线性模型"
   ]
  },
  {
   "cell_type": "code",
   "execution_count": 1,
   "metadata": {
    "collapsed": true,
    "deletable": true,
    "editable": true
   },
   "outputs": [],
   "source": [
    "import pickle\n",
    "import numpy as np\n",
    "import tensorflow as tf\n",
    "\n",
    "image_size = 28\n",
    "num_labels = 10"
   ]
  },
  {
   "cell_type": "markdown",
   "metadata": {
    "deletable": true,
    "editable": true
   },
   "source": [
    "# 封装数据集为对象"
   ]
  },
  {
   "cell_type": "code",
   "execution_count": 2,
   "metadata": {
    "collapsed": false,
    "deletable": true,
    "editable": true
   },
   "outputs": [],
   "source": [
    "class NotMNIST:\n",
    "    def __init__(self):\n",
    "        class Train:\n",
    "            def __init__(self):\n",
    "                self.images = []\n",
    "                self.labels = []\n",
    "                self.batch_counter = 0\n",
    "\n",
    "            @property\n",
    "            def num_examples(self):\n",
    "                return len(self.images)\n",
    "\n",
    "            def next_batch(self, num):\n",
    "                if self.batch_counter + num >= len(self.labels):\n",
    "                    batch_images = self.images[self.batch_counter:]\n",
    "                    batch_labels = self.labels[self.batch_counter:]\n",
    "                    left = num - len(batch_labels)\n",
    "                    self.batch_counter = left\n",
    "                else:\n",
    "                    batch_images = self.images[self.batch_counter:self.batch_counter + num]\n",
    "                    batch_labels = self.labels[self.batch_counter:self.batch_counter + num]\n",
    "                    self.batch_counter += num\n",
    "                return batch_images, batch_labels\n",
    "\n",
    "        class Test:\n",
    "            def __init__(self):\n",
    "                self.images = []\n",
    "                self.labels = []\n",
    "\n",
    "        class Valid:\n",
    "            def __init__(self):\n",
    "                self.images = []\n",
    "                self.labels = []\n",
    "\n",
    "        self.train = Train()\n",
    "        self.test = Test()\n",
    "        self.valid = Valid()\n",
    "        \n",
    "        pickle_file = '../data/notMNIST.pickle'\n",
    "\n",
    "        with open(pickle_file, 'rb') as f:\n",
    "            save = pickle.load(f)\n",
    "            train_dataset = save['train_dataset']\n",
    "            train_labels = save['train_labels']\n",
    "            valid_dataset = save['valid_dataset']\n",
    "            valid_labels = save['valid_labels']\n",
    "            test_dataset = save['test_dataset']\n",
    "            test_labels = save['test_labels']\n",
    "            del save  # 删除内存文件，等待gc回收释放内存\n",
    "\n",
    "        def reformat(dataset, labels):\n",
    "            dataset = dataset.reshape((-1, image_size * image_size)).astype(np.float32)\n",
    "            labels = (np.arange(num_labels) == labels[:, None]).astype(np.float32)\n",
    "            return dataset, labels\n",
    "\n",
    "        train_dataset, train_labels = reformat(train_dataset, train_labels)\n",
    "        valid_dataset, valid_labels = reformat(valid_dataset, valid_labels)\n",
    "        test_dataset, test_labels = reformat(test_dataset, test_labels)\n",
    "        print('Training set', train_dataset.shape, train_labels.shape)\n",
    "        print('Validation set', valid_dataset.shape, valid_labels.shape)\n",
    "        print('Test set', test_dataset.shape, test_labels.shape)\n",
    "        self.train.images = train_dataset\n",
    "        self.train.labels = train_labels\n",
    "        self.valid.images = valid_dataset\n",
    "        self.valid.labels = valid_labels\n",
    "        self.test.images = test_dataset\n",
    "        self.test.labels = test_labels"
   ]
  },
  {
   "cell_type": "markdown",
   "metadata": {
    "deletable": true,
    "editable": true
   },
   "source": [
    "# 创建数据集实例"
   ]
  },
  {
   "cell_type": "code",
   "execution_count": 3,
   "metadata": {
    "collapsed": false,
    "deletable": true,
    "editable": true
   },
   "outputs": [
    {
     "name": "stdout",
     "output_type": "stream",
     "text": [
      "Training set (200000, 784) (200000, 10)\n",
      "Validation set (10000, 784) (10000, 10)\n",
      "Test set (10000, 784) (10000, 10)\n"
     ]
    }
   ],
   "source": [
    "not_mnist = NotMNIST()\n"
   ]
  },
  {
   "cell_type": "markdown",
   "metadata": {
    "deletable": true,
    "editable": true
   },
   "source": [
    "# 训练参数设定"
   ]
  },
  {
   "cell_type": "code",
   "execution_count": 48,
   "metadata": {
    "collapsed": false,
    "deletable": true,
    "editable": true
   },
   "outputs": [],
   "source": [
    "# 参数\n",
    "learning_rate = 0.05  # 梯度下降步长，寻找最优解的下降步长\n",
    "training_epochs = 40  # 迭代轮数\n",
    "batch_size = 50  # 批次训练数据集大小\n",
    "display_step = 1\n",
    "\n",
    "# tf图输入\n",
    "x = tf.placeholder(tf.float32, [None, 784])  # mnist 数据集图片大小为28*28=784，placeholder为占位符\n",
    "y = tf.placeholder(tf.float32, [None, 10])  # 识别A-J的数据，一共10个类别\n",
    "\n",
    "# 设置模型权重\n",
    "W = tf.Variable(tf.zeros([784, 10]))\n",
    "b = tf.Variable(tf.zeros([10]))\n"
   ]
  },
  {
   "cell_type": "code",
   "execution_count": 49,
   "metadata": {
    "collapsed": false,
    "deletable": true,
    "editable": true
   },
   "outputs": [],
   "source": [
    "# 构造模型\n",
    "pred = tf.nn.softmax(tf.matmul(x, W) + b)  # Softmax\n"
   ]
  },
  {
   "cell_type": "code",
   "execution_count": 50,
   "metadata": {
    "collapsed": false,
    "deletable": true,
    "editable": true
   },
   "outputs": [
    {
     "name": "stdout",
     "output_type": "stream",
     "text": [
      "WARNING:tensorflow:From <ipython-input-50-d50587710d86>:16: initialize_all_variables (from tensorflow.python.ops.variables) is deprecated and will be removed after 2017-03-02.\n",
      "Instructions for updating:\n",
      "Use `tf.global_variables_initializer` instead.\n"
     ]
    }
   ],
   "source": [
    "# 损失函数：交叉墒\n",
    "# todo  请使用tf的api定义交叉墒损失函数\n",
    "cost = tf.reduce_mean(tf.nn.softmax_cross_entropy_with_logits(logits = pred, labels = y))\n",
    "#cost = tf.reduce_mean(tf.nn.sigmoid_cross_entropy_with_logits(logits = pred, labels = y))\n",
    "\n",
    "# 使用梯度下降算法寻找最优解\n",
    "#todo 请使用tf函数定义梯度下降优化法方法\n",
    "optimizer = tf.train.GradientDescentOptimizer(learning_rate).minimize(cost)\n",
    "#optimizer = tf.train.MomentumOptimizer(learning_rate, 0.05).minimize(cost)\n",
    "# 测试模型\n",
    "correct_prediction = tf.equal(tf.argmax(pred, 1), tf.argmax(y, 1))\n",
    "# 计算准确度\n",
    "accuracy = tf.reduce_mean(tf.cast(correct_prediction, tf.float32))\n",
    "\n",
    "# 初始化所有变量\n",
    "init = tf.initialize_all_variables()\n",
    "saver = tf.train.Saver()\n"
   ]
  },
  {
   "cell_type": "markdown",
   "metadata": {
    "deletable": true,
    "editable": true
   },
   "source": [
    "# 开始进行训练，按照迭代次数进行迭代，每个迭代采用valid数据集进行验证"
   ]
  },
  {
   "cell_type": "code",
   "execution_count": 51,
   "metadata": {
    "collapsed": false,
    "deletable": true,
    "editable": true,
    "scrolled": true
   },
   "outputs": [
    {
     "name": "stdout",
     "output_type": "stream",
     "text": [
      "Epoch: 0001 cost= 1.702906967 valid= 0.8238\n",
      "Epoch: 0002 cost= 1.652046714 valid= 0.8303\n",
      "Epoch: 0003 cost= 1.643283358 valid= 0.8336\n",
      "Epoch: 0004 cost= 1.638477012 valid= 0.8356\n",
      "Epoch: 0005 cost= 1.635260346 valid= 0.837\n",
      "Epoch: 0006 cost= 1.632892330 valid= 0.8385\n",
      "Epoch: 0007 cost= 1.631048215 valid= 0.8394\n",
      "Epoch: 0008 cost= 1.629555388 valid= 0.8394\n",
      "Epoch: 0009 cost= 1.628310998 valid= 0.8401\n",
      "Epoch: 0010 cost= 1.627249352 valid= 0.8412\n",
      "Epoch: 0011 cost= 1.626326839 valid= 0.8414\n",
      "Epoch: 0012 cost= 1.625513646 valid= 0.8417\n",
      "Epoch: 0013 cost= 1.624788705 valid= 0.8415\n",
      "Epoch: 0014 cost= 1.624136535 valid= 0.8416\n",
      "Epoch: 0015 cost= 1.623545310 valid= 0.8423\n",
      "Epoch: 0016 cost= 1.623005720 valid= 0.8425\n",
      "Epoch: 0017 cost= 1.622510282 valid= 0.8424\n",
      "Epoch: 0018 cost= 1.622052889 valid= 0.8428\n",
      "Epoch: 0019 cost= 1.621628516 valid= 0.843\n",
      "Epoch: 0020 cost= 1.621232973 valid= 0.8432\n",
      "Epoch: 0021 cost= 1.620862750 valid= 0.8433\n",
      "Epoch: 0022 cost= 1.620514874 valid= 0.8437\n",
      "Epoch: 0023 cost= 1.620186830 valid= 0.8436\n",
      "Epoch: 0024 cost= 1.619876476 valid= 0.8438\n",
      "Epoch: 0025 cost= 1.619582026 valid= 0.8439\n",
      "Epoch: 0026 cost= 1.619302007 valid= 0.8446\n",
      "Epoch: 0027 cost= 1.619035225 valid= 0.8447\n",
      "Epoch: 0028 cost= 1.618780669 valid= 0.8445\n",
      "Epoch: 0029 cost= 1.618537425 valid= 0.8446\n",
      "Epoch: 0030 cost= 1.618304621 valid= 0.8446\n",
      "Epoch: 0031 cost= 1.618081431 valid= 0.8446\n",
      "Epoch: 0032 cost= 1.617867088 valid= 0.8447\n",
      "Epoch: 0033 cost= 1.617660901 valid= 0.845\n",
      "Epoch: 0034 cost= 1.617462246 valid= 0.8452\n",
      "Epoch: 0035 cost= 1.617270575 valid= 0.8454\n",
      "Epoch: 0036 cost= 1.617085416 valid= 0.8455\n",
      "Epoch: 0037 cost= 1.616906350 valid= 0.8455\n",
      "Epoch: 0038 cost= 1.616732997 valid= 0.8458\n",
      "Epoch: 0039 cost= 1.616565032 valid= 0.8458\n",
      "Epoch: 0040 cost= 1.616402153 valid= 0.8459\n",
      "Optimization Finished!\n",
      "Accuracy: 0.9028\n"
     ]
    }
   ],
   "source": [
    "# 启动tf图\n",
    "with tf.Session() as sess:\n",
    "    sess.run(init)  # 初始化所有变量\n",
    "\n",
    "    # 迭代训练\n",
    "    for epoch in range(training_epochs):\n",
    "        avg_cost = 0.\n",
    "        total_batch = int(not_mnist.train.num_examples / batch_size)  # 计算数据集总共有多少批次数据\n",
    "        # 训练训练所有批次数据\n",
    "        for i in range(total_batch):\n",
    "            batch_xs, batch_ys = not_mnist.train.next_batch(batch_size)\n",
    "            # 运行优化操作和损失函数计算操作，获取损失值\n",
    "            _, c = sess.run([optimizer, cost], feed_dict={x: batch_xs,\n",
    "                                                          y: batch_ys})\n",
    "            # 计算平均损失\n",
    "            avg_cost += c / total_batch\n",
    "            \n",
    "        # 打印显示\n",
    "        if (epoch + 1) % display_step == 0:\n",
    "            #print(avg_cost)\n",
    "            print(\"Epoch:\", '%04d' % (epoch + 1), \"cost=\", \"{:.9f}\".format(avg_cost), \"valid=\", accuracy.eval({x: not_mnist.valid.images, y: not_mnist.valid.labels}))\n",
    "    print(\"Optimization Finished!\")\n",
    "    print(\"Accuracy:\", accuracy.eval({x: not_mnist.test.images, y: not_mnist.test.labels}))\n",
    "    #saver.save(sess, 'my-model') # 保存模型\n",
    "    "
   ]
  },
  {
   "cell_type": "markdown",
   "metadata": {
    "collapsed": true,
    "deletable": true,
    "editable": true
   },
   "source": [
    "# 作业一：请尝试切换不同的优化方法，例如使用：\n",
    "* GradientDescentOptimizer\n",
    "* AdadeltaOptimizer\n",
    "* AdagradOptimizer\n",
    "* MomentumOptimizer\n",
    "* AdamOptimizer\n",
    "* FtrlOptimizer\n",
    "* RMSPropOptimizer\n",
    "\n",
    "# 观察结果\n",
    "\n",
    "# 作业二：请进行不同的参数调整，例如minibatch 大小，learning_rate，已经迭代训练的次数，观察结果"
   ]
  },
  {
   "cell_type": "code",
   "execution_count": null,
   "metadata": {
    "collapsed": true,
    "deletable": true,
    "editable": true
   },
   "outputs": [],
   "source": []
  }
 ],
 "metadata": {
  "kernelspec": {
   "display_name": "Python 3",
   "language": "python",
   "name": "python3"
  },
  "language_info": {
   "codemirror_mode": {
    "name": "ipython",
    "version": 3
   },
   "file_extension": ".py",
   "mimetype": "text/x-python",
   "name": "python",
   "nbconvert_exporter": "python",
   "pygments_lexer": "ipython3",
   "version": "3.4.3"
  }
 },
 "nbformat": 4,
 "nbformat_minor": 0
}
