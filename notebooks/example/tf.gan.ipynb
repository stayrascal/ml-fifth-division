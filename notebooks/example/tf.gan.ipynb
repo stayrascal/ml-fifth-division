{
 "cells": [
  {
   "cell_type": "code",
   "execution_count": 1,
   "metadata": {
    "collapsed": true
   },
   "outputs": [],
   "source": [
    "%matplotlib inline\n",
    "\n",
    "import tensorflow as tf\n",
    "import numpy as np\n",
    "import matplotlib.pyplot as plt\n",
    "from tensorflow.examples.tutorials.mnist import input_data"
   ]
  },
  {
   "cell_type": "code",
   "execution_count": 2,
   "metadata": {
    "collapsed": false
   },
   "outputs": [
    {
     "name": "stdout",
     "output_type": "stream",
     "text": [
      "Extracting ../data/mnist/train-images-idx3-ubyte.gz\n",
      "Extracting ../data/mnist/train-labels-idx1-ubyte.gz\n",
      "Extracting ../data/mnist/t10k-images-idx3-ubyte.gz\n",
      "Extracting ../data/mnist/t10k-labels-idx1-ubyte.gz\n"
     ]
    }
   ],
   "source": [
    "mnist = input_data.read_data_sets(\"../data/mnist/\")\n",
    "images = mnist.train.images"
   ]
  },
  {
   "cell_type": "code",
   "execution_count": 3,
   "metadata": {
    "collapsed": true
   },
   "outputs": [],
   "source": [
    "def xavier_initializer(shape):\n",
    "    return tf.random_normal(shape=shape, stddev=1/shape[0])"
   ]
  },
  {
   "cell_type": "code",
   "execution_count": 4,
   "metadata": {
    "collapsed": true
   },
   "outputs": [],
   "source": [
    "# Generator\n",
    "z_size = 100 # Latent vector dimension\n",
    "g_w1_size = 400 \n",
    "g_out_size = 28 * 28\n",
    "\n",
    "# Discriminator\n",
    "x_size = 28 * 28\n",
    "d_w1_size = 400\n",
    "d_out_size = 1"
   ]
  },
  {
   "cell_type": "code",
   "execution_count": 5,
   "metadata": {
    "collapsed": true
   },
   "outputs": [],
   "source": [
    "z = tf.placeholder('float', shape=(None, z_size))\n",
    "X = tf.placeholder('float', shape=(None, x_size))"
   ]
  },
  {
   "cell_type": "code",
   "execution_count": 6,
   "metadata": {
    "collapsed": true
   },
   "outputs": [],
   "source": [
    "g_weights = {\n",
    "    'w1': tf.Variable(xavier_initializer(shape=(z_size, g_w1_size))),\n",
    "    'b1': tf.Variable(tf.zeros(shape=[g_w1_size])),\n",
    "    'out': tf.Variable(xavier_initializer(shape=(g_w1_size, g_out_size))),\n",
    "    'b2': tf.Variable(tf.zeros(shape=[g_out_size])),\n",
    "}\n",
    "\n",
    "d_weights ={\n",
    "    'w1': tf.Variable(xavier_initializer(shape=(x_size, d_w1_size))),\n",
    "    'b1': tf.Variable(tf.zeros(shape=[d_w1_size])),\n",
    "    'out': tf.Variable(xavier_initializer(shape=(d_w1_size, d_out_size))),\n",
    "    'b2': tf.Variable(tf.zeros(shape=[d_out_size])),\n",
    "}"
   ]
  },
  {
   "cell_type": "code",
   "execution_count": 7,
   "metadata": {
    "collapsed": true
   },
   "outputs": [],
   "source": [
    "def G(z, w=g_weights):\n",
    "    h1 = tf.nn.relu(tf.matmul(z, w['w1']) + w['b1'])\n",
    "    return tf.sigmoid(tf.matmul(h1, w['out']) + w['b2'])\n",
    "\n",
    "def D(x, w=d_weights):\n",
    "    h1 = tf.nn.relu(tf.matmul(x, w['w1']) + w['b1'])\n",
    "    return tf.sigmoid(tf.matmul(h1, w['out']) + w['b2'])"
   ]
  },
  {
   "cell_type": "code",
   "execution_count": 12,
   "metadata": {
    "collapsed": true
   },
   "outputs": [],
   "source": [
    "def generate_z(n=1):\n",
    "    return np.random.normal(size=(n, z_size))"
   ]
  },
  {
   "cell_type": "code",
   "execution_count": 13,
   "metadata": {
    "collapsed": true
   },
   "outputs": [],
   "source": [
    "G_objective = -tf.reduce_mean(tf.log(D(G(z))))\n",
    "D_objective = -tf.reduce_mean(tf.log(D(X)) + tf.log(1 - D(G(z))))"
   ]
  },
  {
   "cell_type": "code",
   "execution_count": 14,
   "metadata": {
    "collapsed": false
   },
   "outputs": [],
   "source": [
    "G_opt = tf.train.AdamOptimizer().minimize(G_objective, var_list=g_weights.values())\n",
    "D_opt = tf.train.AdamOptimizer().minimize(D_objective, var_list=d_weights.values())"
   ]
  },
  {
   "cell_type": "code",
   "execution_count": 16,
   "metadata": {
    "collapsed": true
   },
   "outputs": [],
   "source": [
    "sample = G(z)"
   ]
  },
  {
   "cell_type": "code",
   "execution_count": 17,
   "metadata": {
    "collapsed": false
   },
   "outputs": [
    {
     "data": {
      "image/png": "[encoded data removed]",
      "text/plain": [
       "<matplotlib.figure.Figure at 0x7f2a3a8aa4a8>"
      ]
     },
     "metadata": {},
     "output_type": "display_data"
    }
   ],
   "source": [
    "# Hyper-parameters\n",
    "epochs = 50000\n",
    "batch_size = 128\n",
    "\n",
    "# Session\n",
    "with tf.Session() as sess:\n",
    "    sess.run(tf.global_variables_initializer())\n",
    "    \n",
    "    for _ in range(epochs):\n",
    "        sess.run(G_opt, feed_dict={z: generate_z(batch_size)})\n",
    "        sess.run(D_opt, feed_dict={\n",
    "            X: images[np.random.choice(range(len(images)), batch_size)].reshape(batch_size, x_size),\n",
    "            z: generate_z(batch_size),\n",
    "        })\n",
    "\n",
    "    # Show a random image\n",
    "    image = sess.run(sample, feed_dict={z:generate_z()})\n",
    "    plt.imshow(image.reshape(28, 28), cmap='gray')"
   ]
  },
  {
   "cell_type": "code",
   "execution_count": null,
   "metadata": {
    "collapsed": true
   },
   "outputs": [],
   "source": []
  }
 ],
 "metadata": {
  "kernelspec": {
   "display_name": "Python 3",
   "language": "python",
   "name": "python3"
  },
  "language_info": {
   "codemirror_mode": {
    "name": "ipython",
    "version": 3
   },
   "file_extension": ".py",
   "mimetype": "text/x-python",
   "name": "python",
   "nbconvert_exporter": "python",
   "pygments_lexer": "ipython3",
   "version": "3.4.3"
  }
 },
 "nbformat": 4,
 "nbformat_minor": 2
}
