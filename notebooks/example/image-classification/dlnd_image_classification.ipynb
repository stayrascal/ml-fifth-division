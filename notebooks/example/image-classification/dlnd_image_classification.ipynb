{
 "cells": [
  {
   "cell_type": "markdown",
   "metadata": {
    "collapsed": true,
    "deletable": true,
    "editable": true
   },
   "source": [
    "# Image Classification\n",
    "In this project, you'll classify images from the [CIFAR-10 dataset](https://www.cs.toronto.edu/~kriz/cifar.html).  The dataset consists of airplanes, dogs, cats, and other objects. You'll preprocess the images, then train a convolutional neural network on all the samples. The images need to be normalized and the labels need to be one-hot encoded.  You'll get to apply what you learned and build a convolutional, max pooling, dropout, and fully connected layers.  At the end, you'll get to see your neural network's predictions on the sample images.\n",
    "## Get the Data\n",
    "Run the following cell to download the [CIFAR-10 dataset for python](https://www.cs.toronto.edu/~kriz/cifar-10-python.tar.gz)."
   ]
  },
  {
   "cell_type": "code",
   "execution_count": 72,
   "metadata": {
    "collapsed": false,
    "deletable": true,
    "editable": true
   },
   "outputs": [
    {
     "name": "stdout",
     "output_type": "stream",
     "text": [
      "All files found!\n"
     ]
    }
   ],
   "source": [
    "\"\"\"\n",
    "DON'T MODIFY ANYTHING IN THIS CELL THAT IS BELOW THIS LINE\n",
    "\"\"\"\n",
    "from urllib.request import urlretrieve\n",
    "from os.path import isfile, isdir\n",
    "from tqdm import tqdm\n",
    "import problem_unittests as tests\n",
    "import tarfile\n",
    "\n",
    "cifar10_dataset_folder_path = 'cifar-10-batches-py'\n",
    "\n",
    "class DLProgress(tqdm):\n",
    "    last_block = 0\n",
    "\n",
    "    def hook(self, block_num=1, block_size=1, total_size=None):\n",
    "        self.total = total_size\n",
    "        self.update((block_num - self.last_block) * block_size)\n",
    "        self.last_block = block_num\n",
    "\n",
    "if not isfile('cifar-10-python.tar.gz'):\n",
    "    with DLProgress(unit='B', unit_scale=True, miniters=1, desc='CIFAR-10 Dataset') as pbar:\n",
    "        urlretrieve(\n",
    "            'https://www.cs.toronto.edu/~kriz/cifar-10-python.tar.gz',\n",
    "            'cifar-10-python.tar.gz',\n",
    "            pbar.hook)\n",
    "\n",
    "if not isdir(cifar10_dataset_folder_path):\n",
    "    with tarfile.open('cifar-10-python.tar.gz') as tar:\n",
    "        tar.extractall()\n",
    "        tar.close()\n",
    "\n",
    "\n",
    "tests.test_folder_path(cifar10_dataset_folder_path)"
   ]
  },
  {
   "cell_type": "markdown",
   "metadata": {
    "deletable": true,
    "editable": true
   },
   "source": [
    "## Explore the Data\n",
    "The dataset is broken into batches to prevent your machine from running out of memory.  The CIFAR-10 dataset consists of 5 batches, named `data_batch_1`, `data_batch_2`, etc.. Each batch contains the labels and images that are one of the following:\n",
    "* airplane\n",
    "* automobile\n",
    "* bird\n",
    "* cat\n",
    "* deer\n",
    "* dog\n",
    "* frog\n",
    "* horse\n",
    "* ship\n",
    "* truck\n",
    "\n",
    "Understanding a dataset is part of making predictions on the data.  Play around with the code cell below by changing the `batch_id` and `sample_id`. The `batch_id` is the id for a batch (1-5). The `sample_id` is the id for a image and label pair in the batch.\n",
    "\n",
    "Ask yourself \"What are all possible labels?\", \"What is the range of values for the image data?\", \"Are the labels in order or random?\".  Answers to questions like these will help you preprocess the data and end up with better predictions."
   ]
  },
  {
   "cell_type": "code",
   "execution_count": 73,
   "metadata": {
    "collapsed": false,
    "deletable": true,
    "editable": true
   },
   "outputs": [
    {
     "name": "stdout",
     "output_type": "stream",
     "text": [
      "\n",
      "Stats of batch 1:\n",
      "Samples: 10000\n",
      "Label Counts: {0: 1005, 1: 974, 2: 1032, 3: 1016, 4: 999, 5: 937, 6: 1030, 7: 1001, 8: 1025, 9: 981}\n",
      "First 20 Labels: [6, 9, 9, 4, 1, 1, 2, 7, 8, 3, 4, 7, 7, 2, 9, 9, 9, 3, 2, 6]\n",
      "\n",
      "Example of Image 5:\n",
      "Image - Min Value: 0 Max Value: 252\n",
      "Image - Shape: (32, 32, 3)\n",
      "Label - Label Id: 1 Name: automobile\n"
     ]
    },
    {
     "data": {
      "image/png": "[encoded data removed]",
      "text/plain": [
       "<matplotlib.figure.Figure at 0x7f5a60aa2eb8>"
      ]
     },
     "metadata": {
      "image/png": {
       "height": 250,
       "width": 253
      }
     },
     "output_type": "display_data"
    }
   ],
   "source": [
    "%matplotlib inline\n",
    "%config InlineBackend.figure_format = 'retina'\n",
    "\n",
    "import helper\n",
    "import numpy as np\n",
    "\n",
    "# Explore the dataset\n",
    "batch_id = 1\n",
    "sample_id = 5\n",
    "helper.display_stats(cifar10_dataset_folder_path, batch_id, sample_id)"
   ]
  },
  {
   "cell_type": "markdown",
   "metadata": {
    "deletable": true,
    "editable": true
   },
   "source": [
    "## Implement Preprocess Functions\n",
    "### Normalize\n",
    "In the cell below, implement the `normalize` function to take in image data, `x`, and return it as a normalized Numpy array. The values should be in the range of 0 to 1, inclusive.  The return object should be the same shape as `x`."
   ]
  },
  {
   "cell_type": "code",
   "execution_count": 111,
   "metadata": {
    "collapsed": false,
    "deletable": true,
    "editable": true
   },
   "outputs": [
    {
     "data": {
      "text/plain": [
       "\"\\nDON'T MODIFY ANYTHING IN THIS CELL THAT IS BELOW THIS LINE\\n\""
      ]
     },
     "execution_count": 111,
     "metadata": {},
     "output_type": "execute_result"
    }
   ],
   "source": [
    "def normalize(x):\n",
    "    \"\"\"\n",
    "    Normalize a list of sample image data in the range of 0 to 1\n",
    "    : x: List of image data.  The image shape is (32, 32, 3)\n",
    "    : return: Numpy array of normalize data\n",
    "    \"\"\"\n",
    "#     x = x - np.mean(x, axis=0)\n",
    "#     x = x / np.std(x, axis=0)\n",
    "#     return x\n",
    "\n",
    "#     return (x - x.min()) / (x.max() - x.min())\n",
    "\n",
    "    return (x - 127.5) / 255.0\n",
    "\n",
    "\n",
    "\"\"\"\n",
    "DON'T MODIFY ANYTHING IN THIS CELL THAT IS BELOW THIS LINE\n",
    "\"\"\"\n",
    "# tests.test_normalize(normalize)"
   ]
  },
  {
   "cell_type": "markdown",
   "metadata": {
    "deletable": true,
    "editable": true
   },
   "source": [
    "### One-hot encode\n",
    "Just like the previous code cell, you'll be implementing a function for preprocessing.  This time, you'll implement the `one_hot_encode` function. The input, `x`, are a list of labels.  Implement the function to return the list of labels as One-Hot encoded Numpy array.  The possible values for labels are 0 to 9. The one-hot encoding function should return the same encoding for each value between each call to `one_hot_encode`.  Make sure to save the map of encodings outside the function.\n",
    "\n",
    "Hint: Don't reinvent the wheel."
   ]
  },
  {
   "cell_type": "code",
   "execution_count": 112,
   "metadata": {
    "collapsed": false,
    "deletable": true,
    "editable": true
   },
   "outputs": [
    {
     "name": "stdout",
     "output_type": "stream",
     "text": [
      "Tests Passed\n"
     ]
    }
   ],
   "source": [
    "def one_hot_encode(x):\n",
    "    \"\"\"\n",
    "    One hot encode a list of sample labels. Return a one-hot encoded vector for each label.\n",
    "    : x: List of sample Labels\n",
    "    : return: Numpy array of one-hot encoded labels\n",
    "    \"\"\"\n",
    "    return (np.arange(10) == np.expand_dims(x, axis=1)).astype(np.float32)\n",
    "\n",
    "\n",
    "\"\"\"\n",
    "DON'T MODIFY ANYTHING IN THIS CELL THAT IS BELOW THIS LINE\n",
    "\"\"\"\n",
    "tests.test_one_hot_encode(one_hot_encode)"
   ]
  },
  {
   "cell_type": "markdown",
   "metadata": {
    "deletable": true,
    "editable": true
   },
   "source": [
    "### Randomize Data\n",
    "As you saw from exploring the data above, the order of the samples are randomized.  It doesn't hurt to randomize it again, but you don't need to for this dataset."
   ]
  },
  {
   "cell_type": "markdown",
   "metadata": {
    "deletable": true,
    "editable": true
   },
   "source": [
    "## Preprocess all the data and save it\n",
    "Running the code cell below will preprocess all the CIFAR-10 data and save it to file. The code below also uses 10% of the training data for validation."
   ]
  },
  {
   "cell_type": "code",
   "execution_count": 118,
   "metadata": {
    "collapsed": false,
    "deletable": true,
    "editable": true
   },
   "outputs": [],
   "source": [
    "\"\"\"\n",
    "DON'T MODIFY ANYTHING IN THIS CELL\n",
    "\"\"\"\n",
    "# Preprocess Training, Validation, and Testing Data\n",
    "helper.preprocess_and_save_data(cifar10_dataset_folder_path, normalize, one_hot_encode)"
   ]
  },
  {
   "cell_type": "markdown",
   "metadata": {
    "deletable": true,
    "editable": true
   },
   "source": [
    "# Check Point\n",
    "This is your first checkpoint.  If you ever decide to come back to this notebook or have to restart the notebook, you can start from here.  The preprocessed data has been saved to disk."
   ]
  },
  {
   "cell_type": "code",
   "execution_count": 114,
   "metadata": {
    "collapsed": true,
    "deletable": true,
    "editable": true
   },
   "outputs": [],
   "source": [
    "\"\"\"\n",
    "DON'T MODIFY ANYTHING IN THIS CELL\n",
    "\"\"\"\n",
    "import pickle\n",
    "import problem_unittests as tests\n",
    "import helper\n",
    "\n",
    "# Load the Preprocessed Validation data\n",
    "valid_features, valid_labels = pickle.load(open('preprocess_validation.p', mode='rb'))"
   ]
  },
  {
   "cell_type": "markdown",
   "metadata": {
    "deletable": true,
    "editable": true
   },
   "source": [
    "## Build the network\n",
    "For the neural network, you'll build each layer into a function.  Most of the code you've seen has been outside of functions. To test your code more thoroughly, we require that you put each layer in a function.  This allows us to give you better feedback and test for simple mistakes using our unittests before you submit your project.\n",
    "\n",
    ">**Note:** If you're finding it hard to dedicate enough time for this course each week, we've provided a small shortcut to this part of the project. In the next couple of problems, you'll have the option to use classes from the [TensorFlow Layers](https://www.tensorflow.org/api_docs/python/tf/layers) or [TensorFlow Layers (contrib)](https://www.tensorflow.org/api_guides/python/contrib.layers) packages to build each layer, except the layers you build in the \"Convolutional and Max Pooling Layer\" section.  TF Layers is similar to Keras's and TFLearn's abstraction to layers, so it's easy to pickup.\n",
    "\n",
    ">However, if you would like to get the most out of this course, try to solve all the problems _without_ using anything from the TF Layers packages. You **can** still use classes from other packages that happen to have the same name as ones you find in TF Layers! For example, instead of using the TF Layers version of the `conv2d` class, [tf.layers.conv2d](https://www.tensorflow.org/api_docs/python/tf/layers/conv2d), you would want to use the TF Neural Network version of `conv2d`, [tf.nn.conv2d](https://www.tensorflow.org/api_docs/python/tf/nn/conv2d). \n",
    "\n",
    "Let's begin!\n",
    "\n",
    "### Input\n",
    "The neural network needs to read the image data, one-hot encoded labels, and dropout keep probability. Implement the following functions\n",
    "* Implement `neural_net_image_input`\n",
    " * Return a [TF Placeholder](https://www.tensorflow.org/api_docs/python/tf/placeholder)\n",
    " * Set the shape using `image_shape` with batch size set to `None`.\n",
    " * Name the TensorFlow placeholder \"x\" using the TensorFlow `name` parameter in the [TF Placeholder](https://www.tensorflow.org/api_docs/python/tf/placeholder).\n",
    "* Implement `neural_net_label_input`\n",
    " * Return a [TF Placeholder](https://www.tensorflow.org/api_docs/python/tf/placeholder)\n",
    " * Set the shape using `n_classes` with batch size set to `None`.\n",
    " * Name the TensorFlow placeholder \"y\" using the TensorFlow `name` parameter in the [TF Placeholder](https://www.tensorflow.org/api_docs/python/tf/placeholder).\n",
    "* Implement `neural_net_keep_prob_input`\n",
    " * Return a [TF Placeholder](https://www.tensorflow.org/api_docs/python/tf/placeholder) for dropout keep probability.\n",
    " * Name the TensorFlow placeholder \"keep_prob\" using the TensorFlow `name` parameter in the [TF Placeholder](https://www.tensorflow.org/api_docs/python/tf/placeholder).\n",
    "\n",
    "These names will be used at the end of the project to load your saved model.\n",
    "\n",
    "Note: `None` for shapes in TensorFlow allow for a dynamic size."
   ]
  },
  {
   "cell_type": "code",
   "execution_count": 115,
   "metadata": {
    "collapsed": false,
    "deletable": true,
    "editable": true
   },
   "outputs": [
    {
     "name": "stdout",
     "output_type": "stream",
     "text": [
      "Image Input Tests Passed.\n",
      "Label Input Tests Passed.\n",
      "Keep Prob Tests Passed.\n"
     ]
    }
   ],
   "source": [
    "import tensorflow as tf\n",
    "\n",
    "def neural_net_image_input(image_shape):\n",
    "    \"\"\"\n",
    "    Return a Tensor for a batch of image input\n",
    "    : image_shape: Shape of the images\n",
    "    : return: Tensor for image input.\n",
    "    \"\"\"\n",
    "    return tf.placeholder(tf.float32, [None, 32, 32, 3], name = \"x\")\n",
    "\n",
    "\n",
    "def neural_net_label_input(n_classes):\n",
    "    \"\"\"\n",
    "    Return a Tensor for a batch of label input\n",
    "    : n_classes: Number of classes\n",
    "    : return: Tensor for label input.\n",
    "    \"\"\"\n",
    "    return tf.placeholder(tf.float32, [None, 10], name = \"y\")\n",
    "\n",
    "\n",
    "def neural_net_keep_prob_input():\n",
    "    \"\"\"\n",
    "    Return a Tensor for keep probability\n",
    "    : return: Tensor for keep probability.\n",
    "    \"\"\"\n",
    "    return tf.placeholder(tf.float32, name = \"keep_prob\")\n",
    "\n",
    "\n",
    "\"\"\"\n",
    "DON'T MODIFY ANYTHING IN THIS CELL THAT IS BELOW THIS LINE\n",
    "\"\"\"\n",
    "tf.reset_default_graph()\n",
    "tests.test_nn_image_inputs(neural_net_image_input)\n",
    "tests.test_nn_label_inputs(neural_net_label_input)\n",
    "tests.test_nn_keep_prob_inputs(neural_net_keep_prob_input)"
   ]
  },
  {
   "cell_type": "markdown",
   "metadata": {
    "deletable": true,
    "editable": true
   },
   "source": [
    "### Convolution and Max Pooling Layer\n",
    "Convolution layers have a lot of success with images. For this code cell, you should implement the function `conv2d_maxpool` to apply convolution then max pooling:\n",
    "* Create the weight and bias using `conv_ksize`, `conv_num_outputs` and the shape of `x_tensor`.\n",
    "* Apply a convolution to `x_tensor` using weight and `conv_strides`.\n",
    " * We recommend you use same padding, but you're welcome to use any padding.\n",
    "* Add bias\n",
    "* Add a nonlinear activation to the convolution.\n",
    "* Apply Max Pooling using `pool_ksize` and `pool_strides`.\n",
    " * We recommend you use same padding, but you're welcome to use any padding.\n",
    "\n",
    "**Note:** You **can't** use [TensorFlow Layers](https://www.tensorflow.org/api_docs/python/tf/layers) or [TensorFlow Layers (contrib)](https://www.tensorflow.org/api_guides/python/contrib.layers) for **this** layer, but you can still use TensorFlow's [Neural Network](https://www.tensorflow.org/api_docs/python/tf/nn) package. You may still use the shortcut option for all the **other** layers."
   ]
  },
  {
   "cell_type": "code",
   "execution_count": 116,
   "metadata": {
    "collapsed": false,
    "deletable": true,
    "editable": true
   },
   "outputs": [
    {
     "name": "stdout",
     "output_type": "stream",
     "text": [
      "Tests Passed\n"
     ]
    }
   ],
   "source": [
    "def conv2d_maxpool(x_tensor, conv_num_outputs, conv_ksize, conv_strides, pool_ksize, pool_strides):\n",
    "    \"\"\"\n",
    "    Apply convolution then max pooling to x_tensor\n",
    "    :param x_tensor: TensorFlow Tensor\n",
    "    :param conv_num_outputs: Number of outputs for the convolutional layer\n",
    "    :param conv_ksize: kernal size 2-D Tuple for the convolutional layer\n",
    "    :param conv_strides: Stride 2-D Tuple for convolution\n",
    "    :param pool_ksize: kernal size 2-D Tuple for pool\n",
    "    :param pool_strides: Stride 2-D Tuple for pool\n",
    "    : return: A tensor that represents convolution and max pooling of x_tensor\n",
    "    \"\"\"\n",
    "    conv_num_inputs = x_tensor.get_shape().as_list()[-1]\n",
    "    weight = tf.Variable(tf.truncated_normal([conv_ksize[0], conv_ksize[1], conv_num_inputs, conv_num_outputs], stddev=0.1))\n",
    "    bias = tf.Variable(tf.random_normal([conv_num_outputs], stddev=0.1))\n",
    "    \n",
    "    conv = tf.nn.conv2d(x_tensor, weight, strides=[1, conv_strides[0], conv_strides[1], 1], padding='VALID')\n",
    "    conv = tf.nn.relu(tf.nn.bias_add(conv, bias))\n",
    "    \n",
    "    return tf.nn.max_pool(conv, ksize=[1, pool_ksize[0], pool_ksize[1], 1], strides=[1, pool_strides[0], pool_strides[1], 1], padding='VALID')\n",
    "\n",
    "\n",
    "\"\"\"\n",
    "DON'T MODIFY ANYTHING IN THIS CELL THAT IS BELOW THIS LINE\n",
    "\"\"\"\n",
    "tests.test_con_pool(conv2d_maxpool)"
   ]
  },
  {
   "cell_type": "markdown",
   "metadata": {
    "deletable": true,
    "editable": true
   },
   "source": [
    "### Flatten Layer\n",
    "Implement the `flatten` function to change the dimension of `x_tensor` from a 4-D tensor to a 2-D tensor.  The output should be the shape (*Batch Size*, *Flattened Image Size*). Shortcut option: you can use classes from the [TensorFlow Layers](https://www.tensorflow.org/api_docs/python/tf/layers) or [TensorFlow Layers (contrib)](https://www.tensorflow.org/api_guides/python/contrib.layers) packages for this layer. For more of a challenge, only use other TensorFlow packages."
   ]
  },
  {
   "cell_type": "code",
   "execution_count": 117,
   "metadata": {
    "collapsed": false,
    "deletable": true,
    "editable": true
   },
   "outputs": [
    {
     "name": "stdout",
     "output_type": "stream",
     "text": [
      "Tests Passed\n"
     ]
    }
   ],
   "source": [
    "def flatten(x_tensor):\n",
    "    \"\"\"\n",
    "    Flatten x_tensor to (Batch Size, Flattened Image Size)\n",
    "    : x_tensor: A tensor of size (Batch Size, ...), where ... are the image dimensions.\n",
    "    : return: A tensor of size (Batch Size, Flattened Image Size).\n",
    "    \"\"\"\n",
    "    shape = x_tensor.get_shape().as_list()\n",
    "    return tf.reshape(x_tensor, [-1, shape[1] * shape[2] * shape[3]])\n",
    "\n",
    "\n",
    "\"\"\"\n",
    "DON'T MODIFY ANYTHING IN THIS CELL THAT IS BELOW THIS LINE\n",
    "\"\"\"\n",
    "tests.test_flatten(flatten)"
   ]
  },
  {
   "cell_type": "markdown",
   "metadata": {
    "deletable": true,
    "editable": true
   },
   "source": [
    "### Fully-Connected Layer\n",
    "Implement the `fully_conn` function to apply a fully connected layer to `x_tensor` with the shape (*Batch Size*, *num_outputs*). Shortcut option: you can use classes from the [TensorFlow Layers](https://www.tensorflow.org/api_docs/python/tf/layers) or [TensorFlow Layers (contrib)](https://www.tensorflow.org/api_guides/python/contrib.layers) packages for this layer. For more of a challenge, only use other TensorFlow packages."
   ]
  },
  {
   "cell_type": "code",
   "execution_count": 81,
   "metadata": {
    "collapsed": false,
    "deletable": true,
    "editable": true
   },
   "outputs": [
    {
     "name": "stdout",
     "output_type": "stream",
     "text": [
      "Tests Passed\n"
     ]
    }
   ],
   "source": [
    "def fully_conn(x_tensor, num_outputs):\n",
    "    \"\"\"\n",
    "    Apply a fully connected layer to x_tensor using weight and bias\n",
    "    : x_tensor: A 2-D tensor where the first dimension is batch size.\n",
    "    : num_outputs: The number of output that the new tensor should be.\n",
    "    : return: A 2-D tensor where the second dimension is num_outputs.\n",
    "    \"\"\"\n",
    "    num_inputs = x_tensor.get_shape().as_list()[1]\n",
    "    weights = tf.Variable(tf.truncated_normal([num_inputs, num_outputs], stddev=0.1))\n",
    "    bias = tf.Variable(tf.random_normal([num_outputs], stddev=0.1))\n",
    "    return tf.nn.relu(tf.matmul(x_tensor, weights) + bias)\n",
    "\n",
    "\n",
    "\"\"\"\n",
    "DON'T MODIFY ANYTHING IN THIS CELL THAT IS BELOW THIS LINE\n",
    "\"\"\"\n",
    "tests.test_fully_conn(fully_conn)"
   ]
  },
  {
   "cell_type": "markdown",
   "metadata": {
    "deletable": true,
    "editable": true
   },
   "source": [
    "### Output Layer\n",
    "Implement the `output` function to apply a fully connected layer to `x_tensor` with the shape (*Batch Size*, *num_outputs*). Shortcut option: you can use classes from the [TensorFlow Layers](https://www.tensorflow.org/api_docs/python/tf/layers) or [TensorFlow Layers (contrib)](https://www.tensorflow.org/api_guides/python/contrib.layers) packages for this layer. For more of a challenge, only use other TensorFlow packages.\n",
    "\n",
    "**Note:** Activation, softmax, or cross entropy should **not** be applied to this."
   ]
  },
  {
   "cell_type": "code",
   "execution_count": 82,
   "metadata": {
    "collapsed": false,
    "deletable": true,
    "editable": true
   },
   "outputs": [
    {
     "name": "stdout",
     "output_type": "stream",
     "text": [
      "Tests Passed\n"
     ]
    }
   ],
   "source": [
    "def output(x_tensor, num_outputs):\n",
    "    \"\"\"\n",
    "    Apply a output layer to x_tensor using weight and bias\n",
    "    : x_tensor: A 2-D tensor where the first dimension is batch size.\n",
    "    : num_outputs: The number of output that the new tensor should be.\n",
    "    : return: A 2-D tensor where the second dimension is num_outputs.\n",
    "    \"\"\"\n",
    "    num_inputs = x_tensor.get_shape().as_list()[1]\n",
    "    weights = tf.Variable(tf.truncated_normal([num_inputs, num_outputs], stddev=0.1))\n",
    "    bias = tf.Variable(tf.random_normal([num_outputs], stddev=0.1))\n",
    "    return tf.nn.relu(tf.matmul(x_tensor, weights) + bias)\n",
    "\n",
    "\n",
    "\"\"\"\n",
    "DON'T MODIFY ANYTHING IN THIS CELL THAT IS BELOW THIS LINE\n",
    "\"\"\"\n",
    "tests.test_output(output)"
   ]
  },
  {
   "cell_type": "markdown",
   "metadata": {
    "deletable": true,
    "editable": true
   },
   "source": [
    "### Create Convolutional Model\n",
    "Implement the function `conv_net` to create a convolutional neural network model. The function takes in a batch of images, `x`, and outputs logits.  Use the layers you created above to create this model:\n",
    "\n",
    "* Apply 1, 2, or 3 Convolution and Max Pool layers\n",
    "* Apply a Flatten Layer\n",
    "* Apply 1, 2, or 3 Fully Connected Layers\n",
    "* Apply an Output Layer\n",
    "* Return the output\n",
    "* Apply [TensorFlow's Dropout](https://www.tensorflow.org/api_docs/python/tf/nn/dropout) to one or more layers in the model using `keep_prob`. "
   ]
  },
  {
   "cell_type": "code",
   "execution_count": 84,
   "metadata": {
    "collapsed": false,
    "deletable": true,
    "editable": true
   },
   "outputs": [
    {
     "name": "stdout",
     "output_type": "stream",
     "text": [
      "Neural Network Built!\n"
     ]
    }
   ],
   "source": [
    "def conv_net(x, keep_prob):\n",
    "    \"\"\"\n",
    "    Create a convolutional neural network model\n",
    "    : x: Placeholder tensor that holds image data.\n",
    "    : keep_prob: Placeholder tensor that hold dropout keep probability.\n",
    "    : return: Tensor that represents logits\n",
    "    \"\"\"\n",
    "    # TODO: Apply 1, 2, or 3 Convolution and Max Pool layers\n",
    "    #    Play around with different number of outputs, kernel size and stride\n",
    "    # Function Definition from Above:\n",
    "    #    conv2d_maxpool(x_tensor, conv_num_outputs, conv_ksize, conv_strides, pool_ksize, pool_strides)\n",
    "    conv1 = conv2d_maxpool(x, 6, [5, 5], [1, 1], [2, 2], [2, 2])\n",
    "    conv2 = conv2d_maxpool(conv1, 16, [5, 5], [1, 1], [2, 2], [2, 2])\n",
    "    \n",
    "\n",
    "    # TODO: Apply a Flatten Layer\n",
    "    # Function Definition from Above:\n",
    "    #   flatten(x_tensor)\n",
    "    flatten_out = flatten(conv2)\n",
    "    \n",
    "\n",
    "    # TODO: Apply 1, 2, or 3 Fully Connected Layers\n",
    "    #    Play around with different number of outputs\n",
    "    # Function Definition from Above:\n",
    "    #   fully_conn(x_tensor, num_outputs)\n",
    "    fc1 = fully_conn(flatten_out, 120)\n",
    "    drop_out1 = tf.nn.dropout(fc1, keep_prob)\n",
    "    \n",
    "    fc2 = fully_conn(drop_out1, 84)\n",
    "    drop_out2 = tf.nn.dropout(fc2, keep_prob)\n",
    "    \n",
    "    \n",
    "    # TODO: Apply an Output Layer\n",
    "    #    Set this to the number of classes\n",
    "    # Function Definition from Above:\n",
    "    #   output(x_tensor, num_outputs)\n",
    "    out = output(drop_out2, 10)\n",
    "    \n",
    "    return out\n",
    "\n",
    "\n",
    "\"\"\"\n",
    "DON'T MODIFY ANYTHING IN THIS CELL THAT IS BELOW THIS LINE\n",
    "\"\"\"\n",
    "\n",
    "##############################\n",
    "## Build the Neural Network ##\n",
    "##############################\n",
    "\n",
    "# Remove previous weights, bias, inputs, etc..\n",
    "tf.reset_default_graph()\n",
    "\n",
    "# Inputs\n",
    "x = neural_net_image_input((32, 32, 3))\n",
    "y = neural_net_label_input(10)\n",
    "keep_prob = neural_net_keep_prob_input()\n",
    "\n",
    "# Model\n",
    "logits = conv_net(x, keep_prob)\n",
    "\n",
    "# Name logits Tensor, so that is can be loaded from disk after training\n",
    "logits = tf.identity(logits, name='logits')\n",
    "\n",
    "# Loss and Optimizer\n",
    "cost = tf.reduce_mean(tf.nn.softmax_cross_entropy_with_logits(logits=logits, labels=y))\n",
    "optimizer = tf.train.AdamOptimizer().minimize(cost)\n",
    "\n",
    "# Accuracy\n",
    "correct_pred = tf.equal(tf.argmax(logits, 1), tf.argmax(y, 1))\n",
    "accuracy = tf.reduce_mean(tf.cast(correct_pred, tf.float32), name='accuracy')\n",
    "\n",
    "tests.test_conv_net(conv_net)"
   ]
  },
  {
   "cell_type": "markdown",
   "metadata": {
    "deletable": true,
    "editable": true
   },
   "source": [
    "## Train the Neural Network\n",
    "### Single Optimization\n",
    "Implement the function `train_neural_network` to do a single optimization.  The optimization should use `optimizer` to optimize in `session` with a `feed_dict` of the following:\n",
    "* `x` for image input\n",
    "* `y` for labels\n",
    "* `keep_prob` for keep probability for dropout\n",
    "\n",
    "This function will be called for each batch, so `tf.global_variables_initializer()` has already been called.\n",
    "\n",
    "Note: Nothing needs to be returned. This function is only optimizing the neural network."
   ]
  },
  {
   "cell_type": "code",
   "execution_count": 86,
   "metadata": {
    "collapsed": false,
    "deletable": true,
    "editable": true
   },
   "outputs": [
    {
     "name": "stdout",
     "output_type": "stream",
     "text": [
      "Tests Passed\n"
     ]
    }
   ],
   "source": [
    "def train_neural_network(session, optimizer, keep_probability, feature_batch, label_batch):\n",
    "    \"\"\"\n",
    "    Optimize the session on a batch of images and labels\n",
    "    : session: Current TensorFlow session\n",
    "    : optimizer: TensorFlow optimizer function\n",
    "    : keep_probability: keep probability\n",
    "    : feature_batch: Batch of Numpy image data\n",
    "    : label_batch: Batch of Numpy label data\n",
    "    \"\"\"\n",
    "    session.run(optimizer, feed_dict={x: feature_batch, y: label_batch, keep_prob: keep_probability}) \n",
    "    \n",
    "\n",
    "\n",
    "\"\"\"\n",
    "DON'T MODIFY ANYTHING IN THIS CELL THAT IS BELOW THIS LINE\n",
    "\"\"\"\n",
    "tests.test_train_nn(train_neural_network)"
   ]
  },
  {
   "cell_type": "markdown",
   "metadata": {
    "deletable": true,
    "editable": true
   },
   "source": [
    "### Show Stats\n",
    "Implement the function `print_stats` to print loss and validation accuracy.  Use the global variables `valid_features` and `valid_labels` to calculate validation accuracy.  Use a keep probability of `1.0` to calculate the loss and validation accuracy."
   ]
  },
  {
   "cell_type": "code",
   "execution_count": 87,
   "metadata": {
    "collapsed": false,
    "deletable": true,
    "editable": true
   },
   "outputs": [],
   "source": [
    "def print_stats(session, feature_batch, label_batch, cost, accuracy):\n",
    "    \"\"\"\n",
    "    Print information about loss and validation accuracy\n",
    "    : session: Current TensorFlow session\n",
    "    : feature_batch: Batch of Numpy image data\n",
    "    : label_batch: Batch of Numpy label data\n",
    "    : cost: TensorFlow cost function\n",
    "    : accuracy: TensorFlow accuracy function\n",
    "    \"\"\"\n",
    "    loss, validation_accuracy = session.run([cost, accuracy], feed_dict={x: feature_batch, y: label_batch, keep_prob: 1.0})\n",
    "    print(\"The loss is %.9f, and the validation accuracy is %.3f\" % (loss, validation_accuracy))"
   ]
  },
  {
   "cell_type": "markdown",
   "metadata": {
    "deletable": true,
    "editable": true
   },
   "source": [
    "### Hyperparameters\n",
    "Tune the following parameters:\n",
    "* Set `epochs` to the number of iterations until the network stops learning or start overfitting\n",
    "* Set `batch_size` to the highest number that your machine has memory for.  Most people set them to common sizes of memory:\n",
    " * 64\n",
    " * 128\n",
    " * 256\n",
    " * ...\n",
    "* Set `keep_probability` to the probability of keeping a node using dropout"
   ]
  },
  {
   "cell_type": "code",
   "execution_count": 94,
   "metadata": {
    "collapsed": true,
    "deletable": true,
    "editable": true
   },
   "outputs": [],
   "source": [
    "# TODO: Tune Parameters\n",
    "epochs = 40\n",
    "batch_size = 128\n",
    "keep_probability = 0.9"
   ]
  },
  {
   "cell_type": "markdown",
   "metadata": {
    "deletable": true,
    "editable": true
   },
   "source": [
    "### Train on a Single CIFAR-10 Batch\n",
    "Instead of training the neural network on all the CIFAR-10 batches of data, let's use a single batch. This should save time while you iterate on the model to get a better accuracy.  Once the final validation accuracy is 50% or greater, run the model on all the data in the next section."
   ]
  },
  {
   "cell_type": "code",
   "execution_count": 93,
   "metadata": {
    "collapsed": false,
    "deletable": true,
    "editable": true
   },
   "outputs": [
    {
     "name": "stdout",
     "output_type": "stream",
     "text": [
      "Checking the Training on a Single Batch...\n",
      "Epoch  1, CIFAR-10 Batch 1:  The loss is 2.205614567, and the validation accuracy is 0.150\n",
      "Epoch  2, CIFAR-10 Batch 1:  The loss is 2.102851629, and the validation accuracy is 0.275\n",
      "Epoch  3, CIFAR-10 Batch 1:  The loss is 1.918227792, and the validation accuracy is 0.300\n",
      "Epoch  4, CIFAR-10 Batch 1:  The loss is 1.849531174, and the validation accuracy is 0.375\n",
      "Epoch  5, CIFAR-10 Batch 1:  The loss is 1.754915595, and the validation accuracy is 0.425\n",
      "Epoch  6, CIFAR-10 Batch 1:  The loss is 1.677902579, and the validation accuracy is 0.475\n",
      "Epoch  7, CIFAR-10 Batch 1:  The loss is 1.607689142, and the validation accuracy is 0.475\n",
      "Epoch  8, CIFAR-10 Batch 1:  The loss is 1.510264635, and the validation accuracy is 0.525\n",
      "Epoch  9, CIFAR-10 Batch 1:  The loss is 1.465311289, and the validation accuracy is 0.575\n",
      "Epoch 10, CIFAR-10 Batch 1:  The loss is 1.417832613, and the validation accuracy is 0.600\n",
      "Epoch 11, CIFAR-10 Batch 1:  The loss is 1.334912062, and the validation accuracy is 0.625\n",
      "Epoch 12, CIFAR-10 Batch 1:  The loss is 1.279134393, and the validation accuracy is 0.600\n",
      "Epoch 13, CIFAR-10 Batch 1:  The loss is 1.240134954, and the validation accuracy is 0.625\n",
      "Epoch 14, CIFAR-10 Batch 1:  The loss is 1.177537203, and the validation accuracy is 0.650\n",
      "Epoch 15, CIFAR-10 Batch 1:  The loss is 1.064319849, and the validation accuracy is 0.650\n",
      "Epoch 16, CIFAR-10 Batch 1:  The loss is 1.052527070, and the validation accuracy is 0.650\n",
      "Epoch 17, CIFAR-10 Batch 1:  The loss is 0.969011664, and the validation accuracy is 0.675\n",
      "Epoch 18, CIFAR-10 Batch 1:  The loss is 0.954311073, and the validation accuracy is 0.700\n",
      "Epoch 19, CIFAR-10 Batch 1:  The loss is 0.910253704, and the validation accuracy is 0.675\n",
      "Epoch 20, CIFAR-10 Batch 1:  The loss is 0.854427814, and the validation accuracy is 0.675\n",
      "Epoch 21, CIFAR-10 Batch 1:  The loss is 0.818525314, and the validation accuracy is 0.800\n",
      "Epoch 22, CIFAR-10 Batch 1:  The loss is 0.800353825, and the validation accuracy is 0.775\n",
      "Epoch 23, CIFAR-10 Batch 1:  The loss is 0.740966439, and the validation accuracy is 0.800\n",
      "Epoch 24, CIFAR-10 Batch 1:  The loss is 0.679994822, and the validation accuracy is 0.775\n",
      "Epoch 25, CIFAR-10 Batch 1:  The loss is 0.627011180, and the validation accuracy is 0.800\n",
      "Epoch 26, CIFAR-10 Batch 1:  The loss is 0.581683397, and the validation accuracy is 0.875\n",
      "Epoch 27, CIFAR-10 Batch 1:  The loss is 0.554226995, and the validation accuracy is 0.900\n",
      "Epoch 28, CIFAR-10 Batch 1:  The loss is 0.483546346, and the validation accuracy is 0.925\n",
      "Epoch 29, CIFAR-10 Batch 1:  The loss is 0.488912195, and the validation accuracy is 0.875\n",
      "Epoch 30, CIFAR-10 Batch 1:  The loss is 0.459037393, and the validation accuracy is 0.925\n",
      "Epoch 31, CIFAR-10 Batch 1:  The loss is 0.412127972, and the validation accuracy is 0.925\n",
      "Epoch 32, CIFAR-10 Batch 1:  The loss is 0.369721323, and the validation accuracy is 0.925\n",
      "Epoch 33, CIFAR-10 Batch 1:  The loss is 0.331929237, and the validation accuracy is 0.925\n",
      "Epoch 34, CIFAR-10 Batch 1:  The loss is 0.331100404, and the validation accuracy is 0.925\n",
      "Epoch 35, CIFAR-10 Batch 1:  The loss is 0.342798948, and the validation accuracy is 0.975\n",
      "Epoch 36, CIFAR-10 Batch 1:  The loss is 0.342208713, and the validation accuracy is 0.950\n",
      "Epoch 37, CIFAR-10 Batch 1:  The loss is 0.303070694, and the validation accuracy is 0.975\n",
      "Epoch 38, CIFAR-10 Batch 1:  The loss is 0.281831294, and the validation accuracy is 0.950\n",
      "Epoch 39, CIFAR-10 Batch 1:  The loss is 0.286435455, and the validation accuracy is 0.975\n",
      "Epoch 40, CIFAR-10 Batch 1:  The loss is 0.267298788, and the validation accuracy is 0.975\n",
      "Epoch 41, CIFAR-10 Batch 1:  The loss is 0.255657047, and the validation accuracy is 0.975\n",
      "Epoch 42, CIFAR-10 Batch 1:  The loss is 0.238596648, and the validation accuracy is 0.975\n",
      "Epoch 43, CIFAR-10 Batch 1:  The loss is 0.202808052, and the validation accuracy is 1.000\n",
      "Epoch 44, CIFAR-10 Batch 1:  The loss is 0.224304408, and the validation accuracy is 1.000\n",
      "Epoch 45, CIFAR-10 Batch 1:  The loss is 0.194094449, and the validation accuracy is 1.000\n",
      "Epoch 46, CIFAR-10 Batch 1:  The loss is 0.242382914, and the validation accuracy is 0.975\n",
      "Epoch 47, CIFAR-10 Batch 1:  The loss is 0.223567039, and the validation accuracy is 0.975\n",
      "Epoch 48, CIFAR-10 Batch 1:  The loss is 0.168722078, and the validation accuracy is 1.000\n",
      "Epoch 49, CIFAR-10 Batch 1:  The loss is 0.175340295, and the validation accuracy is 1.000\n",
      "Epoch 50, CIFAR-10 Batch 1:  The loss is 0.157182410, and the validation accuracy is 1.000\n"
     ]
    }
   ],
   "source": [
    "\"\"\"\n",
    "DON'T MODIFY ANYTHING IN THIS CELL\n",
    "\"\"\"\n",
    "print('Checking the Training on a Single Batch...')\n",
    "with tf.Session() as sess:\n",
    "    # Initializing the variables\n",
    "    sess.run(tf.global_variables_initializer())\n",
    "    \n",
    "    # Training cycle\n",
    "    for epoch in range(epochs):\n",
    "        batch_i = 1\n",
    "        for batch_features, batch_labels in helper.load_preprocess_training_batch(batch_i, batch_size):\n",
    "            train_neural_network(sess, optimizer, keep_probability, batch_features, batch_labels)\n",
    "        print('Epoch {:>2}, CIFAR-10 Batch {}:  '.format(epoch + 1, batch_i), end='')\n",
    "        print_stats(sess, batch_features, batch_labels, cost, accuracy)"
   ]
  },
  {
   "cell_type": "markdown",
   "metadata": {
    "deletable": true,
    "editable": true
   },
   "source": [
    "### Fully Train the Model\n",
    "Now that you got a good accuracy with a single CIFAR-10 batch, try it with all five batches."
   ]
  },
  {
   "cell_type": "code",
   "execution_count": 95,
   "metadata": {
    "collapsed": false,
    "deletable": true,
    "editable": true
   },
   "outputs": [
    {
     "name": "stdout",
     "output_type": "stream",
     "text": [
      "Training...\n",
      "Epoch  1, CIFAR-10 Batch 1:  The loss is 2.241920233, and the validation accuracy is 0.225\n",
      "Epoch  1, CIFAR-10 Batch 2:  The loss is 2.195582867, and the validation accuracy is 0.250\n",
      "Epoch  1, CIFAR-10 Batch 3:  The loss is 2.106560230, and the validation accuracy is 0.250\n",
      "Epoch  1, CIFAR-10 Batch 4:  The loss is 2.061726809, and the validation accuracy is 0.250\n",
      "Epoch  1, CIFAR-10 Batch 5:  The loss is 2.057484865, and the validation accuracy is 0.350\n",
      "Epoch  2, CIFAR-10 Batch 1:  The loss is 1.914658785, and the validation accuracy is 0.325\n",
      "Epoch  2, CIFAR-10 Batch 2:  The loss is 2.109133482, and the validation accuracy is 0.325\n",
      "Epoch  2, CIFAR-10 Batch 3:  The loss is 2.004533291, and the validation accuracy is 0.375\n",
      "Epoch  2, CIFAR-10 Batch 4:  The loss is 1.960650086, and the validation accuracy is 0.325\n",
      "Epoch  2, CIFAR-10 Batch 5:  The loss is 1.973466158, and the validation accuracy is 0.375\n",
      "Epoch  3, CIFAR-10 Batch 1:  The loss is 1.823814392, and the validation accuracy is 0.350\n",
      "Epoch  3, CIFAR-10 Batch 2:  The loss is 1.979780555, and the validation accuracy is 0.350\n",
      "Epoch  3, CIFAR-10 Batch 3:  The loss is 1.916055679, and the validation accuracy is 0.400\n",
      "Epoch  3, CIFAR-10 Batch 4:  The loss is 1.921249986, and the validation accuracy is 0.400\n",
      "Epoch  3, CIFAR-10 Batch 5:  The loss is 1.899495363, and the validation accuracy is 0.375\n",
      "Epoch  4, CIFAR-10 Batch 1:  The loss is 1.751379013, and the validation accuracy is 0.375\n",
      "Epoch  4, CIFAR-10 Batch 2:  The loss is 1.847740531, and the validation accuracy is 0.400\n",
      "Epoch  4, CIFAR-10 Batch 3:  The loss is 1.845513344, and the validation accuracy is 0.400\n",
      "Epoch  4, CIFAR-10 Batch 4:  The loss is 1.783391595, and the validation accuracy is 0.500\n",
      "Epoch  4, CIFAR-10 Batch 5:  The loss is 1.825798750, and the validation accuracy is 0.425\n",
      "Epoch  5, CIFAR-10 Batch 1:  The loss is 1.672340035, and the validation accuracy is 0.450\n",
      "Epoch  5, CIFAR-10 Batch 2:  The loss is 1.776325822, and the validation accuracy is 0.425\n",
      "Epoch  5, CIFAR-10 Batch 3:  The loss is 1.798146844, and the validation accuracy is 0.325\n",
      "Epoch  5, CIFAR-10 Batch 4:  The loss is 1.707124949, and the validation accuracy is 0.425\n",
      "Epoch  5, CIFAR-10 Batch 5:  The loss is 1.758762598, and the validation accuracy is 0.500\n",
      "Epoch  6, CIFAR-10 Batch 1:  The loss is 1.623546004, and the validation accuracy is 0.450\n",
      "Epoch  6, CIFAR-10 Batch 2:  The loss is 1.704647422, and the validation accuracy is 0.425\n",
      "Epoch  6, CIFAR-10 Batch 3:  The loss is 1.747407556, and the validation accuracy is 0.400\n",
      "Epoch  6, CIFAR-10 Batch 4:  The loss is 1.641213655, and the validation accuracy is 0.500\n",
      "Epoch  6, CIFAR-10 Batch 5:  The loss is 1.691993952, and the validation accuracy is 0.550\n",
      "Epoch  7, CIFAR-10 Batch 1:  The loss is 1.572247744, and the validation accuracy is 0.500\n",
      "Epoch  7, CIFAR-10 Batch 2:  The loss is 1.647560358, and the validation accuracy is 0.425\n",
      "Epoch  7, CIFAR-10 Batch 3:  The loss is 1.676980257, and the validation accuracy is 0.425\n",
      "Epoch  7, CIFAR-10 Batch 4:  The loss is 1.588582754, and the validation accuracy is 0.500\n",
      "Epoch  7, CIFAR-10 Batch 5:  The loss is 1.627810478, and the validation accuracy is 0.550\n",
      "Epoch  8, CIFAR-10 Batch 1:  The loss is 1.496552229, and the validation accuracy is 0.475\n",
      "Epoch  8, CIFAR-10 Batch 2:  The loss is 1.608936310, and the validation accuracy is 0.425\n",
      "Epoch  8, CIFAR-10 Batch 3:  The loss is 1.556423187, and the validation accuracy is 0.500\n",
      "Epoch  8, CIFAR-10 Batch 4:  The loss is 1.486038208, and the validation accuracy is 0.550\n",
      "Epoch  8, CIFAR-10 Batch 5:  The loss is 1.589530706, and the validation accuracy is 0.550\n",
      "Epoch  9, CIFAR-10 Batch 1:  The loss is 1.446033835, and the validation accuracy is 0.500\n",
      "Epoch  9, CIFAR-10 Batch 2:  The loss is 1.557723522, and the validation accuracy is 0.475\n",
      "Epoch  9, CIFAR-10 Batch 3:  The loss is 1.481122375, and the validation accuracy is 0.550\n",
      "Epoch  9, CIFAR-10 Batch 4:  The loss is 1.493232012, and the validation accuracy is 0.575\n",
      "Epoch  9, CIFAR-10 Batch 5:  The loss is 1.521607399, and the validation accuracy is 0.550\n",
      "Epoch 10, CIFAR-10 Batch 1:  The loss is 1.425468206, and the validation accuracy is 0.500\n",
      "Epoch 10, CIFAR-10 Batch 2:  The loss is 1.511355758, and the validation accuracy is 0.475\n",
      "Epoch 10, CIFAR-10 Batch 3:  The loss is 1.459625483, and the validation accuracy is 0.550\n",
      "Epoch 10, CIFAR-10 Batch 4:  The loss is 1.419862986, and the validation accuracy is 0.575\n",
      "Epoch 10, CIFAR-10 Batch 5:  The loss is 1.498598337, and the validation accuracy is 0.575\n",
      "Epoch 11, CIFAR-10 Batch 1:  The loss is 1.426241994, and the validation accuracy is 0.500\n",
      "Epoch 11, CIFAR-10 Batch 2:  The loss is 1.440289617, and the validation accuracy is 0.500\n",
      "Epoch 11, CIFAR-10 Batch 3:  The loss is 1.391936660, and the validation accuracy is 0.600\n",
      "Epoch 11, CIFAR-10 Batch 4:  The loss is 1.344956756, and the validation accuracy is 0.625\n",
      "Epoch 11, CIFAR-10 Batch 5:  The loss is 1.448951721, and the validation accuracy is 0.575\n",
      "Epoch 12, CIFAR-10 Batch 1:  The loss is 1.387593508, and the validation accuracy is 0.525\n",
      "Epoch 12, CIFAR-10 Batch 2:  The loss is 1.426269770, and the validation accuracy is 0.550\n",
      "Epoch 12, CIFAR-10 Batch 3:  The loss is 1.320927143, and the validation accuracy is 0.650\n",
      "Epoch 12, CIFAR-10 Batch 4:  The loss is 1.324906230, and the validation accuracy is 0.650\n",
      "Epoch 12, CIFAR-10 Batch 5:  The loss is 1.406841636, and the validation accuracy is 0.550\n",
      "Epoch 13, CIFAR-10 Batch 1:  The loss is 1.335536718, and the validation accuracy is 0.600\n",
      "Epoch 13, CIFAR-10 Batch 2:  The loss is 1.408547163, and the validation accuracy is 0.525\n",
      "Epoch 13, CIFAR-10 Batch 3:  The loss is 1.295369387, and the validation accuracy is 0.650\n",
      "Epoch 13, CIFAR-10 Batch 4:  The loss is 1.254670620, and the validation accuracy is 0.650\n",
      "Epoch 13, CIFAR-10 Batch 5:  The loss is 1.364698410, and the validation accuracy is 0.575\n",
      "Epoch 14, CIFAR-10 Batch 1:  The loss is 1.294185400, and the validation accuracy is 0.575\n",
      "Epoch 14, CIFAR-10 Batch 2:  The loss is 1.357374668, and the validation accuracy is 0.525\n",
      "Epoch 14, CIFAR-10 Batch 3:  The loss is 1.237069845, and the validation accuracy is 0.625\n",
      "Epoch 14, CIFAR-10 Batch 4:  The loss is 1.230066061, and the validation accuracy is 0.650\n",
      "Epoch 14, CIFAR-10 Batch 5:  The loss is 1.342882872, and the validation accuracy is 0.625\n",
      "Epoch 15, CIFAR-10 Batch 1:  The loss is 1.269203424, and the validation accuracy is 0.575\n",
      "Epoch 15, CIFAR-10 Batch 2:  The loss is 1.304679513, and the validation accuracy is 0.550\n",
      "Epoch 15, CIFAR-10 Batch 3:  The loss is 1.209292054, and the validation accuracy is 0.650\n",
      "Epoch 15, CIFAR-10 Batch 4:  The loss is 1.213016272, and the validation accuracy is 0.650\n",
      "Epoch 15, CIFAR-10 Batch 5:  The loss is 1.301860094, and the validation accuracy is 0.600\n",
      "Epoch 16, CIFAR-10 Batch 1:  The loss is 1.250144005, and the validation accuracy is 0.575\n",
      "Epoch 16, CIFAR-10 Batch 2:  The loss is 1.282497406, and the validation accuracy is 0.525\n",
      "Epoch 16, CIFAR-10 Batch 3:  The loss is 1.191676855, and the validation accuracy is 0.650\n",
      "Epoch 16, CIFAR-10 Batch 4:  The loss is 1.177267551, and the validation accuracy is 0.675\n",
      "Epoch 16, CIFAR-10 Batch 5:  The loss is 1.280861497, and the validation accuracy is 0.600\n",
      "Epoch 17, CIFAR-10 Batch 1:  The loss is 1.268401861, and the validation accuracy is 0.600\n",
      "Epoch 17, CIFAR-10 Batch 2:  The loss is 1.264756441, and the validation accuracy is 0.575\n",
      "Epoch 17, CIFAR-10 Batch 3:  The loss is 1.160276413, and the validation accuracy is 0.650\n",
      "Epoch 17, CIFAR-10 Batch 4:  The loss is 1.164636970, and the validation accuracy is 0.675\n",
      "Epoch 17, CIFAR-10 Batch 5:  The loss is 1.251948476, and the validation accuracy is 0.625\n",
      "Epoch 18, CIFAR-10 Batch 1:  The loss is 1.245108724, and the validation accuracy is 0.575\n",
      "Epoch 18, CIFAR-10 Batch 2:  The loss is 1.214645267, and the validation accuracy is 0.625\n",
      "Epoch 18, CIFAR-10 Batch 3:  The loss is 1.175311089, and the validation accuracy is 0.650\n",
      "Epoch 18, CIFAR-10 Batch 4:  The loss is 1.159808636, and the validation accuracy is 0.700\n",
      "Epoch 18, CIFAR-10 Batch 5:  The loss is 1.214780569, and the validation accuracy is 0.600\n",
      "Epoch 19, CIFAR-10 Batch 1:  The loss is 1.221294761, and the validation accuracy is 0.575\n",
      "Epoch 19, CIFAR-10 Batch 2:  The loss is 1.195837736, and the validation accuracy is 0.600\n",
      "Epoch 19, CIFAR-10 Batch 3:  The loss is 1.113199353, and the validation accuracy is 0.650\n",
      "Epoch 19, CIFAR-10 Batch 4:  The loss is 1.129055858, and the validation accuracy is 0.700\n",
      "Epoch 19, CIFAR-10 Batch 5:  The loss is 1.189908624, and the validation accuracy is 0.600\n",
      "Epoch 20, CIFAR-10 Batch 1:  The loss is 1.208535194, and the validation accuracy is 0.575\n",
      "Epoch 20, CIFAR-10 Batch 2:  The loss is 1.177981973, and the validation accuracy is 0.625\n",
      "Epoch 20, CIFAR-10 Batch 3:  The loss is 1.106403947, and the validation accuracy is 0.650\n",
      "Epoch 20, CIFAR-10 Batch 4:  The loss is 1.093649268, and the validation accuracy is 0.725\n",
      "Epoch 20, CIFAR-10 Batch 5:  The loss is 1.165024400, and the validation accuracy is 0.650\n",
      "Epoch 21, CIFAR-10 Batch 1:  The loss is 1.193489432, and the validation accuracy is 0.550\n",
      "Epoch 21, CIFAR-10 Batch 2:  The loss is 1.145272493, and the validation accuracy is 0.625\n",
      "Epoch 21, CIFAR-10 Batch 3:  The loss is 1.103082299, and the validation accuracy is 0.650\n",
      "Epoch 21, CIFAR-10 Batch 4:  The loss is 1.067495584, and the validation accuracy is 0.700\n",
      "Epoch 21, CIFAR-10 Batch 5:  The loss is 1.157078505, and the validation accuracy is 0.625\n",
      "Epoch 22, CIFAR-10 Batch 1:  The loss is 1.192199707, and the validation accuracy is 0.575\n",
      "Epoch 22, CIFAR-10 Batch 2:  The loss is 1.124069929, and the validation accuracy is 0.650\n",
      "Epoch 22, CIFAR-10 Batch 3:  The loss is 1.134075403, and the validation accuracy is 0.675\n",
      "Epoch 22, CIFAR-10 Batch 4:  The loss is 1.061657906, and the validation accuracy is 0.700\n",
      "Epoch 22, CIFAR-10 Batch 5:  The loss is 1.184967399, and the validation accuracy is 0.625\n",
      "Epoch 23, CIFAR-10 Batch 1:  The loss is 1.174772024, and the validation accuracy is 0.600\n",
      "Epoch 23, CIFAR-10 Batch 2:  The loss is 1.116483092, and the validation accuracy is 0.650\n",
      "Epoch 23, CIFAR-10 Batch 3:  The loss is 1.116662264, and the validation accuracy is 0.625\n",
      "Epoch 23, CIFAR-10 Batch 4:  The loss is 1.026716590, and the validation accuracy is 0.725\n",
      "Epoch 23, CIFAR-10 Batch 5:  The loss is 1.166615725, and the validation accuracy is 0.675\n",
      "Epoch 24, CIFAR-10 Batch 1:  The loss is 1.143287420, and the validation accuracy is 0.600\n",
      "Epoch 24, CIFAR-10 Batch 2:  The loss is 1.052667022, and the validation accuracy is 0.650\n",
      "Epoch 24, CIFAR-10 Batch 3:  The loss is 1.073639870, and the validation accuracy is 0.675\n",
      "Epoch 24, CIFAR-10 Batch 4:  The loss is 1.004804850, and the validation accuracy is 0.700\n",
      "Epoch 24, CIFAR-10 Batch 5:  The loss is 1.118005991, and the validation accuracy is 0.675\n",
      "Epoch 25, CIFAR-10 Batch 1:  The loss is 1.152932167, and the validation accuracy is 0.650\n",
      "Epoch 25, CIFAR-10 Batch 2:  The loss is 1.054029107, and the validation accuracy is 0.625\n",
      "Epoch 25, CIFAR-10 Batch 3:  The loss is 1.078705072, and the validation accuracy is 0.700\n",
      "Epoch 25, CIFAR-10 Batch 4:  The loss is 0.998675823, and the validation accuracy is 0.725\n",
      "Epoch 25, CIFAR-10 Batch 5:  The loss is 1.117303133, and the validation accuracy is 0.675\n",
      "Epoch 26, CIFAR-10 Batch 1:  The loss is 1.147867203, and the validation accuracy is 0.625\n",
      "Epoch 26, CIFAR-10 Batch 2:  The loss is 1.024809718, and the validation accuracy is 0.650\n",
      "Epoch 26, CIFAR-10 Batch 3:  The loss is 1.038751960, and the validation accuracy is 0.650\n",
      "Epoch 26, CIFAR-10 Batch 4:  The loss is 1.012961388, and the validation accuracy is 0.700\n",
      "Epoch 26, CIFAR-10 Batch 5:  The loss is 1.135703325, and the validation accuracy is 0.675\n",
      "Epoch 27, CIFAR-10 Batch 1:  The loss is 1.123190999, and the validation accuracy is 0.650\n",
      "Epoch 27, CIFAR-10 Batch 2:  The loss is 1.005596280, and the validation accuracy is 0.650\n",
      "Epoch 27, CIFAR-10 Batch 3:  The loss is 1.047801256, and the validation accuracy is 0.625\n",
      "Epoch 27, CIFAR-10 Batch 4:  The loss is 0.994084537, and the validation accuracy is 0.725\n",
      "Epoch 27, CIFAR-10 Batch 5:  The loss is 1.096992016, and the validation accuracy is 0.675\n",
      "Epoch 28, CIFAR-10 Batch 1:  The loss is 1.109071016, and the validation accuracy is 0.650\n",
      "Epoch 28, CIFAR-10 Batch 2:  The loss is 0.997172356, and the validation accuracy is 0.700\n",
      "Epoch 28, CIFAR-10 Batch 3:  The loss is 1.038926840, and the validation accuracy is 0.675\n",
      "Epoch 28, CIFAR-10 Batch 4:  The loss is 0.974918962, and the validation accuracy is 0.725\n",
      "Epoch 28, CIFAR-10 Batch 5:  The loss is 1.082842588, and the validation accuracy is 0.675\n",
      "Epoch 29, CIFAR-10 Batch 1:  The loss is 1.087801456, and the validation accuracy is 0.650\n",
      "Epoch 29, CIFAR-10 Batch 2:  The loss is 0.960930467, and the validation accuracy is 0.700\n",
      "Epoch 29, CIFAR-10 Batch 3:  The loss is 1.024774194, and the validation accuracy is 0.650\n",
      "Epoch 29, CIFAR-10 Batch 4:  The loss is 0.942340195, and the validation accuracy is 0.725\n",
      "Epoch 29, CIFAR-10 Batch 5:  The loss is 1.066011786, and the validation accuracy is 0.675\n",
      "Epoch 30, CIFAR-10 Batch 1:  The loss is 1.064392328, and the validation accuracy is 0.625\n",
      "Epoch 30, CIFAR-10 Batch 2:  The loss is 0.940333724, and the validation accuracy is 0.700\n",
      "Epoch 30, CIFAR-10 Batch 3:  The loss is 1.007100701, and the validation accuracy is 0.700\n",
      "Epoch 30, CIFAR-10 Batch 4:  The loss is 0.913741112, and the validation accuracy is 0.725\n",
      "Epoch 30, CIFAR-10 Batch 5:  The loss is 1.074620843, and the validation accuracy is 0.675\n",
      "Epoch 31, CIFAR-10 Batch 1:  The loss is 1.045488596, and the validation accuracy is 0.625\n",
      "Epoch 31, CIFAR-10 Batch 2:  The loss is 0.927046955, and the validation accuracy is 0.700\n",
      "Epoch 31, CIFAR-10 Batch 3:  The loss is 1.005740762, and the validation accuracy is 0.675\n",
      "Epoch 31, CIFAR-10 Batch 4:  The loss is 0.867413878, and the validation accuracy is 0.750\n",
      "Epoch 31, CIFAR-10 Batch 5:  The loss is 1.051616311, and the validation accuracy is 0.700\n",
      "Epoch 32, CIFAR-10 Batch 1:  The loss is 1.056773543, and the validation accuracy is 0.700\n",
      "Epoch 32, CIFAR-10 Batch 2:  The loss is 0.900734544, and the validation accuracy is 0.725\n",
      "Epoch 32, CIFAR-10 Batch 3:  The loss is 1.026373029, and the validation accuracy is 0.700\n",
      "Epoch 32, CIFAR-10 Batch 4:  The loss is 0.891610503, and the validation accuracy is 0.725\n",
      "Epoch 32, CIFAR-10 Batch 5:  The loss is 1.064996481, and the validation accuracy is 0.700\n",
      "Epoch 33, CIFAR-10 Batch 1:  The loss is 1.052024007, and the validation accuracy is 0.600\n",
      "Epoch 33, CIFAR-10 Batch 2:  The loss is 0.905823886, and the validation accuracy is 0.725\n",
      "Epoch 33, CIFAR-10 Batch 3:  The loss is 1.011413455, and the validation accuracy is 0.700\n",
      "Epoch 33, CIFAR-10 Batch 4:  The loss is 0.872279763, and the validation accuracy is 0.800\n",
      "Epoch 33, CIFAR-10 Batch 5:  The loss is 1.020572305, and the validation accuracy is 0.700\n",
      "Epoch 34, CIFAR-10 Batch 1:  The loss is 1.030632019, and the validation accuracy is 0.675\n",
      "Epoch 34, CIFAR-10 Batch 2:  The loss is 0.841466129, and the validation accuracy is 0.750\n",
      "Epoch 34, CIFAR-10 Batch 3:  The loss is 0.997471213, and the validation accuracy is 0.700\n",
      "Epoch 34, CIFAR-10 Batch 4:  The loss is 0.858896911, and the validation accuracy is 0.775\n",
      "Epoch 34, CIFAR-10 Batch 5:  The loss is 1.028212190, and the validation accuracy is 0.725\n",
      "Epoch 35, CIFAR-10 Batch 1:  The loss is 1.023397923, and the validation accuracy is 0.650\n",
      "Epoch 35, CIFAR-10 Batch 2:  The loss is 0.806568325, and the validation accuracy is 0.750\n",
      "Epoch 35, CIFAR-10 Batch 3:  The loss is 0.986667454, and the validation accuracy is 0.675\n",
      "Epoch 35, CIFAR-10 Batch 4:  The loss is 0.853245139, and the validation accuracy is 0.750\n",
      "Epoch 35, CIFAR-10 Batch 5:  The loss is 1.004165649, and the validation accuracy is 0.725\n",
      "Epoch 36, CIFAR-10 Batch 1:  The loss is 1.016760111, and the validation accuracy is 0.650\n",
      "Epoch 36, CIFAR-10 Batch 2:  The loss is 0.840358853, and the validation accuracy is 0.750\n",
      "Epoch 36, CIFAR-10 Batch 3:  The loss is 1.012527227, and the validation accuracy is 0.675\n",
      "Epoch 36, CIFAR-10 Batch 4:  The loss is 0.836040974, and the validation accuracy is 0.800\n",
      "Epoch 36, CIFAR-10 Batch 5:  The loss is 1.027726889, and the validation accuracy is 0.725\n",
      "Epoch 37, CIFAR-10 Batch 1:  The loss is 1.009761095, and the validation accuracy is 0.650\n",
      "Epoch 37, CIFAR-10 Batch 2:  The loss is 0.823036551, and the validation accuracy is 0.750\n",
      "Epoch 37, CIFAR-10 Batch 3:  The loss is 0.998589337, and the validation accuracy is 0.700\n",
      "Epoch 37, CIFAR-10 Batch 4:  The loss is 0.813113987, and the validation accuracy is 0.800\n",
      "Epoch 37, CIFAR-10 Batch 5:  The loss is 1.005823016, and the validation accuracy is 0.700\n",
      "Epoch 38, CIFAR-10 Batch 1:  The loss is 1.020705938, and the validation accuracy is 0.650\n",
      "Epoch 38, CIFAR-10 Batch 2:  The loss is 0.796671033, and the validation accuracy is 0.725\n",
      "Epoch 38, CIFAR-10 Batch 3:  The loss is 0.993845344, and the validation accuracy is 0.675\n",
      "Epoch 38, CIFAR-10 Batch 4:  The loss is 0.822762311, and the validation accuracy is 0.800\n",
      "Epoch 38, CIFAR-10 Batch 5:  The loss is 1.020951986, and the validation accuracy is 0.725\n",
      "Epoch 39, CIFAR-10 Batch 1:  The loss is 1.003806829, and the validation accuracy is 0.650\n",
      "Epoch 39, CIFAR-10 Batch 2:  The loss is 0.823115349, and the validation accuracy is 0.775\n",
      "Epoch 39, CIFAR-10 Batch 3:  The loss is 0.980974197, and the validation accuracy is 0.675\n",
      "Epoch 39, CIFAR-10 Batch 4:  The loss is 0.811677754, and the validation accuracy is 0.775\n",
      "Epoch 39, CIFAR-10 Batch 5:  The loss is 0.989955902, and the validation accuracy is 0.725\n",
      "Epoch 40, CIFAR-10 Batch 1:  The loss is 0.992946923, and the validation accuracy is 0.650\n",
      "Epoch 40, CIFAR-10 Batch 2:  The loss is 0.783716977, and the validation accuracy is 0.775\n",
      "Epoch 40, CIFAR-10 Batch 3:  The loss is 0.974790573, and the validation accuracy is 0.700\n",
      "Epoch 40, CIFAR-10 Batch 4:  The loss is 0.809916973, and the validation accuracy is 0.825\n",
      "Epoch 40, CIFAR-10 Batch 5:  The loss is 0.960339725, and the validation accuracy is 0.725\n"
     ]
    }
   ],
   "source": [
    "\"\"\"\n",
    "DON'T MODIFY ANYTHING IN THIS CELL\n",
    "\"\"\"\n",
    "save_model_path = './image_classification'\n",
    "\n",
    "print('Training...')\n",
    "with tf.Session() as sess:\n",
    "    # Initializing the variables\n",
    "    sess.run(tf.global_variables_initializer())\n",
    "    \n",
    "    # Training cycle\n",
    "    for epoch in range(epochs):\n",
    "        # Loop over all batches\n",
    "        n_batches = 5\n",
    "        for batch_i in range(1, n_batches + 1):\n",
    "            for batch_features, batch_labels in helper.load_preprocess_training_batch(batch_i, batch_size):\n",
    "                train_neural_network(sess, optimizer, keep_probability, batch_features, batch_labels)\n",
    "            print('Epoch {:>2}, CIFAR-10 Batch {}:  '.format(epoch + 1, batch_i), end='')\n",
    "            print_stats(sess, batch_features, batch_labels, cost, accuracy)\n",
    "            \n",
    "    # Save Model\n",
    "    saver = tf.train.Saver()\n",
    "    save_path = saver.save(sess, save_model_path)"
   ]
  },
  {
   "cell_type": "markdown",
   "metadata": {
    "deletable": true,
    "editable": true
   },
   "source": [
    "# Checkpoint\n",
    "The model has been saved to disk.\n",
    "## Test Model\n",
    "Test your model against the test dataset.  This will be your final accuracy. You should have an accuracy greater than 50%. If you don't, keep tweaking the model architecture and parameters."
   ]
  },
  {
   "cell_type": "code",
   "execution_count": 96,
   "metadata": {
    "collapsed": false,
    "deletable": true,
    "editable": true
   },
   "outputs": [
    {
     "name": "stdout",
     "output_type": "stream",
     "text": [
      "Testing Accuracy: 0.49624208860759494\n",
      "\n"
     ]
    },
    {
     "data": {
      "image/png": "[encoded data removed]",
      "text/plain": [
       "<matplotlib.figure.Figure at 0x7f5a9abeeb70>"
      ]
     },
     "metadata": {
      "image/png": {
       "height": 319,
       "width": 355
      }
     },
     "output_type": "display_data"
    }
   ],
   "source": [
    "\"\"\"\n",
    "DON'T MODIFY ANYTHING IN THIS CELL\n",
    "\"\"\"\n",
    "%matplotlib inline\n",
    "%config InlineBackend.figure_format = 'retina'\n",
    "\n",
    "import tensorflow as tf\n",
    "import pickle\n",
    "import helper\n",
    "import random\n",
    "\n",
    "# Set batch size if not already set\n",
    "try:\n",
    "    if batch_size:\n",
    "        pass\n",
    "except NameError:\n",
    "    batch_size = 64\n",
    "\n",
    "save_model_path = './image_classification'\n",
    "n_samples = 4\n",
    "top_n_predictions = 3\n",
    "\n",
    "def test_model():\n",
    "    \"\"\"\n",
    "    Test the saved model against the test dataset\n",
    "    \"\"\"\n",
    "\n",
    "    test_features, test_labels = pickle.load(open('preprocess_training.p', mode='rb'))\n",
    "    loaded_graph = tf.Graph()\n",
    "\n",
    "    with tf.Session(graph=loaded_graph) as sess:\n",
    "        # Load model\n",
    "        loader = tf.train.import_meta_graph(save_model_path + '.meta')\n",
    "        loader.restore(sess, save_model_path)\n",
    "\n",
    "        # Get Tensors from loaded model\n",
    "        loaded_x = loaded_graph.get_tensor_by_name('x:0')\n",
    "        loaded_y = loaded_graph.get_tensor_by_name('y:0')\n",
    "        loaded_keep_prob = loaded_graph.get_tensor_by_name('keep_prob:0')\n",
    "        loaded_logits = loaded_graph.get_tensor_by_name('logits:0')\n",
    "        loaded_acc = loaded_graph.get_tensor_by_name('accuracy:0')\n",
    "        \n",
    "        # Get accuracy in batches for memory limitations\n",
    "        test_batch_acc_total = 0\n",
    "        test_batch_count = 0\n",
    "        \n",
    "        for train_feature_batch, train_label_batch in helper.batch_features_labels(test_features, test_labels, batch_size):\n",
    "            test_batch_acc_total += sess.run(\n",
    "                loaded_acc,\n",
    "                feed_dict={loaded_x: train_feature_batch, loaded_y: train_label_batch, loaded_keep_prob: 1.0})\n",
    "            test_batch_count += 1\n",
    "\n",
    "        print('Testing Accuracy: {}\\n'.format(test_batch_acc_total/test_batch_count))\n",
    "\n",
    "        # Print Random Samples\n",
    "        random_test_features, random_test_labels = tuple(zip(*random.sample(list(zip(test_features, test_labels)), n_samples)))\n",
    "        random_test_predictions = sess.run(\n",
    "            tf.nn.top_k(tf.nn.softmax(loaded_logits), top_n_predictions),\n",
    "            feed_dict={loaded_x: random_test_features, loaded_y: random_test_labels, loaded_keep_prob: 1.0})\n",
    "        helper.display_image_predictions(random_test_features, random_test_labels, random_test_predictions)\n",
    "\n",
    "\n",
    "test_model()"
   ]
  },
  {
   "cell_type": "markdown",
   "metadata": {
    "deletable": true,
    "editable": true
   },
   "source": [
    "## Why 50-80% Accuracy?\n",
    "You might be wondering why you can't get an accuracy any higher. First things first, 50% isn't bad for a simple CNN.  Pure guessing would get you 10% accuracy. However, you might notice people are getting scores [well above 80%](http://rodrigob.github.io/are_we_there_yet/build/classification_datasets_results.html#43494641522d3130).  That's because we haven't taught you all there is to know about neural networks. We still need to cover a few more techniques.\n",
    "## Submitting This Project\n",
    "When submitting this project, make sure to run all the cells before saving the notebook.  Save the notebook file as \"dlnd_image_classification.ipynb\" and save it as a HTML file under \"File\" -> \"Download as\".  Include the \"helper.py\" and \"problem_unittests.py\" files in your submission."
   ]
  }
 ],
 "metadata": {
  "kernelspec": {
   "display_name": "Python 3",
   "language": "python",
   "name": "python3"
  },
  "language_info": {
   "codemirror_mode": {
    "name": "ipython",
    "version": 3
   },
   "file_extension": ".py",
   "mimetype": "text/x-python",
   "name": "python",
   "nbconvert_exporter": "python",
   "pygments_lexer": "ipython3",
   "version": "3.4.3"
  }
 },
 "nbformat": 4,
 "nbformat_minor": 0
}
