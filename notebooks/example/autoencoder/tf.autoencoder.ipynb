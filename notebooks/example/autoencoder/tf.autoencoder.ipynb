{
 "cells": [
  {
   "cell_type": "code",
   "execution_count": null,
   "metadata": {
    "collapsed": true
   },
   "outputs": [],
   "source": [
    "import tensorflow as tf\n",
    "\n",
    "from layers import *\n",
    "\n",
    "def encoder(input):\n",
    "    # Create a conv network with 3 conv layers and 1 FC layer\n",
    "    # Conv 1: filter: [3, 3, 1], stride: [2, 2], relu\n",
    "    \n",
    "    # Conv 2: filter: [3, 3, 8], stride: [2, 2], relu\n",
    "    \n",
    "    # Conv 3: filter: [3, 3, 8], stride: [2, 2], relu\n",
    "    \n",
    "    # FC: output_dim: 100, no non-linearity\n",
    "    raise NotImplementedError\n",
    "\n",
    "def decoder(input):\n",
    "    # Create a deconv network with 1 FC layer and 3 deconv layers\n",
    "    # FC: output dim: 128, relu\n",
    "    \n",
    "    # Reshape to [batch_size, 4, 4, 8]\n",
    "    \n",
    "    # Deconv 1: filter: [3, 3, 8], stride: [2, 2], relu\n",
    "    \n",
    "    # Deconv 2: filter: [8, 8, 1], stride: [2, 2], padding: valid, relu\n",
    "    \n",
    "    # Deconv 3: filter: [7, 7, 1], stride: [1, 1], padding: valid, sigmoid\n",
    "    raise NotImplementedError\n",
    "\n",
    "def autoencoder(input_shape):\n",
    "    # Define place holder with input shape\n",
    "\n",
    "    # Define variable scope for autoencoder\n",
    "    with tf.variable_scope('autoencoder') as scope:\n",
    "        # Pass input to encoder to obtain encoding\n",
    "        \n",
    "        # Pass encoding into decoder to obtain reconstructed image\n",
    "        \n",
    "        # Return input image (placeholder) and reconstructed image\n",
    "        pass\n"
   ]
  }
 ],
 "metadata": {
  "kernelspec": {
   "display_name": "Python 3",
   "language": "python",
   "name": "python3"
  },
  "language_info": {
   "codemirror_mode": {
    "name": "ipython",
    "version": 3
   },
   "file_extension": ".py",
   "mimetype": "text/x-python",
   "name": "python",
   "nbconvert_exporter": "python",
   "pygments_lexer": "ipython3",
   "version": "3.5.2"
  }
 },
 "nbformat": 4,
 "nbformat_minor": 2
}
