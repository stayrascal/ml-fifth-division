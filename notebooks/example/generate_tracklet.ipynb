{
 "cells": [
  {
   "cell_type": "code",
   "execution_count": 1,
   "metadata": {
    "collapsed": true
   },
   "outputs": [],
   "source": [
    "def writeln(f, string, tab_count, tab_as_space=False):\n",
    "    tab_spaces = 4\n",
    "    indent_str = \" \" * tab_spaces * tab_count if tab_as_space else \"\\t\" * tab_count\n",
    "    f.write(indent_str + string + \"\\n\")\n",
    "    pass"
   ]
  },
  {
   "cell_type": "code",
   "execution_count": 2,
   "metadata": {
    "collapsed": true
   },
   "outputs": [],
   "source": [
    "class Tracklet(object):\n",
    "\n",
    "    def __init__(self, object_type, l, w, h, first_frame=0):\n",
    "        self.object_type = object_type\n",
    "        self.h = h\n",
    "        self.w = w\n",
    "        self.l = l\n",
    "        self.first_frame = first_frame\n",
    "        self.poses = []\n",
    "\n",
    "    def write_xml(self, f, class_id, tab_level=0):\n",
    "        writeln(f, '<item class_id=\"%d\" tracking_level=\"0\" version=\"1\">' % class_id, tab_level)\n",
    "        tab_level += 1\n",
    "        class_id += 1\n",
    "        writeln(f, '<objectType>%s</objectType>' % self.object_type, tab_level)\n",
    "        writeln(f, '<h>%f</h>' % self.h, tab_level)\n",
    "        writeln(f, '<w>%f</w>' % self.w, tab_level)\n",
    "        writeln(f, '<l>%f</l>' % self.l, tab_level)\n",
    "        writeln(f, '<first_frame>%d</first_frame>' % self.first_frame, tab_level)\n",
    "        writeln(f, '<poses class_id=\"%d\" tracking_level=\"0\" version=\"0\">' % class_id, tab_level)\n",
    "        class_id += 1\n",
    "        tab_level += 1\n",
    "        writeln(f, '<count>%d</count>' % len(self.poses), tab_level)\n",
    "        writeln(f, '<item_version>2</item_version>', tab_level)\n",
    "        first_pose = True\n",
    "        for p in self.poses:\n",
    "            if first_pose:\n",
    "                writeln(f, '<item class_id=\"%d\" tracking_level=\"0\" version=\"2\">' % class_id, tab_level)\n",
    "                first_pose = False\n",
    "            else:\n",
    "                writeln(f, '<item>', tab_level)\n",
    "            tab_level += 1\n",
    "            class_id += 1\n",
    "            writeln(f, '<tx>%f</tx>' % p['tx'], tab_level)\n",
    "            writeln(f, '<ty>%f</ty>' % p['ty'], tab_level)\n",
    "            writeln(f, '<tz>%f</tz>' % p['tz'], tab_level)\n",
    "            writeln(f, '<rx>%f</rx>' % p['rx'], tab_level)\n",
    "            writeln(f, '<ry>%f</ry>' % p['ry'], tab_level)\n",
    "            writeln(f, '<rz>%f</rz>' % p['rz'], tab_level)\n",
    "            writeln(f, '<state>1</state>', tab_level)  # INTERP = 1\n",
    "            writeln(f, '<occlusion>-1</occlusion>', tab_level) # UNSET = -1\n",
    "            writeln(f, '<occlusion_kf>-1</occlusion_kf>', tab_level)\n",
    "            writeln(f, '<truncation>-1</truncation>', tab_level) # UNSET = -1\n",
    "            writeln(f, '<amt_occlusion>0.0</amt_occlusion>', tab_level)\n",
    "            writeln(f, '<amt_occlusion_kf>-1</amt_occlusion_kf>', tab_level)\n",
    "            writeln(f, '<amt_border_l>0.0</amt_border_l>', tab_level)\n",
    "            writeln(f, '<amt_border_r>0.0</amt_border_r>', tab_level)\n",
    "            writeln(f, '<amt_border_kf>-1</amt_border_kf>', tab_level)\n",
    "            tab_level -= 1\n",
    "            writeln(f, '</item>', tab_level)\n",
    "        tab_level -= 1\n",
    "        writeln(f, '</poses>', tab_level)\n",
    "        writeln(f, '<finished>1</finished>', tab_level)\n",
    "        tab_level -= 1\n",
    "        writeln(f, '</item>', tab_level)"
   ]
  },
  {
   "cell_type": "code",
   "execution_count": 3,
   "metadata": {
    "collapsed": true
   },
   "outputs": [],
   "source": [
    "class TrackletCollection(object):\n",
    "\n",
    "    def __init__(self):\n",
    "        self.tracklets = []\n",
    "\n",
    "    def write_xml(self, filename):\n",
    "        tab_level = 0\n",
    "        with open(filename, mode='w') as f:\n",
    "            writeln(f, r'<?xml version=\"1.0\" encoding=\"UTF-8\" standalone=\"yes\" ?>', tab_level)\n",
    "            writeln(f, r'<!DOCTYPE boost_serialization>', tab_level)\n",
    "            writeln(f, r'<boost_serialization signature=\"serialization::archive\" version=\"9\">', tab_level)\n",
    "            writeln(f, r'<tracklets class_id=\"0\" tracking_level=\"0\" version=\"0\">', tab_level)\n",
    "            tab_level += 1\n",
    "            writeln(f, '<count>%d</count>' % len(self.tracklets), tab_level)\n",
    "            writeln(f, '<item_version>1</item_version> ', tab_level)\n",
    "            class_id = 1\n",
    "            for obj in self.tracklets:\n",
    "                class_id = obj.write_xml(f, class_id, tab_level)\n",
    "            tab_level -= 1\n",
    "            writeln(f, '</tracklets>', tab_level)\n",
    "            writeln(f, '</boost_serialization> ', tab_level)\n",
    "            f.close()"
   ]
  }
 ],
 "metadata": {
  "kernelspec": {
   "display_name": "Python 3",
   "language": "python",
   "name": "python3"
  },
  "language_info": {
   "codemirror_mode": {
    "name": "ipython",
    "version": 3
   },
   "file_extension": ".py",
   "mimetype": "text/x-python",
   "name": "python",
   "nbconvert_exporter": "python",
   "pygments_lexer": "ipython3",
   "version": "3.4.3"
  }
 },
 "nbformat": 4,
 "nbformat_minor": 2
}
