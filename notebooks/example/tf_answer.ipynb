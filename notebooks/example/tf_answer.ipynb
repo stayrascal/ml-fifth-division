{
 "cells": [
  {
   "cell_type": "code",
   "execution_count": 1,
   "metadata": {
    "collapsed": true,
    "deletable": true,
    "editable": true
   },
   "outputs": [],
   "source": [
    "import tensorflow as tf"
   ]
  },
  {
   "cell_type": "code",
   "execution_count": 2,
   "metadata": {
    "collapsed": false,
    "deletable": true,
    "editable": true
   },
   "outputs": [
    {
     "name": "stdout",
     "output_type": "stream",
     "text": [
      "[0.49730092, -0.6695627, -0.17226177]\n"
     ]
    }
   ],
   "source": [
    "###############################################################################\n",
    "# 1a: Create two random 0-d tensors x and y of any distribution.\n",
    "# Create a TensorFlow object that returns x + y if x > y, and x - y otherwise.\n",
    "# Hint: look up tf.cond()\n",
    "###############################################################################\n",
    "x = tf.random_normal([])\n",
    "y = tf.random_normal([])\n",
    "output = tf.cond(tf.greater(x, y), lambda: tf.add(x, y), lambda: tf.subtract(x, y))\n",
    "\n",
    "with tf.Session() as sess:\n",
    "    print(sess.run([x, y, output]))"
   ]
  },
  {
   "cell_type": "code",
   "execution_count": 3,
   "metadata": {
    "collapsed": false,
    "deletable": true,
    "editable": true
   },
   "outputs": [
    {
     "name": "stdout",
     "output_type": "stream",
     "text": [
      "[-0.001718998, -0.46350598, 0.46178699]\n"
     ]
    }
   ],
   "source": [
    "###############################################################################\n",
    "# 1b: Create two 0-d tensors x and y randomly selected from -1 and 1.\n",
    "# Return x + y if x < y, x - y if x > y, 0 otherwise.\n",
    "# Hint: Look up tf.case().\n",
    "###############################################################################\n",
    "x = tf.random_uniform([], -1, 1)\n",
    "y = tf.random_uniform([], -1, 1)\n",
    "output = tf.case({\n",
    "    tf.greater(x, y): lambda: tf.subtract(x, y),\n",
    "    tf.less(x, y): lambda: tf.add(x, y),\n",
    "}, default=lambda: tf.constant(0.0), exclusive=True)\n",
    "\n",
    "with tf.Session() as sess:\n",
    "    print(sess.run([x, y, output]))"
   ]
  },
  {
   "cell_type": "code",
   "execution_count": 4,
   "metadata": {
    "collapsed": false,
    "deletable": true,
    "editable": true
   },
   "outputs": [
    {
     "name": "stdout",
     "output_type": "stream",
     "text": [
      "[array([[ 0, -2, -1],\n",
      "       [ 0,  1,  2]], dtype=int32), array([[0, 0, 0],\n",
      "       [0, 0, 0]], dtype=int32), array([[ True, False, False],\n",
      "       [ True, False, False]], dtype=bool)]\n"
     ]
    }
   ],
   "source": [
    "###############################################################################\n",
    "# 1c: Create the tensor x of the value [[0, -2, -1], [0, 1, 2]] \n",
    "# and y as a tensor of zeros with the same shape as x.\n",
    "# Return a boolean tensor that yields Trues if x equals y element-wise.\n",
    "# Hint: Look up tf.equal().\n",
    "###############################################################################\n",
    "x = tf.constant([[0, -2, -1], [0, 1, 2]])\n",
    "y = tf.zeros_like(x)\n",
    "output = tf.equal(x, y)\n",
    "\n",
    "with tf.Session() as sess:\n",
    "    print(sess.run([x, y, output]))"
   ]
  },
  {
   "cell_type": "code",
   "execution_count": 5,
   "metadata": {
    "collapsed": false,
    "deletable": true,
    "editable": true
   },
   "outputs": [
    {
     "name": "stdout",
     "output_type": "stream",
     "text": [
      "[[ 31.19073486]\n",
      " [ 30.97266006]\n",
      " [ 38.08450317]\n",
      " [ 34.94445419]\n",
      " [ 34.45999146]\n",
      " [ 36.01657104]\n",
      " [ 30.20379066]\n",
      " [ 33.71149445]\n",
      " [ 36.05556488]]\n"
     ]
    }
   ],
   "source": [
    "###############################################################################\n",
    "# 1d: Create the tensor x of value \n",
    "# [29.05088806,  27.61298943,  31.19073486,  29.35532951,\n",
    "#  30.97266006,  26.67541885,  38.08450317,  20.74983215,\n",
    "#  34.94445419,  34.45999146,  29.06485367,  36.01657104,\n",
    "#  27.88236427,  20.56035233,  30.20379066,  29.51215172,\n",
    "#  33.71149445,  28.59134293,  36.05556488,  28.66994858].\n",
    "# Get the indices of elements in x whose values are greater than 30.\n",
    "# Hint: Use tf.where().\n",
    "# Then extract elements whose values are greater than 30.\n",
    "# Hint: Use tf.gather().\n",
    "###############################################################################\n",
    "x = tf.constant(\n",
    "    [ 29.05088806,  27.61298943,  31.19073486,  29.35532951,\n",
    "      30.97266006,  26.67541885,  38.08450317,  20.74983215,\n",
    "      34.94445419,  34.45999146,  29.06485367,  36.01657104,\n",
    "      27.88236427,  20.56035233,  30.20379066,  29.51215172,\n",
    "      33.71149445,  28.59134293,  36.05556488,  28.66994858])\n",
    "indices = tf.where(tf.greater(x, 30))\n",
    "output = tf.gather(x, indices)\n",
    "with tf.Session() as sess:\n",
    "    print(sess.run(output))"
   ]
  },
  {
   "cell_type": "code",
   "execution_count": 6,
   "metadata": {
    "collapsed": false,
    "deletable": true,
    "editable": true
   },
   "outputs": [
    {
     "name": "stdout",
     "output_type": "stream",
     "text": [
      "[[1 0 0 0 0 0]\n",
      " [0 2 0 0 0 0]\n",
      " [0 0 3 0 0 0]\n",
      " [0 0 0 4 0 0]\n",
      " [0 0 0 0 5 0]\n",
      " [0 0 0 0 0 6]]\n"
     ]
    }
   ],
   "source": [
    "###############################################################################\n",
    "# 1e: Create a diagnoal 2-d tensor of size 6 x 6 with the diagonal values of 1,\n",
    "# 2, ..., 6\n",
    "# Hint: Use tf.range() and tf.diag().\n",
    "###############################################################################\n",
    "values = tf.range(1, 7)\n",
    "output = tf.diag(values)\n",
    "\n",
    "with tf.Session() as sess:\n",
    "    print(sess.run(output))"
   ]
  },
  {
   "cell_type": "code",
   "execution_count": 7,
   "metadata": {
    "collapsed": false,
    "deletable": true,
    "editable": true
   },
   "outputs": [
    {
     "name": "stdout",
     "output_type": "stream",
     "text": [
      "-54.5403\n"
     ]
    }
   ],
   "source": [
    "###############################################################################\n",
    "# 1f: Create a random 2-d tensor of size 10 x 10 from any distribution.\n",
    "# Calculate its determinant.\n",
    "# Hint: Look at tf.matrix_determinant().\n",
    "###############################################################################\n",
    "x = tf.random_normal([10, 10])\n",
    "determiant = tf.matrix_determinant(x)\n",
    "with tf.Session() as sess:\n",
    "    print(sess.run(determiant))"
   ]
  },
  {
   "cell_type": "code",
   "execution_count": 8,
   "metadata": {
    "collapsed": false,
    "deletable": true,
    "editable": true
   },
   "outputs": [
    {
     "name": "stdout",
     "output_type": "stream",
     "text": [
      "[ 5  2  3 10  6  4  1  0  9]\n"
     ]
    }
   ],
   "source": [
    "###############################################################################\n",
    "# 1g: Create tensor x with value [5, 2, 3, 5, 10, 6, 2, 3, 4, 2, 1, 1, 0, 9].\n",
    "# Return the unique elements in x\n",
    "# Hint: use tf.unique(). Keep in mind that tf.unique() returns a tuple.\n",
    "###############################################################################\n",
    "x = tf.constant([5, 2, 3, 5, 10, 6, 2, 3, 4, 2, 1, 1, 0, 9])\n",
    "output = tf.unique(x)\n",
    "with tf.Session() as sess:\n",
    "    print(sess.run(output[0]))"
   ]
  },
  {
   "cell_type": "code",
   "execution_count": 21,
   "metadata": {
    "collapsed": false,
    "deletable": true,
    "editable": true
   },
   "outputs": [
    {
     "name": "stdout",
     "output_type": "stream",
     "text": [
      "x is: [-0.17287591  0.70611757]\n",
      "y is: [ 1.15783191 -0.46797895]\n",
      "error is : [-1.33070779  1.17409658]\n",
      "x - y is : [-1.33070779  1.17409658]\n",
      "1.57464\n",
      "1.57464\n"
     ]
    }
   ],
   "source": [
    "###############################################################################\n",
    "# 1h: Create two tensors x and y of shape 300 from any normal distribution,\n",
    "# as long as they are from the same distribution.\n",
    "# Use tf.less() and tf.where() to return:\n",
    "# - The mean squared error of (x - y) if the average of all elements in (x - y)\n",
    "#   is negative, or\n",
    "# - The sum of absolute value of all elements in the tensor (x - y) otherwise.\n",
    "# Hint: see the Huber loss function in the lecture slides 3.\n",
    "###############################################################################\n",
    "# x = tf.truncated_normal([2], mean=0.0, stddev=1, dtype=tf.float32, name='x')\n",
    "# y = tf.truncated_normal([2], mean=0.0, stddev=1, dtype=tf.float32, name='y')\n",
    "x = tf.Variable(tf.truncated_normal([2], mean=0.0, stddev=1, dtype=tf.float32, name='x'))\n",
    "y = tf.Variable(tf.truncated_normal([2], mean=0.0, stddev=1, dtype=tf.float32, name='y'))\n",
    "\n",
    "# x = tf.constant([ 3, 7])\n",
    "# y = tf.constant([ 4, 5])\n",
    "\n",
    "error = tf.subtract(x ,y)\n",
    "mean = tf.reduce_mean(error)\n",
    "\n",
    "condition = tf.less(mean, 0)\n",
    "left = tf.reduce_mean(tf.square(error))\n",
    "right = tf.reduce_sum(tf.abs(error))\n",
    "\n",
    "output = tf.where(condition, left, right)\n",
    "output2 = tf.cond(condition, lambda: left, lambda: right)\n",
    "\n",
    "init = tf.global_variables_initializer()\n",
    "with tf.Session() as sess:\n",
    "    sess.run(init)\n",
    "    print('x is:', sess.run(x))\n",
    "    print('y is:', sess.run(y))\n",
    "    print('error is :', sess.run(error))\n",
    "    print('x - y is :', sess.run(x - y))\n",
    "#     print('square is :', sess.run(tf.square(error)))\n",
    "#     print('square_sum is:', sess.run(tf.reduce_sum(tf.square(error))))\n",
    "#     print('abs is:', sess.run(tf.abs(error)))\n",
    "#     print('condition is:', sess.run(condition))\n",
    "#     print('left is: ', sess.run(left))\n",
    "#     print('right is: ', sess.run(right))\n",
    "    print(sess.run(output))\n",
    "    print(sess.run(output2))"
   ]
  },
  {
   "cell_type": "code",
   "execution_count": 24,
   "metadata": {
    "collapsed": false,
    "deletable": true,
    "editable": true
   },
   "outputs": [
    {
     "name": "stdout",
     "output_type": "stream",
     "text": [
      "[ 7 11]\n",
      "[ 7 -5]\n"
     ]
    }
   ],
   "source": [
    "x = tf.constant([2,8])\n",
    "y = tf.constant([5,3])\n",
    "result = tf.cond(x[0] < y[0], lambda: tf.add(x, y), lambda: tf.subtract(y, x))\n",
    "result2 = tf.where(x < y, tf.add(x, y), tf.subtract(y, x))\n",
    "with tf.Session() as sess:\n",
    "    print(sess.run(result))\n",
    "    print(sess.run(result2))"
   ]
  },
  {
   "cell_type": "code",
   "execution_count": 11,
   "metadata": {
    "collapsed": false,
    "deletable": true,
    "editable": true
   },
   "outputs": [
    {
     "name": "stdout",
     "output_type": "stream",
     "text": [
      "[0.090107679, 0.040316582, 0.049791098]\n"
     ]
    }
   ],
   "source": [
    "import tensorflow as tf\n",
    "x = tf.random_uniform([])\n",
    "y = tf.random_uniform([])\n",
    "\n",
    "out = tf.cond(tf.less(x, y), lambda: tf.add(x, y), lambda: tf.subtract(x, y))\n",
    "with tf.Session() as sess:\n",
    "    print(sess.run([x, y, out]))"
   ]
  },
  {
   "cell_type": "code",
   "execution_count": 12,
   "metadata": {
    "collapsed": false,
    "deletable": true,
    "editable": true
   },
   "outputs": [
    {
     "name": "stdout",
     "output_type": "stream",
     "text": [
      "-0.176333\n"
     ]
    }
   ],
   "source": [
    "###############################################################################\n",
    "# 1b: Create two 0-d tensors x and y randomly selected from -1 and 1.\n",
    "# Return x + y if x < y, x - y if x > y, 0 otherwise.\n",
    "# Hint: Look up tf.case().\n",
    "###############################################################################\n",
    "\n",
    "x = tf.random_uniform([], -1, 1, dtype=tf.float32)\n",
    "y = tf.random_uniform([], -1, 1, dtype=tf.float32)\n",
    "\n",
    "\n",
    "##################################\n",
    "f1 = lambda: tf.add(x,y)\n",
    "f2 = lambda: tf.subtract(x,y)\n",
    "f3 = lambda: tf.constant(0.)\n",
    "###################################\n",
    "result = tf.case({tf.less(x,y) : f1, tf.greater(x, y) : f2}, default = f3, exclusive=True)\n",
    "\n",
    "with tf.Session() as sess:\n",
    "    print(sess.run(result))\n"
   ]
  },
  {
   "cell_type": "code",
   "execution_count": null,
   "metadata": {
    "collapsed": true,
    "deletable": true,
    "editable": true
   },
   "outputs": [],
   "source": []
  }
 ],
 "metadata": {
  "kernelspec": {
   "display_name": "Python 3",
   "language": "python",
   "name": "python3"
  },
  "language_info": {
   "codemirror_mode": {
    "name": "ipython",
    "version": 3
   },
   "file_extension": ".py",
   "mimetype": "text/x-python",
   "name": "python",
   "nbconvert_exporter": "python",
   "pygments_lexer": "ipython3",
   "version": "3.4.3"
  }
 },
 "nbformat": 4,
 "nbformat_minor": 2
}
