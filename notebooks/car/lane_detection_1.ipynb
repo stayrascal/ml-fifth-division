{
 "cells": [
  {
   "cell_type": "code",
   "execution_count": 12,
   "metadata": {
    "collapsed": false,
    "deletable": true,
    "editable": true
   },
   "outputs": [],
   "source": [
    "import imageio\n",
    "from moviepy.editor import VideoFileClip\n",
    "import matplotlib.pyplot as plt\n",
    "import matplotlib.image as mplimg\n",
    "import numpy as np\n",
    "import cv2\n",
    "import os"
   ]
  },
  {
   "cell_type": "code",
   "execution_count": 9,
   "metadata": {
    "collapsed": true,
    "deletable": true,
    "editable": true
   },
   "outputs": [],
   "source": [
    "root_dir = '../data/car'\n",
    "blur_ksize = 5  # Gaussian blur kernel size\n",
    "canny_lthreshold = 50  # Canny edge detection low threshold\n",
    "canny_hthreshold = 150  # Canny edge detection high threshold\n",
    "\n",
    "# Hough transform parameters\n",
    "rho = 1\n",
    "theta = np.pi / 180\n",
    "threshold = 15\n",
    "min_line_length = 40\n",
    "max_line_gap = 20"
   ]
  },
  {
   "cell_type": "code",
   "execution_count": 10,
   "metadata": {
    "collapsed": true,
    "deletable": true,
    "editable": true
   },
   "outputs": [],
   "source": [
    "def roi_mask(img, vertices):\n",
    "    mask = np.zeros_like(img)\n",
    "\n",
    "    #defining a 3 channel or 1 channel color to fill the mask with depending on the input image\n",
    "    if len(img.shape) > 2:\n",
    "        channel_count = img.shape[2]  # i.e. 3 or 4 depending on your image\n",
    "        mask_color = (255,) * channel_count\n",
    "    else:\n",
    "        mask_color = 255\n",
    "\n",
    "    cv2.fillPoly(mask, vertices, mask_color)\n",
    "    masked_img = cv2.bitwise_and(img, mask)\n",
    "    return masked_img\n",
    "\n",
    "def draw_roi(img, vertices):\n",
    "    cv2.polylines(img, vertices, True, [255, 0, 0], thickness=2)\n",
    "\n",
    "def draw_lines(img, lines, color=[255, 0, 0], thickness=2):\n",
    "    for line in lines:\n",
    "        for x1, y1, x2, y2 in line:\n",
    "            cv2.line(img, (x1, y1), (x2, y2), color, thickness)\n",
    "\n",
    "def hough_lines(img, rho, theta, threshold, min_line_len, max_line_gap):\n",
    "    lines = cv2.HoughLinesP(img, rho, theta, threshold, np.array([]), minLineLength=min_line_len, maxLineGap=max_line_gap)\n",
    "    line_img = np.zeros((img.shape[0], img.shape[1], 3), dtype=np.uint8)\n",
    "    # draw_lines(line_img, lines)\n",
    "    draw_lanes(line_img, lines)\n",
    "    return line_img\n",
    "\n",
    "def draw_lanes(img, lines, color=[255, 0, 0], thickness=8):\n",
    "    left_lines, right_lines = [], []\n",
    "    for line in lines:\n",
    "        for x1, y1, x2, y2 in line:\n",
    "            k = (y2 - y1) / (x2 - x1)\n",
    "            if k < 0:\n",
    "                left_lines.append(line)\n",
    "            else:\n",
    "                right_lines.append(line)\n",
    "  \n",
    "    if (len(left_lines) <= 0 or len(right_lines) <= 0):\n",
    "        return img\n",
    "  \n",
    "    clean_lines(left_lines, 0.1)\n",
    "    clean_lines(right_lines, 0.1)\n",
    "    left_points = [(x1, y1) for line in left_lines for x1,y1,x2,y2 in line]\n",
    "    left_points = left_points + [(x2, y2) for line in left_lines for x1,y1,x2,y2 in line]\n",
    "    right_points = [(x1, y1) for line in right_lines for x1,y1,x2,y2 in line]\n",
    "    right_points = right_points + [(x2, y2) for line in right_lines for x1,y1,x2,y2 in line]\n",
    "\n",
    "    left_vtx = calc_lane_vertices(left_points, 325, img.shape[0])\n",
    "    right_vtx = calc_lane_vertices(right_points, 325, img.shape[0])\n",
    "\n",
    "    cv2.line(img, left_vtx[0], left_vtx[1], color, thickness)\n",
    "    cv2.line(img, right_vtx[0], right_vtx[1], color, thickness)\n",
    "\n",
    "def clean_lines(lines, threshold):\n",
    "    slope = [(y2 - y1) / (x2 - x1) for line in lines for x1, y1, x2, y2 in line]\n",
    "    while len(lines) > 0:\n",
    "        mean = np.mean(slope)\n",
    "        diff = [abs(s - mean) for s in slope]\n",
    "        idx = np.argmax(diff)\n",
    "        if diff[idx] > threshold:\n",
    "            slope.pop(idx)\n",
    "            lines.pop(idx)\n",
    "        else:\n",
    "            break\n",
    "  \n",
    "  \n",
    "def calc_lane_vertices(point_list, ymin, ymax):\n",
    "    x = [p[0] for p in point_list]\n",
    "    y = [p[1] for p in point_list]\n",
    "    fit = np.polyfit(y, x, 1)\n",
    "    fit_fn = np.poly1d(fit)\n",
    "\n",
    "    xmin = int(fit_fn(ymin))\n",
    "    xmax = int(fit_fn(ymax))\n",
    "\n",
    "    return [(xmin, ymin), (xmax, ymax)]\n",
    "\n",
    "def process_an_image(img):\n",
    "    roi_vtx = np.array([[(0, img.shape[0]), (460, 325), (520, 325), (img.shape[1], img.shape[0])]])\n",
    "    print(roi_vtx)\n",
    "    gray = cv2.cvtColor(img, cv2.COLOR_RGB2GRAY)\n",
    "    blur_gray = cv2.GaussianBlur(gray, (blur_ksize, blur_ksize), 0, 0)\n",
    "    edges = cv2.Canny(blur_gray, canny_lthreshold, canny_hthreshold)\n",
    "    roi_edges = roi_mask(edges, roi_vtx)\n",
    "    line_img = hough_lines(roi_edges, rho, theta, threshold, min_line_length, max_line_gap)\n",
    "    res_img = cv2.addWeighted(img, 0.8, line_img, 1, 0)\n",
    "\n",
    "    '''\n",
    "    plt.figure()\n",
    "    plt.imshow(img)\n",
    "    plt.savefig('images/lane_original.png', bbox_inches='tight')\n",
    "    plt.figure()\n",
    "    plt.imshow(gray, cmap='gray')\n",
    "    plt.savefig('images/gray.png', bbox_inches='tight')\n",
    "    plt.figure()\n",
    "    plt.imshow(blur_gray, cmap='gray')\n",
    "    plt.savefig('images/blur_gray.png', bbox_inches='tight')\n",
    "    plt.figure()\n",
    "    plt.imshow(edges, cmap='gray')\n",
    "    plt.savefig('images/edges.png', bbox_inches='tight')\n",
    "    plt.figure()\n",
    "    plt.imshow(roi_edges, cmap='gray')\n",
    "    plt.savefig('images/roi_edges.png', bbox_inches='tight')\n",
    "    plt.figure()\n",
    "    plt.imshow(line_img, cmap='gray')\n",
    "    plt.savefig('images/line_img.png', bbox_inches='tight')\n",
    "    plt.figure()\n",
    "    plt.imshow(res_img)\n",
    "    plt.savefig('images/res_img.png', bbox_inches='tight')\n",
    "    plt.show()\n",
    "    '''\n",
    "\n",
    "    return res_img"
   ]
  },
  {
   "cell_type": "code",
   "execution_count": 14,
   "metadata": {
    "collapsed": false,
    "deletable": true,
    "editable": true
   },
   "outputs": [
    {
     "name": "stdout",
     "output_type": "stream",
     "text": [
      "[[[  0 540]\n",
      "  [460 325]\n",
      "  [520 325]\n",
      "  [960 540]]]\n"
     ]
    },
    {
     "data": {
      "text/plain": [
       "array([[[147, 157, 168],\n",
       "        [115, 127, 142],\n",
       "        [106, 123, 142],\n",
       "        ..., \n",
       "        [102, 122, 141],\n",
       "        [112, 129, 142],\n",
       "        [146, 159, 171]],\n",
       "\n",
       "       [[114, 126, 142],\n",
       "        [115, 130, 147],\n",
       "        [106, 125, 146],\n",
       "        ..., \n",
       "        [ 99, 123, 144],\n",
       "        [110, 127, 144],\n",
       "        [113, 128, 142]],\n",
       "\n",
       "       [[105, 122, 141],\n",
       "        [106, 125, 146],\n",
       "        [100, 123, 147],\n",
       "        ..., \n",
       "        [ 94, 120, 145],\n",
       "        [ 98, 120, 142],\n",
       "        [100, 121, 139]],\n",
       "\n",
       "       ..., \n",
       "       [[103, 102, 107],\n",
       "        [ 92,  91,  96],\n",
       "        [ 88,  87,  92],\n",
       "        ..., \n",
       "        [ 66,  66,  74],\n",
       "        [ 70,  70,  78],\n",
       "        [ 95,  95, 103]],\n",
       "\n",
       "       [[113, 112, 116],\n",
       "        [100,  99, 103],\n",
       "        [ 92,  91,  95],\n",
       "        ..., \n",
       "        [ 70,  70,  78],\n",
       "        [ 85,  85,  91],\n",
       "        [109, 109, 115]],\n",
       "\n",
       "       [[141, 140, 144],\n",
       "        [111, 110, 114],\n",
       "        [102, 102, 106],\n",
       "        ..., \n",
       "        [ 95,  95, 102],\n",
       "        [110, 110, 116],\n",
       "        [146, 146, 153]]], dtype=uint8)"
      ]
     },
     "execution_count": 14,
     "metadata": {},
     "output_type": "execute_result"
    }
   ],
   "source": [
    "img = mplimg.imread(os.path.join(root_dir, \"lane.jpg\")) \n",
    "# print(img)\n",
    "process_an_image(img)\n"
   ]
  },
  {
   "cell_type": "code",
   "execution_count": 17,
   "metadata": {
    "collapsed": false,
    "deletable": true,
    "editable": true
   },
   "outputs": [
    {
     "name": "stdout",
     "output_type": "stream",
     "text": [
      "[[[  0 540]\n",
      "  [460 325]\n",
      "  [520 325]\n",
      "  [960 540]]]\n",
      "[MoviePy] >>>> Building video ../data/car/video_2.mp4\n",
      "[MoviePy] Writing video ../data/car/video_2.mp4\n"
     ]
    },
    {
     "name": "stderr",
     "output_type": "stream",
     "text": [
      "  1%|          | 2/222 [00:00<00:11, 18.77it/s]"
     ]
    },
    {
     "name": "stdout",
     "output_type": "stream",
     "text": [
      "[[[  0 540]\n",
      "  [460 325]\n",
      "  [520 325]\n",
      "  [960 540]]]\n",
      "[[[  0 540]\n",
      "  [460 325]\n",
      "  [520 325]\n",
      "  [960 540]]]\n",
      "[[[  0 540]\n",
      "  [460 325]\n",
      "  [520 325]\n",
      "  [960 540]]]\n",
      "[[[  0 540]\n",
      "  [460 325]\n",
      "  [520 325]\n",
      "  [960 540]]]\n",
      "[[[  0 540]\n",
      "  [460 325]\n",
      "  [520 325]\n",
      "  [960 540]]]\n",
      "[[[  0 540]\n",
      "  [460 325]\n",
      "  [520 325]\n",
      "  [960 540]]]\n",
      "[[[  0 540]\n",
      "  [460 325]\n",
      "  [520 325]\n",
      "  [960 540]]]\n",
      "[[[  0 540]\n",
      "  [460 325]\n",
      "  [520 325]\n",
      "  [960 540]]]\n"
     ]
    },
    {
     "name": "stderr",
     "output_type": "stream",
     "text": [
      "  5%|▌         | 12/222 [00:00<00:08, 24.96it/s]"
     ]
    },
    {
     "name": "stdout",
     "output_type": "stream",
     "text": [
      "[[[  0 540]\n",
      "  [460 325]\n",
      "  [520 325]\n",
      "  [960 540]]]\n",
      "[[[  0 540]\n",
      "  [460 325]\n",
      "  [520 325]\n",
      "  [960 540]]]\n",
      "[[[  0 540]\n",
      "  [460 325]\n",
      "  [520 325]\n",
      "  [960 540]]]\n",
      "[[[  0 540]\n",
      "  [460 325]\n",
      "  [520 325]\n",
      "  [960 540]]]\n",
      "[[[  0 540]\n",
      "  [460 325]\n",
      "  [520 325]\n",
      "  [960 540]]]\n",
      "[[[  0 540]\n",
      "  [460 325]\n",
      "  [520 325]\n",
      "  [960 540]]]\n",
      "[[[  0 540]\n",
      "  [460 325]\n",
      "  [520 325]\n",
      "  [960 540]]]\n"
     ]
    },
    {
     "name": "stderr",
     "output_type": "stream",
     "text": [
      "\r",
      "  8%|▊         | 17/222 [00:00<00:07, 27.90it/s]"
     ]
    },
    {
     "name": "stdout",
     "output_type": "stream",
     "text": [
      "[[[  0 540]\n",
      "  [460 325]\n",
      "  [520 325]\n",
      "  [960 540]]]\n",
      "[[[  0 540]\n",
      "  [460 325]\n",
      "  [520 325]\n",
      "  [960 540]]]\n",
      "[[[  0 540]\n",
      "  [460 325]\n",
      "  [520 325]\n",
      "  [960 540]]]\n",
      "[[[  0 540]\n",
      "  [460 325]\n",
      "  [520 325]\n",
      "  [960 540]]]\n",
      "[[[  0 540]\n",
      "  [460 325]\n",
      "  [520 325]\n",
      "  [960 540]]]\n",
      "[[[  0 540]\n",
      "  [460 325]\n",
      "  [520 325]\n",
      "  [960 540]]]\n",
      "[[[  0 540]\n",
      "  [460 325]\n",
      "  [520 325]\n",
      "  [960 540]]]\n"
     ]
    },
    {
     "name": "stderr",
     "output_type": "stream",
     "text": [
      "\r",
      " 10%|▉         | 22/222 [00:00<00:06, 31.98it/s]"
     ]
    },
    {
     "name": "stdout",
     "output_type": "stream",
     "text": [
      "[[[  0 540]\n",
      "  [460 325]\n",
      "  [520 325]\n",
      "  [960 540]]]\n",
      "[[[  0 540]\n",
      "  [460 325]\n",
      "  [520 325]\n",
      "  [960 540]]]\n",
      "[[[  0 540]\n",
      "  [460 325]\n",
      "  [520 325]\n",
      "  [960 540]]]\n"
     ]
    },
    {
     "name": "stderr",
     "output_type": "stream",
     "text": [
      "\r",
      " 12%|█▏        | 27/222 [00:00<00:05, 35.43it/s]"
     ]
    },
    {
     "name": "stdout",
     "output_type": "stream",
     "text": [
      "[[[  0 540]\n",
      "  [460 325]\n",
      "  [520 325]\n",
      "  [960 540]]]\n",
      "[[[  0 540]\n",
      "  [460 325]\n",
      "  [520 325]\n",
      "  [960 540]]]\n",
      "[[[  0 540]\n",
      "  [460 325]\n",
      "  [520 325]\n",
      "  [960 540]]]\n",
      "[[[  0 540]\n",
      "  [460 325]\n",
      "  [520 325]\n",
      "  [960 540]]]\n",
      "[[[  0 540]\n",
      "  [460 325]\n",
      "  [520 325]\n",
      "  [960 540]]]\n",
      "[[[  0 540]\n",
      "  [460 325]\n",
      "  [520 325]\n",
      "  [960 540]]]\n",
      "[[[  0 540]\n",
      "  [460 325]\n",
      "  [520 325]\n",
      "  [960 540]]]\n",
      "[[[  0 540]\n",
      "  [460 325]\n",
      "  [520 325]\n",
      "  [960 540]]]\n",
      "[[[  0 540]\n",
      "  [460 325]\n",
      "  [520 325]\n",
      "  [960 540]]]\n"
     ]
    },
    {
     "name": "stderr",
     "output_type": "stream",
     "text": [
      "\r",
      " 15%|█▌        | 34/222 [00:00<00:04, 41.41it/s]"
     ]
    },
    {
     "name": "stdout",
     "output_type": "stream",
     "text": [
      "[[[  0 540]\n",
      "  [460 325]\n",
      "  [520 325]\n",
      "  [960 540]]]\n",
      "[[[  0 540]\n",
      "  [460 325]\n",
      "  [520 325]\n",
      "  [960 540]]]\n",
      "[[[  0 540]\n",
      "  [460 325]\n",
      "  [520 325]\n",
      "  [960 540]]]\n",
      "[[[  0 540]\n",
      "  [460 325]\n",
      "  [520 325]\n",
      "  [960 540]]]\n"
     ]
    },
    {
     "name": "stderr",
     "output_type": "stream",
     "text": [
      "\r",
      " 18%|█▊        | 41/222 [00:00<00:03, 46.27it/s]"
     ]
    },
    {
     "name": "stdout",
     "output_type": "stream",
     "text": [
      "[[[  0 540]\n",
      "  [460 325]\n",
      "  [520 325]\n",
      "  [960 540]]]\n",
      "[[[  0 540]\n",
      "  [460 325]\n",
      "  [520 325]\n",
      "  [960 540]]]\n",
      "[[[  0 540]\n",
      "  [460 325]\n",
      "  [520 325]\n",
      "  [960 540]]]\n",
      "[[[  0 540]\n",
      "  [460 325]\n",
      "  [520 325]\n",
      "  [960 540]]]\n",
      "[[[  0 540]\n",
      "  [460 325]\n",
      "  [520 325]\n",
      "  [960 540]]]\n",
      "[[[  0 540]\n",
      "  [460 325]\n",
      "  [520 325]\n",
      "  [960 540]]]\n",
      "[[[  0 540]\n",
      "  [460 325]\n",
      "  [520 325]\n",
      "  [960 540]]]\n"
     ]
    },
    {
     "name": "stderr",
     "output_type": "stream",
     "text": [
      "\r",
      " 21%|██        | 47/222 [00:01<00:05, 33.32it/s]"
     ]
    },
    {
     "name": "stdout",
     "output_type": "stream",
     "text": [
      "[[[  0 540]\n",
      "  [460 325]\n",
      "  [520 325]\n",
      "  [960 540]]]\n",
      "[[[  0 540]\n",
      "  [460 325]\n",
      "  [520 325]\n",
      "  [960 540]]]\n",
      "[[[  0 540]\n",
      "  [460 325]\n",
      "  [520 325]\n",
      "  [960 540]]]\n",
      "[[[  0 540]\n",
      "  [460 325]\n",
      "  [520 325]\n",
      "  [960 540]]]\n"
     ]
    },
    {
     "name": "stderr",
     "output_type": "stream",
     "text": [
      "\r",
      " 23%|██▎       | 52/222 [00:01<00:04, 34.79it/s]"
     ]
    },
    {
     "name": "stdout",
     "output_type": "stream",
     "text": [
      "[[[  0 540]\n",
      "  [460 325]\n",
      "  [520 325]\n",
      "  [960 540]]]\n",
      "[[[  0 540]\n",
      "  [460 325]\n",
      "  [520 325]\n",
      "  [960 540]]]\n",
      "[[[  0 540]\n",
      "  [460 325]\n",
      "  [520 325]\n",
      "  [960 540]]]\n",
      "[[[  0 540]\n",
      "  [460 325]\n",
      "  [520 325]\n",
      "  [960 540]]]\n",
      "[[[  0 540]\n",
      "  [460 325]\n",
      "  [520 325]\n",
      "  [960 540]]]\n",
      "[[[  0 540]\n",
      "  [460 325]\n",
      "  [520 325]\n",
      "  [960 540]]]\n",
      "[[[  0 540]\n",
      "  [460 325]\n",
      "  [520 325]\n",
      "  [960 540]]]\n",
      "[[[  0 540]\n",
      "  [460 325]\n",
      "  [520 325]\n",
      "  [960 540]]]\n"
     ]
    },
    {
     "name": "stderr",
     "output_type": "stream",
     "text": [
      "\r",
      " 26%|██▌       | 57/222 [00:01<00:04, 35.77it/s]"
     ]
    },
    {
     "name": "stdout",
     "output_type": "stream",
     "text": [
      "[[[  0 540]\n",
      "  [460 325]\n",
      "  [520 325]\n",
      "  [960 540]]]\n",
      "[[[  0 540]\n",
      "  [460 325]\n",
      "  [520 325]\n",
      "  [960 540]]]\n",
      "[[[  0 540]\n",
      "  [460 325]\n",
      "  [520 325]\n",
      "  [960 540]]]\n",
      "[[[  0 540]\n",
      "  [460 325]\n",
      "  [520 325]\n",
      "  [960 540]]]\n",
      "[[[  0 540]\n",
      "  [460 325]\n",
      "  [520 325]\n",
      "  [960 540]]]\n"
     ]
    },
    {
     "name": "stderr",
     "output_type": "stream",
     "text": [
      "\r",
      " 28%|██▊       | 62/222 [00:01<00:04, 36.46it/s]"
     ]
    },
    {
     "name": "stdout",
     "output_type": "stream",
     "text": [
      "[[[  0 540]\n",
      "  [460 325]\n",
      "  [520 325]\n",
      "  [960 540]]]\n",
      "[[[  0 540]\n",
      "  [460 325]\n",
      "  [520 325]\n",
      "  [960 540]]]\n"
     ]
    },
    {
     "name": "stderr",
     "output_type": "stream",
     "text": [
      "\r",
      " 30%|██▉       | 66/222 [00:01<00:04, 33.92it/s]"
     ]
    },
    {
     "name": "stdout",
     "output_type": "stream",
     "text": [
      "[[[  0 540]\n",
      "  [460 325]\n",
      "  [520 325]\n",
      "  [960 540]]]\n",
      "[[[  0 540]\n",
      "  [460 325]\n",
      "  [520 325]\n",
      "  [960 540]]]\n",
      "[[[  0 540]\n",
      "  [460 325]\n",
      "  [520 325]\n",
      "  [960 540]]]\n",
      "[[[  0 540]\n",
      "  [460 325]\n",
      "  [520 325]\n",
      "  [960 540]]]\n",
      "[[[  0 540]\n",
      "  [460 325]\n",
      "  [520 325]\n",
      "  [960 540]]]\n"
     ]
    },
    {
     "name": "stderr",
     "output_type": "stream",
     "text": [
      "\r",
      " 32%|███▏      | 70/222 [00:01<00:04, 34.60it/s]"
     ]
    },
    {
     "name": "stdout",
     "output_type": "stream",
     "text": [
      "[[[  0 540]\n",
      "  [460 325]\n",
      "  [520 325]\n",
      "  [960 540]]]\n",
      "[[[  0 540]\n",
      "  [460 325]\n",
      "  [520 325]\n",
      "  [960 540]]]\n",
      "[[[  0 540]\n",
      "  [460 325]\n",
      "  [520 325]\n",
      "  [960 540]]]\n"
     ]
    },
    {
     "name": "stderr",
     "output_type": "stream",
     "text": [
      "\r",
      " 33%|███▎      | 74/222 [00:01<00:04, 36.04it/s]"
     ]
    },
    {
     "name": "stdout",
     "output_type": "stream",
     "text": [
      "[[[  0 540]\n",
      "  [460 325]\n",
      "  [520 325]\n",
      "  [960 540]]]\n",
      "[[[  0 540]\n",
      "  [460 325]\n",
      "  [520 325]\n",
      "  [960 540]]]\n",
      "[[[  0 540]\n",
      "  [460 325]\n",
      "  [520 325]\n",
      "  [960 540]]]\n",
      "[[[  0 540]\n",
      "  [460 325]\n",
      "  [520 325]\n",
      "  [960 540]]]\n",
      "[[[  0 540]\n",
      "  [460 325]\n",
      "  [520 325]\n",
      "  [960 540]]]\n",
      "[[[  0 540]\n",
      "  [460 325]\n",
      "  [520 325]\n",
      "  [960 540]]]\n"
     ]
    },
    {
     "name": "stderr",
     "output_type": "stream",
     "text": [
      "\r",
      " 35%|███▌      | 78/222 [00:02<00:03, 36.83it/s]"
     ]
    },
    {
     "name": "stdout",
     "output_type": "stream",
     "text": [
      "[[[  0 540]\n",
      "  [460 325]\n",
      "  [520 325]\n",
      "  [960 540]]]\n",
      "[[[  0 540]\n",
      "  [460 325]\n",
      "  [520 325]\n",
      "  [960 540]]]\n"
     ]
    },
    {
     "name": "stderr",
     "output_type": "stream",
     "text": [
      "\r",
      " 37%|███▋      | 82/222 [00:02<00:03, 37.07it/s]"
     ]
    },
    {
     "name": "stdout",
     "output_type": "stream",
     "text": [
      "[[[  0 540]\n",
      "  [460 325]\n",
      "  [520 325]\n",
      "  [960 540]]]\n",
      "[[[  0 540]\n",
      "  [460 325]\n",
      "  [520 325]\n",
      "  [960 540]]]\n",
      "[[[  0 540]\n",
      "  [460 325]\n",
      "  [520 325]\n",
      "  [960 540]]]\n",
      "[[[  0 540]\n",
      "  [460 325]\n",
      "  [520 325]\n",
      "  [960 540]]]\n",
      "[[[  0 540]\n",
      "  [460 325]\n",
      "  [520 325]\n",
      "  [960 540]]]\n",
      "[[[  0 540]\n",
      "  [460 325]\n",
      "  [520 325]\n",
      "  [960 540]]]\n"
     ]
    },
    {
     "name": "stderr",
     "output_type": "stream",
     "text": [
      "\r",
      " 39%|███▊      | 86/222 [00:02<00:03, 37.88it/s]"
     ]
    },
    {
     "name": "stdout",
     "output_type": "stream",
     "text": [
      "[[[  0 540]\n",
      "  [460 325]\n",
      "  [520 325]\n",
      "  [960 540]]]\n",
      "[[[  0 540]\n",
      "  [460 325]\n",
      "  [520 325]\n",
      "  [960 540]]]\n"
     ]
    },
    {
     "name": "stderr",
     "output_type": "stream",
     "text": [
      "\r",
      " 41%|████      | 90/222 [00:02<00:03, 38.04it/s]"
     ]
    },
    {
     "name": "stdout",
     "output_type": "stream",
     "text": [
      "[[[  0 540]\n",
      "  [460 325]\n",
      "  [520 325]\n",
      "  [960 540]]]\n",
      "[[[  0 540]\n",
      "  [460 325]\n",
      "  [520 325]\n",
      "  [960 540]]]\n",
      "[[[  0 540]\n",
      "  [460 325]\n",
      "  [520 325]\n",
      "  [960 540]]]\n",
      "[[[  0 540]\n",
      "  [460 325]\n",
      "  [520 325]\n",
      "  [960 540]]]\n",
      "[[[  0 540]\n",
      "  [460 325]\n",
      "  [520 325]\n",
      "  [960 540]]]\n",
      "[[[  0 540]\n",
      "  [460 325]\n",
      "  [520 325]\n",
      "  [960 540]]]\n"
     ]
    },
    {
     "name": "stderr",
     "output_type": "stream",
     "text": [
      "\r",
      " 42%|████▏     | 94/222 [00:02<00:03, 38.19it/s]"
     ]
    },
    {
     "name": "stdout",
     "output_type": "stream",
     "text": [
      "[[[  0 540]\n",
      "  [460 325]\n",
      "  [520 325]\n",
      "  [960 540]]]\n",
      "[[[  0 540]\n",
      "  [460 325]\n",
      "  [520 325]\n",
      "  [960 540]]]\n"
     ]
    },
    {
     "name": "stderr",
     "output_type": "stream",
     "text": [
      "\r",
      " 44%|████▍     | 98/222 [00:02<00:03, 37.04it/s]"
     ]
    },
    {
     "name": "stdout",
     "output_type": "stream",
     "text": [
      "[[[  0 540]\n",
      "  [460 325]\n",
      "  [520 325]\n",
      "  [960 540]]]\n",
      "[[[  0 540]\n",
      "  [460 325]\n",
      "  [520 325]\n",
      "  [960 540]]]\n",
      "[[[  0 540]\n",
      "  [460 325]\n",
      "  [520 325]\n",
      "  [960 540]]]\n",
      "[[[  0 540]\n",
      "  [460 325]\n",
      "  [520 325]\n",
      "  [960 540]]]\n",
      "[[[  0 540]\n",
      "  [460 325]\n",
      "  [520 325]\n",
      "  [960 540]]]\n",
      "[[[  0 540]\n",
      "  [460 325]\n",
      "  [520 325]\n",
      "  [960 540]]]\n"
     ]
    },
    {
     "name": "stderr",
     "output_type": "stream",
     "text": [
      "\r",
      " 46%|████▌     | 102/222 [00:02<00:03, 36.82it/s]"
     ]
    },
    {
     "name": "stdout",
     "output_type": "stream",
     "text": [
      "[[[  0 540]\n",
      "  [460 325]\n",
      "  [520 325]\n",
      "  [960 540]]]\n",
      "[[[  0 540]\n",
      "  [460 325]\n",
      "  [520 325]\n",
      "  [960 540]]]\n"
     ]
    },
    {
     "name": "stderr",
     "output_type": "stream",
     "text": [
      "\r",
      " 48%|████▊     | 106/222 [00:02<00:03, 37.11it/s]"
     ]
    },
    {
     "name": "stdout",
     "output_type": "stream",
     "text": [
      "[[[  0 540]\n",
      "  [460 325]\n",
      "  [520 325]\n",
      "  [960 540]]]\n",
      "[[[  0 540]\n",
      "  [460 325]\n",
      "  [520 325]\n",
      "  [960 540]]]\n",
      "[[[  0 540]\n",
      "  [460 325]\n",
      "  [520 325]\n",
      "  [960 540]]]\n",
      "[[[  0 540]\n",
      "  [460 325]\n",
      "  [520 325]\n",
      "  [960 540]]]\n",
      "[[[  0 540]\n",
      "  [460 325]\n",
      "  [520 325]\n",
      "  [960 540]]]\n",
      "[[[  0 540]\n",
      "  [460 325]\n",
      "  [520 325]\n",
      "  [960 540]]]\n"
     ]
    },
    {
     "name": "stderr",
     "output_type": "stream",
     "text": [
      "\r",
      " 50%|████▉     | 110/222 [00:02<00:02, 37.81it/s]"
     ]
    },
    {
     "name": "stdout",
     "output_type": "stream",
     "text": [
      "[[[  0 540]\n",
      "  [460 325]\n",
      "  [520 325]\n",
      "  [960 540]]]\n",
      "[[[  0 540]\n",
      "  [460 325]\n",
      "  [520 325]\n",
      "  [960 540]]]\n",
      "[[[  0 540]\n",
      "  [460 325]\n",
      "  [520 325]\n",
      "  [960 540]]]\n"
     ]
    },
    {
     "name": "stderr",
     "output_type": "stream",
     "text": [
      "\r",
      " 51%|█████▏    | 114/222 [00:02<00:02, 38.16it/s]"
     ]
    },
    {
     "name": "stdout",
     "output_type": "stream",
     "text": [
      "[[[  0 540]\n",
      "  [460 325]\n",
      "  [520 325]\n",
      "  [960 540]]]\n",
      "[[[  0 540]\n",
      "  [460 325]\n",
      "  [520 325]\n",
      "  [960 540]]]\n",
      "[[[  0 540]\n",
      "  [460 325]\n",
      "  [520 325]\n",
      "  [960 540]]]\n",
      "[[[  0 540]\n",
      "  [460 325]\n",
      "  [520 325]\n",
      "  [960 540]]]\n",
      "[[[  0 540]\n",
      "  [460 325]\n",
      "  [520 325]\n",
      "  [960 540]]]\n"
     ]
    },
    {
     "name": "stderr",
     "output_type": "stream",
     "text": [
      "\r",
      " 53%|█████▎    | 118/222 [00:03<00:02, 37.65it/s]"
     ]
    },
    {
     "name": "stdout",
     "output_type": "stream",
     "text": [
      "[[[  0 540]\n",
      "  [460 325]\n",
      "  [520 325]\n",
      "  [960 540]]]\n",
      "[[[  0 540]\n",
      "  [460 325]\n",
      "  [520 325]\n",
      "  [960 540]]]\n",
      "[[[  0 540]\n",
      "  [460 325]\n",
      "  [520 325]\n",
      "  [960 540]]]\n"
     ]
    },
    {
     "name": "stderr",
     "output_type": "stream",
     "text": [
      "\r",
      " 55%|█████▍    | 122/222 [00:03<00:02, 36.25it/s]"
     ]
    },
    {
     "name": "stdout",
     "output_type": "stream",
     "text": [
      "[[[  0 540]\n",
      "  [460 325]\n",
      "  [520 325]\n",
      "  [960 540]]]\n",
      "[[[  0 540]\n",
      "  [460 325]\n",
      "  [520 325]\n",
      "  [960 540]]]\n",
      "[[[  0 540]\n",
      "  [460 325]\n",
      "  [520 325]\n",
      "  [960 540]]]\n",
      "[[[  0 540]\n",
      "  [460 325]\n",
      "  [520 325]\n",
      "  [960 540]]]\n",
      "[[[  0 540]\n",
      "  [460 325]\n",
      "  [520 325]\n",
      "  [960 540]]]\n"
     ]
    },
    {
     "name": "stderr",
     "output_type": "stream",
     "text": [
      "\r",
      " 57%|█████▋    | 126/222 [00:03<00:02, 36.99it/s]"
     ]
    },
    {
     "name": "stdout",
     "output_type": "stream",
     "text": [
      "[[[  0 540]\n",
      "  [460 325]\n",
      "  [520 325]\n",
      "  [960 540]]]\n",
      "[[[  0 540]\n",
      "  [460 325]\n",
      "  [520 325]\n",
      "  [960 540]]]\n",
      "[[[  0 540]\n",
      "  [460 325]\n",
      "  [520 325]\n",
      "  [960 540]]]\n"
     ]
    },
    {
     "name": "stderr",
     "output_type": "stream",
     "text": [
      "\r",
      " 59%|█████▊    | 130/222 [00:03<00:02, 37.08it/s]"
     ]
    },
    {
     "name": "stdout",
     "output_type": "stream",
     "text": [
      "[[[  0 540]\n",
      "  [460 325]\n",
      "  [520 325]\n",
      "  [960 540]]]\n",
      "[[[  0 540]\n",
      "  [460 325]\n",
      "  [520 325]\n",
      "  [960 540]]]\n",
      "[[[  0 540]\n",
      "  [460 325]\n",
      "  [520 325]\n",
      "  [960 540]]]\n",
      "[[[  0 540]\n",
      "  [460 325]\n",
      "  [520 325]\n",
      "  [960 540]]]\n",
      "[[[  0 540]\n",
      "  [460 325]\n",
      "  [520 325]\n",
      "  [960 540]]]\n"
     ]
    },
    {
     "name": "stderr",
     "output_type": "stream",
     "text": [
      "\r",
      " 61%|██████    | 135/222 [00:03<00:02, 37.93it/s]"
     ]
    },
    {
     "name": "stdout",
     "output_type": "stream",
     "text": [
      "[[[  0 540]\n",
      "  [460 325]\n",
      "  [520 325]\n",
      "  [960 540]]]\n",
      "[[[  0 540]\n",
      "  [460 325]\n",
      "  [520 325]\n",
      "  [960 540]]]\n",
      "[[[  0 540]\n",
      "  [460 325]\n",
      "  [520 325]\n",
      "  [960 540]]]\n",
      "[[[  0 540]\n",
      "  [460 325]\n",
      "  [520 325]\n",
      "  [960 540]]]\n"
     ]
    },
    {
     "name": "stderr",
     "output_type": "stream",
     "text": [
      "\r",
      " 63%|██████▎   | 140/222 [00:03<00:02, 39.01it/s]"
     ]
    },
    {
     "name": "stdout",
     "output_type": "stream",
     "text": [
      "[[[  0 540]\n",
      "  [460 325]\n",
      "  [520 325]\n",
      "  [960 540]]]\n",
      "[[[  0 540]\n",
      "  [460 325]\n",
      "  [520 325]\n",
      "  [960 540]]]\n",
      "[[[  0 540]\n",
      "  [460 325]\n",
      "  [520 325]\n",
      "  [960 540]]]\n",
      "[[[  0 540]\n",
      "  [460 325]\n",
      "  [520 325]\n",
      "  [960 540]]]\n",
      "[[[  0 540]\n",
      "  [460 325]\n",
      "  [520 325]\n",
      "  [960 540]]]\n"
     ]
    },
    {
     "name": "stderr",
     "output_type": "stream",
     "text": [
      "\r",
      " 65%|██████▍   | 144/222 [00:03<00:01, 39.16it/s]"
     ]
    },
    {
     "name": "stdout",
     "output_type": "stream",
     "text": [
      "[[[  0 540]\n",
      "  [460 325]\n",
      "  [520 325]\n",
      "  [960 540]]]\n",
      "[[[  0 540]\n",
      "  [460 325]\n",
      "  [520 325]\n",
      "  [960 540]]]\n",
      "[[[  0 540]\n",
      "  [460 325]\n",
      "  [520 325]\n",
      "  [960 540]]]\n"
     ]
    },
    {
     "name": "stderr",
     "output_type": "stream",
     "text": [
      "\r",
      " 67%|██████▋   | 148/222 [00:03<00:01, 38.66it/s]"
     ]
    },
    {
     "name": "stdout",
     "output_type": "stream",
     "text": [
      "[[[  0 540]\n",
      "  [460 325]\n",
      "  [520 325]\n",
      "  [960 540]]]\n",
      "[[[  0 540]\n",
      "  [460 325]\n",
      "  [520 325]\n",
      "  [960 540]]]\n",
      "[[[  0 540]\n",
      "  [460 325]\n",
      "  [520 325]\n",
      "  [960 540]]]\n",
      "[[[  0 540]\n",
      "  [460 325]\n",
      "  [520 325]\n",
      "  [960 540]]]\n",
      "[[[  0 540]\n",
      "  [460 325]\n",
      "  [520 325]\n",
      "  [960 540]]]\n",
      "[[[  0 540]\n",
      "  [460 325]\n",
      "  [520 325]\n",
      "  [960 540]]]"
     ]
    },
    {
     "name": "stderr",
     "output_type": "stream",
     "text": [
      "\r",
      " 69%|██████▉   | 153/222 [00:04<00:01, 39.75it/s]"
     ]
    },
    {
     "name": "stdout",
     "output_type": "stream",
     "text": [
      "\n",
      "[[[  0 540]\n",
      "  [460 325]\n",
      "  [520 325]\n",
      "  [960 540]]]\n",
      "[[[  0 540]\n",
      "  [460 325]\n",
      "  [520 325]\n",
      "  [960 540]]]\n",
      "[[[  0 540]\n",
      "  [460 325]\n",
      "  [520 325]\n",
      "  [960 540]]]\n"
     ]
    },
    {
     "name": "stderr",
     "output_type": "stream",
     "text": [
      "\r",
      " 71%|███████   | 157/222 [00:04<00:01, 39.75it/s]"
     ]
    },
    {
     "name": "stdout",
     "output_type": "stream",
     "text": [
      "[[[  0 540]\n",
      "  [460 325]\n",
      "  [520 325]\n",
      "  [960 540]]]\n",
      "[[[  0 540]\n",
      "  [460 325]\n",
      "  [520 325]\n",
      "  [960 540]]]\n",
      "[[[  0 540]\n",
      "  [460 325]\n",
      "  [520 325]\n",
      "  [960 540]]]\n",
      "[[[  0 540]\n",
      "  [460 325]\n",
      "  [520 325]\n",
      "  [960 540]]]\n",
      "[[[  0 540]\n",
      "  [460 325]\n",
      "  [520 325]\n",
      "  [960 540]]]\n"
     ]
    },
    {
     "name": "stderr",
     "output_type": "stream",
     "text": [
      "\r",
      " 73%|███████▎  | 161/222 [00:04<00:01, 39.17it/s]"
     ]
    },
    {
     "name": "stdout",
     "output_type": "stream",
     "text": [
      "[[[  0 540]\n",
      "  [460 325]\n",
      "  [520 325]\n",
      "  [960 540]]]\n",
      "[[[  0 540]\n",
      "  [460 325]\n",
      "  [520 325]\n",
      "  [960 540]]]\n",
      "[[[  0 540]\n",
      "  [460 325]\n",
      "  [520 325]\n",
      "  [960 540]]]\n"
     ]
    },
    {
     "name": "stderr",
     "output_type": "stream",
     "text": [
      "\r",
      " 74%|███████▍  | 165/222 [00:04<00:01, 38.99it/s]"
     ]
    },
    {
     "name": "stdout",
     "output_type": "stream",
     "text": [
      "[[[  0 540]\n",
      "  [460 325]\n",
      "  [520 325]\n",
      "  [960 540]]]\n",
      "[[[  0 540]\n",
      "  [460 325]\n",
      "  [520 325]\n",
      "  [960 540]]]\n",
      "[[[  0 540]\n",
      "  [460 325]\n",
      "  [520 325]\n",
      "  [960 540]]]\n",
      "[[[  0 540]\n",
      "  [460 325]\n",
      "  [520 325]\n",
      "  [960 540]]]\n",
      "[[[  0 540]\n",
      "  [460 325]\n",
      "  [520 325]\n",
      "  [960 540]]]\n"
     ]
    },
    {
     "name": "stderr",
     "output_type": "stream",
     "text": [
      "\r",
      " 76%|███████▌  | 169/222 [00:04<00:01, 39.09it/s]"
     ]
    },
    {
     "name": "stdout",
     "output_type": "stream",
     "text": [
      "[[[  0 540]\n",
      "  [460 325]\n",
      "  [520 325]\n",
      "  [960 540]]]\n",
      "[[[  0 540]\n",
      "  [460 325]\n",
      "  [520 325]\n",
      "  [960 540]]]\n",
      "[[[  0 540]\n",
      "  [460 325]\n",
      "  [520 325]\n",
      "  [960 540]]]\n",
      "[[[  0 540]\n",
      "  [460 325]\n",
      "  [520 325]\n",
      "  [960 540]]]\n"
     ]
    },
    {
     "name": "stderr",
     "output_type": "stream",
     "text": [
      "\r",
      " 78%|███████▊  | 173/222 [00:04<00:01, 39.23it/s]"
     ]
    },
    {
     "name": "stdout",
     "output_type": "stream",
     "text": [
      "[[[  0 540]\n",
      "  [460 325]\n",
      "  [520 325]\n",
      "  [960 540]]]\n",
      "[[[  0 540]\n",
      "  [460 325]\n",
      "  [520 325]\n",
      "  [960 540]]]\n",
      "[[[  0 540]\n",
      "  [460 325]\n",
      "  [520 325]\n",
      "  [960 540]]]\n",
      "[[[  0 540]\n",
      "  [460 325]\n",
      "  [520 325]\n",
      "  [960 540]]]\n",
      "[[[  0 540]\n",
      "  [460 325]\n",
      "  [520 325]\n",
      "  [960 540]]]\n"
     ]
    },
    {
     "name": "stderr",
     "output_type": "stream",
     "text": [
      "\r",
      " 80%|███████▉  | 177/222 [00:04<00:01, 39.40it/s]"
     ]
    },
    {
     "name": "stdout",
     "output_type": "stream",
     "text": [
      "[[[  0 540]\n",
      "  [460 325]\n",
      "  [520 325]\n",
      "  [960 540]]]\n",
      "[[[  0 540]\n",
      "  [460 325]\n",
      "  [520 325]\n",
      "  [960 540]]]\n",
      "[[[  0 540]\n",
      "  [460 325]\n",
      "  [520 325]\n",
      "  [960 540]]]\n"
     ]
    },
    {
     "name": "stderr",
     "output_type": "stream",
     "text": [
      "\r",
      " 82%|████████▏ | 181/222 [00:04<00:01, 38.69it/s]"
     ]
    },
    {
     "name": "stdout",
     "output_type": "stream",
     "text": [
      "[[[  0 540]\n",
      "  [460 325]\n",
      "  [520 325]\n",
      "  [960 540]]]\n",
      "[[[  0 540]\n",
      "  [460 325]\n",
      "  [520 325]\n",
      "  [960 540]]]\n",
      "[[[  0 540]\n",
      "  [460 325]\n",
      "  [520 325]\n",
      "  [960 540]]]\n",
      "[[[  0 540]\n",
      "  [460 325]\n",
      "  [520 325]\n",
      "  [960 540]]]\n",
      "[[[  0 540]\n",
      "  [460 325]\n",
      "  [520 325]\n",
      "  [960 540]]]\n"
     ]
    },
    {
     "name": "stderr",
     "output_type": "stream",
     "text": [
      "\r",
      " 83%|████████▎ | 185/222 [00:04<00:00, 38.77it/s]"
     ]
    },
    {
     "name": "stdout",
     "output_type": "stream",
     "text": [
      "[[[  0 540]\n",
      "  [460 325]\n",
      "  [520 325]\n",
      "  [960 540]]]\n",
      "[[[  0 540]\n",
      "  [460 325]\n",
      "  [520 325]\n",
      "  [960 540]]]\n",
      "[[[  0 540]\n",
      "  [460 325]\n",
      "  [520 325]\n",
      "  [960 540]]]\n"
     ]
    },
    {
     "name": "stderr",
     "output_type": "stream",
     "text": [
      "\r",
      " 85%|████████▌ | 189/222 [00:04<00:00, 37.84it/s]"
     ]
    },
    {
     "name": "stdout",
     "output_type": "stream",
     "text": [
      "[[[  0 540]\n",
      "  [460 325]\n",
      "  [520 325]\n",
      "  [960 540]]]\n",
      "[[[  0 540]\n",
      "  [460 325]\n",
      "  [520 325]\n",
      "  [960 540]]]\n",
      "[[[  0 540]\n",
      "  [460 325]\n",
      "  [520 325]\n",
      "  [960 540]]]\n",
      "[[[  0 540]\n",
      "  [460 325]\n",
      "  [520 325]\n",
      "  [960 540]]]\n",
      "[[[  0 540]\n",
      "  [460 325]\n",
      "  [520 325]\n",
      "  [960 540]]]\n"
     ]
    },
    {
     "name": "stderr",
     "output_type": "stream",
     "text": [
      "\r",
      " 87%|████████▋ | 193/222 [00:05<00:00, 36.53it/s]"
     ]
    },
    {
     "name": "stdout",
     "output_type": "stream",
     "text": [
      "[[[  0 540]\n",
      "  [460 325]\n",
      "  [520 325]\n",
      "  [960 540]]]\n",
      "[[[  0 540]\n",
      "  [460 325]\n",
      "  [520 325]\n",
      "  [960 540]]]\n"
     ]
    },
    {
     "name": "stderr",
     "output_type": "stream",
     "text": [
      "\r",
      " 89%|████████▊ | 197/222 [00:05<00:00, 36.07it/s]"
     ]
    },
    {
     "name": "stdout",
     "output_type": "stream",
     "text": [
      "[[[  0 540]\n",
      "  [460 325]\n",
      "  [520 325]\n",
      "  [960 540]]]\n",
      "[[[  0 540]\n",
      "  [460 325]\n",
      "  [520 325]\n",
      "  [960 540]]]\n",
      "[[[  0 540]\n",
      "  [460 325]\n",
      "  [520 325]\n",
      "  [960 540]]]\n",
      "[[[  0 540]\n",
      "  [460 325]\n",
      "  [520 325]\n",
      "  [960 540]]]\n",
      "[[[  0 540]\n",
      "  [460 325]\n",
      "  [520 325]\n",
      "  [960 540]]]\n",
      "[[[  0 540]\n",
      "  [460 325]\n",
      "  [520 325]\n",
      "  [960 540]]]\n"
     ]
    },
    {
     "name": "stderr",
     "output_type": "stream",
     "text": [
      "\r",
      " 91%|█████████ | 201/222 [00:05<00:00, 35.99it/s]"
     ]
    },
    {
     "name": "stdout",
     "output_type": "stream",
     "text": [
      "[[[  0 540]\n",
      "  [460 325]\n",
      "  [520 325]\n",
      "  [960 540]]]\n",
      "[[[  0 540]\n",
      "  [460 325]\n",
      "  [520 325]\n",
      "  [960 540]]]\n"
     ]
    },
    {
     "name": "stderr",
     "output_type": "stream",
     "text": [
      "\r",
      " 92%|█████████▏| 205/222 [00:05<00:00, 36.45it/s]"
     ]
    },
    {
     "name": "stdout",
     "output_type": "stream",
     "text": [
      "[[[  0 540]\n",
      "  [460 325]\n",
      "  [520 325]\n",
      "  [960 540]]]\n",
      "[[[  0 540]\n",
      "  [460 325]\n",
      "  [520 325]\n",
      "  [960 540]]]\n",
      "[[[  0 540]\n",
      "  [460 325]\n",
      "  [520 325]\n",
      "  [960 540]]]\n",
      "[[[  0 540]\n",
      "  [460 325]\n",
      "  [520 325]\n",
      "  [960 540]]]\n",
      "[[[  0 540]\n",
      "  [460 325]\n",
      "  [520 325]\n",
      "  [960 540]]]\n",
      "[[[  0 540]\n",
      "  [460 325]\n",
      "  [520 325]\n",
      "  [960 540]]]\n"
     ]
    },
    {
     "name": "stderr",
     "output_type": "stream",
     "text": [
      "\r",
      " 94%|█████████▍| 209/222 [00:05<00:00, 37.38it/s]"
     ]
    },
    {
     "name": "stdout",
     "output_type": "stream",
     "text": [
      "[[[  0 540]\n",
      "  [460 325]\n",
      "  [520 325]\n",
      "  [960 540]]]\n",
      "[[[  0 540]\n",
      "  [460 325]\n",
      "  [520 325]\n",
      "  [960 540]]]\n"
     ]
    },
    {
     "name": "stderr",
     "output_type": "stream",
     "text": [
      "\r",
      " 96%|█████████▌| 213/222 [00:05<00:00, 37.70it/s]"
     ]
    },
    {
     "name": "stdout",
     "output_type": "stream",
     "text": [
      "[[[  0 540]\n",
      "  [460 325]\n",
      "  [520 325]\n",
      "  [960 540]]]\n",
      "[[[  0 540]\n",
      "  [460 325]\n",
      "  [520 325]\n",
      "  [960 540]]]\n",
      "[[[  0 540]\n",
      "  [460 325]\n",
      "  [520 325]\n",
      "  [960 540]]]\n",
      "[[[  0 540]\n",
      "  [460 325]\n",
      "  [520 325]\n",
      "  [960 540]]]\n",
      "[[[  0 540]\n",
      "  [460 325]\n",
      "  [520 325]\n",
      "  [960 540]]]\n",
      "[[[  0 540]\n",
      "  [460 325]\n",
      "  [520 325]\n",
      "  [960 540]]]\n"
     ]
    },
    {
     "name": "stderr",
     "output_type": "stream",
     "text": [
      "\r",
      " 98%|█████████▊| 217/222 [00:05<00:00, 37.88it/s]"
     ]
    },
    {
     "name": "stdout",
     "output_type": "stream",
     "text": [
      "[[[  0 540]\n",
      "  [460 325]\n",
      "  [520 325]\n",
      "  [960 540]]]\n",
      "[[[  0 540]\n",
      "  [460 325]\n",
      "  [520 325]\n",
      "  [960 540]]]\n"
     ]
    },
    {
     "name": "stderr",
     "output_type": "stream",
     "text": [
      "100%|█████████▉| 221/222 [00:05<00:00, 37.92it/s]\n"
     ]
    },
    {
     "name": "stdout",
     "output_type": "stream",
     "text": [
      "[[[  0 540]\n",
      "  [460 325]\n",
      "  [520 325]\n",
      "  [960 540]]]\n",
      "[[[  0 540]\n",
      "  [460 325]\n",
      "  [520 325]\n",
      "  [960 540]]]\n",
      "[MoviePy] Done.\n",
      "[MoviePy] >>>> Video ready: ../data/car/video_2.mp4 \n",
      "\n"
     ]
    }
   ],
   "source": [
    "output = os.path.join(root_dir, 'video_2.mp4')\n",
    "clip = VideoFileClip(output)\n",
    "out_clip = clip.fl_image(process_an_image)\n",
    "out_clip.write_videofile(output, audio=False)"
   ]
  },
  {
   "cell_type": "code",
   "execution_count": null,
   "metadata": {
    "collapsed": true
   },
   "outputs": [],
   "source": []
  }
 ],
 "metadata": {
  "kernelspec": {
   "display_name": "Python 3",
   "language": "python",
   "name": "python3"
  },
  "language_info": {
   "codemirror_mode": {
    "name": "ipython",
    "version": 3
   },
   "file_extension": ".py",
   "mimetype": "text/x-python",
   "name": "python",
   "nbconvert_exporter": "python",
   "pygments_lexer": "ipython3",
   "version": "3.4.3"
  }
 },
 "nbformat": 4,
 "nbformat_minor": 2
}
