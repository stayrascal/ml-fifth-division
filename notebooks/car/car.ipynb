{
 "cells": [
  {
   "cell_type": "code",
   "execution_count": 10,
   "metadata": {
    "collapsed": true,
    "deletable": true,
    "editable": true
   },
   "outputs": [],
   "source": [
    "import tensorflow as tf\n",
    "import numpy as np\n",
    "import matplotlib.pyplot as plt\n",
    "\n",
    "%matplotlib inline"
   ]
  },
  {
   "cell_type": "code",
   "execution_count": 15,
   "metadata": {
    "collapsed": false
   },
   "outputs": [
    {
     "name": "stdout",
     "output_type": "stream",
     "text": [
      "0.875469\n",
      "0.587787\n",
      "0.875469\n"
     ]
    }
   ],
   "source": [
    "sess = tf.Session()\n",
    "logits_gen = [1.8, 3.2, -0.0, -3.7]\n",
    "logits_true = [2.4, -0.3, -2.2, 0.5]\n",
    "print(sess.run(tf.log(2.4)))\n",
    "print(sess.run(tf.log(1.8)))\n",
    "print(sess.run(2.4 * tf.log(2.4) -0.3 * tf.log(3.2) -2.2 * tf.log() ))"
   ]
  },
  {
   "cell_type": "code",
   "execution_count": 3,
   "metadata": {
    "collapsed": false,
    "deletable": true,
    "editable": true
   },
   "outputs": [
    {
     "name": "stdout",
     "output_type": "stream",
     "text": [
      "input mean 0.00035 and std 1.00034\n",
      "layer 1 mean 0.39652 and std 0.58051\n",
      "layer 2 mean 0.39131 and std 0.57257\n",
      "layer 3 mean 0.39022 and std 0.57180\n",
      "layer 4 mean 0.38910 and std 0.57082\n",
      "layer 5 mean 0.38789 and std 0.56936\n",
      "layer 6 mean 0.38678 and std 0.56910\n",
      "layer 7 mean 0.38546 and std 0.56751\n",
      "layer 8 mean 0.38356 and std 0.56559\n",
      "layer 9 mean 0.38146 and std 0.56412\n"
     ]
    },
    {
     "data": {
      "image/png": "[encoded data removed]",
      "text/plain": [
       "<matplotlib.figure.Figure at 0x7f816b6afc18>"
      ]
     },
     "metadata": {},
     "output_type": "display_data"
    }
   ],
   "source": [
    "graph = tf.Graph()\n",
    "with graph.as_default():\n",
    "    data = tf.constant(np.random.randn(2000, 800).astype('float32'))\n",
    "    layer_sizes = [800 - 50 * i for i in range(0,10)]\n",
    "    num_layers = len(layer_sizes)\n",
    "  \n",
    "    fcs = []\n",
    "    for i in range(0, num_layers - 1):\n",
    "        X = data if i == 0 else fcs[i - 1]\n",
    "        node_in = layer_sizes[i]\n",
    "        node_out = layer_sizes[i + 1]\n",
    "        W = tf.Variable(np.random.randn(node_in, node_out).astype('float32')) * 0.01 #/ np.sqrt(node_in)\n",
    "        fc = tf.matmul(X, W)\n",
    "        fc = tf.contrib.layers.batch_norm(fc, center=True, scale=True, is_training=True)\n",
    "        fc = tf.nn.relu(fc)\n",
    "        fcs.append(fc)\n",
    "    \n",
    "with tf.Session(graph=graph) as sess:\n",
    "    sess.run(tf.global_variables_initializer())\n",
    "  \n",
    "    print('input mean {0:.5f} and std {1:.5f}'.format(np.mean(data.eval()), np.std(data.eval())))\n",
    "    for idx, fc in enumerate(fcs):\n",
    "        print('layer {0} mean {1:.5f} and std {2:.5f}'.format(idx+1, np.mean(fc.eval()), np.std(fc.eval())))\n",
    "  \n",
    "    plt.figure()\n",
    "    for idx, fc in enumerate(fcs):\n",
    "        plt.subplot(1, len(fcs), idx+1)\n",
    "        plt.hist(fc.eval().flatten(), 30, range=[-1,1])"
   ]
  },
  {
   "cell_type": "code",
   "execution_count": null,
   "metadata": {
    "collapsed": true,
    "deletable": true,
    "editable": true
   },
   "outputs": [],
   "source": []
  }
 ],
 "metadata": {
  "kernelspec": {
   "display_name": "Python 3",
   "language": "python",
   "name": "python3"
  },
  "language_info": {
   "codemirror_mode": {
    "name": "ipython",
    "version": 3
   },
   "file_extension": ".py",
   "mimetype": "text/x-python",
   "name": "python",
   "nbconvert_exporter": "python",
   "pygments_lexer": "ipython3",
   "version": "3.5.2"
  }
 },
 "nbformat": 4,
 "nbformat_minor": 2
}
