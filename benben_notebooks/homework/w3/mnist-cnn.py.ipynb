{
 "cells": [
  {
   "cell_type": "code",
   "execution_count": 2,
   "metadata": {
    "collapsed": true,
    "deletable": true,
    "editable": true
   },
   "outputs": [],
   "source": [
    "#import modules\n",
    "import tensorflow as tf\n",
    "import time\n",
    "import os\n",
    "from tensorflow.examples.tutorials.mnist import input_data"
   ]
  },
  {
   "cell_type": "code",
   "execution_count": 3,
   "metadata": {
    "collapsed": false,
    "deletable": true,
    "editable": true
   },
   "outputs": [
    {
     "name": "stdout",
     "output_type": "stream",
     "text": [
      "Extracting MNIST_data/train-images-idx3-ubyte.gz\n",
      "Extracting MNIST_data/train-labels-idx1-ubyte.gz\n",
      "Extracting MNIST_data/t10k-images-idx3-ubyte.gz\n",
      "Extracting MNIST_data/t10k-labels-idx1-ubyte.gz\n"
     ]
    }
   ],
   "source": [
    "#import data\n",
    "mnist = input_data.read_data_sets(\"MNIST_data/\", one_hot=True)"
   ]
  },
  {
   "cell_type": "code",
   "execution_count": 4,
   "metadata": {
    "collapsed": true,
    "deletable": true,
    "editable": true
   },
   "outputs": [],
   "source": [
    "#define args\n",
    "LEARNING_RATE = 0.01\n",
    "batch_size = 128\n",
    "n_epochs = 1\n",
    "\n",
    "DROPOUT = 0.75\n",
    "N_CLASSES = 10\n",
    "SKIP_STEP = 10"
   ]
  },
  {
   "cell_type": "code",
   "execution_count": 5,
   "metadata": {
    "collapsed": true,
    "deletable": true,
    "editable": true
   },
   "outputs": [],
   "source": [
    "X = tf.placeholder(tf.float32, [None, 784], name=\"X_placeholder\")\n",
    "Y = tf.placeholder(tf.float32, [None, 10], name=\"Y_placeholder\")\n",
    "\n",
    "dropout = tf.placeholder(tf.float32, name='dropout')"
   ]
  },
  {
   "cell_type": "code",
   "execution_count": 6,
   "metadata": {
    "collapsed": false,
    "deletable": true,
    "editable": true
   },
   "outputs": [],
   "source": [
    "global_step = tf.Variable(0, dtype=tf.int32, trainable=False, name='global_step')\n",
    "\n",
    "def paddingTwoZero(image):\n",
    "    paddings = [[2, 2], [2, 2]]\n",
    "    newImage = tf.pad(image, paddings, \"CONSTANT\")\n",
    "    return newImage\n",
    "\n",
    "with tf.variable_scope('conv1') as scope:\n",
    "    temp_images = tf.reshape(X, shape=[-1, 28, 28, 1])\n",
    "    images = tf.image.resize_images(temp_images, [32, 32])\n",
    "    \n",
    "    kernel = tf.get_variable('kernel', [5, 5, 1, 6], \n",
    "                        initializer=tf.truncated_normal_initializer())\n",
    "    biases = tf.get_variable('biases', [6],\n",
    "                        initializer=tf.random_normal_initializer())\n",
    "    conv = tf.nn.conv2d(images, kernel, strides=[1, 1, 1, 1], padding='VALID')\n",
    "    conv1 = tf.nn.relu(conv + biases, name=scope.name)\n",
    "#     output:28 * 28 * 6\n",
    "    \n",
    "with tf.variable_scope('pool1') as scope:\n",
    "    pool1 = tf.nn.max_pool(conv1, ksize=[1, 2, 2, 1], strides=[1, 2, 2, 1],\n",
    "                            padding='VALID')    \n",
    "#     output:14 * 14 * 6\n",
    "\n",
    "with tf.variable_scope('conv2') as scope:\n",
    "    kernel = tf.get_variable('kernels', [5, 5, 6, 16], \n",
    "                        initializer=tf.truncated_normal_initializer())\n",
    "    biases = tf.get_variable('biases', [16],\n",
    "                        initializer=tf.random_normal_initializer())\n",
    "    conv = tf.nn.conv2d(pool1, kernel, strides=[1, 1, 1, 1], padding='VALID')\n",
    "    conv2 = tf.nn.relu(conv + biases, name=scope.name)\n",
    "#     output:10 * 10 * 16\n",
    "\n",
    "with tf.variable_scope('pool2') as scope:\n",
    "    pool2 = tf.nn.max_pool(conv2, ksize=[1, 2, 2, 1], strides=[1, 2, 2, 1],\n",
    "                            padding='VALID')\n",
    "#     output:5 * 5 * 16\n",
    "\n",
    "\n",
    "with tf.variable_scope('fc') as scope:\n",
    "    input_features = 5 * 5 * 16\n",
    "    w = tf.get_variable('weights', [input_features, 512],\n",
    "                        initializer=tf.truncated_normal_initializer())\n",
    "    b = tf.get_variable('biases', [512],\n",
    "                        initializer=tf.random_normal_initializer())\n",
    "\n",
    "    pool2 = tf.reshape(pool2, [-1, input_features])\n",
    "    fc = tf.nn.relu(tf.matmul(pool2, w) + b, name='relu')\n",
    "\n",
    "    fc = tf.nn.dropout(fc, dropout, name='relu_dropout')\n",
    "\n",
    "with tf.variable_scope('softmax_linear') as scope:\n",
    "    w = tf.get_variable('weights', [512, N_CLASSES],\n",
    "                        initializer=tf.truncated_normal_initializer())\n",
    "    b = tf.get_variable('biases', [N_CLASSES],\n",
    "                        initializer=tf.random_normal_initializer())\n",
    "    logits = tf.matmul(fc, w) + b\n"
   ]
  },
  {
   "cell_type": "code",
   "execution_count": 7,
   "metadata": {
    "collapsed": false,
    "deletable": true,
    "editable": true
   },
   "outputs": [],
   "source": [
    "with tf.name_scope('loss'):\n",
    "    entropy = tf.nn.softmax_cross_entropy_with_logits(logits=logits, labels=Y)\n",
    "    loss = tf.reduce_mean(entropy, name='loss')\n",
    "    \n",
    "optimizer = tf.train.AdamOptimizer(LEARNING_RATE).minimize(loss, \n",
    "                                        global_step=global_step)\n"
   ]
  },
  {
   "cell_type": "code",
   "execution_count": 8,
   "metadata": {
    "collapsed": false,
    "deletable": true,
    "editable": true
   },
   "outputs": [
    {
     "name": "stdout",
     "output_type": "stream",
     "text": [
      "Average loss at step 10: 3744.1\n",
      "Average loss at step 20: 839.9\n",
      "Average loss at step 30: 451.9\n",
      "Average loss at step 40: 276.7\n",
      "Average loss at step 50: 178.3\n",
      "Average loss at step 60: 171.4\n",
      "Average loss at step 70: 136.5\n",
      "Average loss at step 80: 153.9\n",
      "Average loss at step 90: 117.5\n",
      "Average loss at step 100: 115.4\n",
      "Average loss at step 110:  59.2\n",
      "Average loss at step 120:  72.6\n",
      "Average loss at step 130:  60.1\n",
      "Average loss at step 140:  65.6\n",
      "Average loss at step 150:  45.8\n",
      "Average loss at step 160:  57.2\n",
      "Average loss at step 170:  53.0\n",
      "Average loss at step 180:  51.7\n",
      "Average loss at step 190:  46.9\n",
      "Average loss at step 200:  42.2\n",
      "Average loss at step 210:  43.8\n",
      "Average loss at step 220:  35.3\n",
      "Average loss at step 230:  28.9\n",
      "Average loss at step 240:  34.9\n",
      "Average loss at step 250:  35.7\n",
      "Average loss at step 260:  32.7\n",
      "Average loss at step 270:  29.1\n",
      "Average loss at step 280:  29.6\n",
      "Average loss at step 290:  31.6\n",
      "Average loss at step 300:  25.7\n",
      "Average loss at step 310:  22.9\n",
      "Average loss at step 320:  26.5\n",
      "Average loss at step 330:  21.1\n",
      "Average loss at step 340:  24.3\n",
      "Average loss at step 350:  24.1\n",
      "Average loss at step 360:  25.9\n",
      "Average loss at step 370:  21.5\n",
      "Average loss at step 380:  18.7\n",
      "Average loss at step 390:  16.7\n",
      "Average loss at step 400:  15.4\n",
      "Average loss at step 410:  15.5\n",
      "Average loss at step 420:  14.0\n",
      "Optimization Finished!\n",
      "Total time: 24.569737195968628 seconds\n",
      "Accuracy 0.9075\n"
     ]
    }
   ],
   "source": [
    "with tf.Session() as sess:\n",
    "    sess.run(tf.global_variables_initializer())\n",
    "    \n",
    "    initial_step = global_step.eval()\n",
    "\n",
    "    start_time = time.time()\n",
    "    n_batches = int(mnist.train.num_examples / batch_size)\n",
    "\n",
    "    total_loss = 0.0\n",
    "    #train\n",
    "    for index in range(initial_step, n_batches * n_epochs):\n",
    "        X_batch, Y_batch = mnist.train.next_batch(batch_size)\n",
    "        _, loss_batch = sess.run([optimizer, loss], \n",
    "                                feed_dict={X: X_batch, Y:Y_batch, dropout: DROPOUT}) \n",
    "        total_loss += loss_batch\n",
    "        if (index + 1) % SKIP_STEP == 0:\n",
    "            print('Average loss at step {}: {:5.1f}'.format(index + 1, total_loss / SKIP_STEP))\n",
    "            total_loss = 0.0\n",
    "    \n",
    "    print(\"Optimization Finished!\")\n",
    "    print(\"Total time: {0} seconds\".format(time.time() - start_time))\n",
    "    \n",
    "    #test\n",
    "    n_batches = int(mnist.test.num_examples/batch_size)\n",
    "    total_correct_preds = 0\n",
    "    for i in range(n_batches):\n",
    "        X_batch, Y_batch = mnist.test.next_batch(batch_size)\n",
    "        _, loss_batch, logits_batch = sess.run([optimizer, loss, logits], \n",
    "                                        feed_dict={X: X_batch, Y:Y_batch, dropout: DROPOUT}) \n",
    "        preds = tf.nn.softmax(logits_batch)\n",
    "        correct_preds = tf.equal(tf.argmax(preds, 1), tf.argmax(Y_batch, 1))\n",
    "        accuracy = tf.reduce_sum(tf.cast(correct_preds, tf.float32))\n",
    "        total_correct_preds += sess.run(accuracy)   \n",
    "    \n",
    "    print(\"Accuracy {0}\".format(total_correct_preds/mnist.test.num_examples))"
   ]
  },
  {
   "cell_type": "code",
   "execution_count": null,
   "metadata": {
    "collapsed": true,
    "deletable": true,
    "editable": true
   },
   "outputs": [],
   "source": []
  }
 ],
 "metadata": {
  "kernelspec": {
   "display_name": "Python 3",
   "language": "python",
   "name": "python3"
  },
  "language_info": {
   "codemirror_mode": {
    "name": "ipython",
    "version": 3
   },
   "file_extension": ".py",
   "mimetype": "text/x-python",
   "name": "python",
   "nbconvert_exporter": "python",
   "pygments_lexer": "ipython3",
   "version": "3.4.3"
  }
 },
 "nbformat": 4,
 "nbformat_minor": 2
}
