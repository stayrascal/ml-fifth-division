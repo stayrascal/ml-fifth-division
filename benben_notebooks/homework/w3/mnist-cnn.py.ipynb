{
 "cells": [
  {
   "cell_type": "code",
   "execution_count": 1,
   "metadata": {
    "collapsed": true,
    "deletable": true,
    "editable": true
   },
   "outputs": [],
   "source": [
    "#import modules\n",
    "import tensorflow as tf\n",
    "import time\n",
    "import os\n",
    "from tensorflow.examples.tutorials.mnist import input_data"
   ]
  },
  {
   "cell_type": "code",
   "execution_count": 2,
   "metadata": {
    "collapsed": false,
    "deletable": true,
    "editable": true
   },
   "outputs": [
    {
     "name": "stdout",
     "output_type": "stream",
     "text": [
      "Extracting MNIST_data/train-images-idx3-ubyte.gz\n",
      "Extracting MNIST_data/train-labels-idx1-ubyte.gz\n",
      "Extracting MNIST_data/t10k-images-idx3-ubyte.gz\n",
      "Extracting MNIST_data/t10k-labels-idx1-ubyte.gz\n"
     ]
    }
   ],
   "source": [
    "#import data\n",
    "mnist = input_data.read_data_sets(\"MNIST_data/\", one_hot=True)"
   ]
  },
  {
   "cell_type": "code",
   "execution_count": 3,
   "metadata": {
    "collapsed": true,
    "deletable": true,
    "editable": true
   },
   "outputs": [],
   "source": [
    "#define args\n",
    "LEARNING_RATE = 0.01\n",
    "batch_size = 128\n",
    "n_epochs = 1\n",
    "\n",
    "DROPOUT = 0.75\n",
    "N_CLASSES = 10\n",
    "SKIP_STEP = 10"
   ]
  },
  {
   "cell_type": "code",
   "execution_count": 4,
   "metadata": {
    "collapsed": true,
    "deletable": true,
    "editable": true
   },
   "outputs": [],
   "source": [
    "X = tf.placeholder(tf.float32, [None, 784], name=\"X_placeholder\")\n",
    "Y = tf.placeholder(tf.float32, [None, 10], name=\"Y_placeholder\")\n",
    "\n",
    "dropout = tf.placeholder(tf.float32, name='dropout')"
   ]
  },
  {
   "cell_type": "code",
   "execution_count": 5,
   "metadata": {
    "collapsed": false,
    "deletable": true,
    "editable": true
   },
   "outputs": [],
   "source": [
    "global_step = tf.Variable(0, dtype=tf.int32, trainable=False, name='global_step')\n",
    "\n",
    "def paddingTwoZero(image):\n",
    "    paddings = [[2, 2], [2, 2]]\n",
    "    newImage = tf.pad(image, paddings, \"CONSTANT\")\n",
    "    return newImage\n",
    "\n",
    "with tf.variable_scope('conv1') as scope:\n",
    "    temp_images = tf.reshape(X, shape=[-1, 28, 28, 1])\n",
    "    images = tf.image.resize_images(temp_images, [32, 32])\n",
    "    \n",
    "    kernel = tf.get_variable('kernel', [5, 5, 1, 6], \n",
    "                        initializer=tf.truncated_normal_initializer())\n",
    "    biases = tf.get_variable('biases', [6],\n",
    "                        initializer=tf.random_normal_initializer())\n",
    "    conv = tf.nn.conv2d(images, kernel, strides=[1, 1, 1, 1], padding='VALID')\n",
    "    conv1 = tf.nn.relu(conv + biases, name=scope.name)\n",
    "#     output:28 * 28 * 6\n",
    "    \n",
    "with tf.variable_scope('pool1') as scope:\n",
    "    pool1 = tf.nn.max_pool(conv1, ksize=[1, 2, 2, 1], strides=[1, 2, 2, 1],\n",
    "                            padding='VALID')    \n",
    "#     output:14 * 14 * 6\n",
    "\n",
    "with tf.variable_scope('conv2') as scope:\n",
    "    kernel = tf.get_variable('kernels', [5, 5, 6, 16], \n",
    "                        initializer=tf.truncated_normal_initializer())\n",
    "    biases = tf.get_variable('biases', [16],\n",
    "                        initializer=tf.random_normal_initializer())\n",
    "    conv = tf.nn.conv2d(pool1, kernel, strides=[1, 1, 1, 1], padding='VALID')\n",
    "    conv2 = tf.nn.relu(conv + biases, name=scope.name)\n",
    "#     output:10 * 10 * 16\n",
    "\n",
    "with tf.variable_scope('pool2') as scope:\n",
    "    pool2 = tf.nn.max_pool(conv2, ksize=[1, 2, 2, 1], strides=[1, 2, 2, 1],\n",
    "                            padding='VALID')\n",
    "#     output:5 * 5 * 16\n",
    "\n",
    "\n",
    "with tf.variable_scope('fc') as scope:\n",
    "    input_features = 5 * 5 * 16\n",
    "    w = tf.get_variable('weights', [input_features, 512],\n",
    "                        initializer=tf.truncated_normal_initializer())\n",
    "    b = tf.get_variable('biases', [512],\n",
    "                        initializer=tf.random_normal_initializer())\n",
    "\n",
    "    pool2 = tf.reshape(pool2, [-1, input_features])\n",
    "    fc = tf.nn.relu(tf.matmul(pool2, w) + b, name='relu')\n",
    "\n",
    "    fc = tf.nn.dropout(fc, dropout, name='relu_dropout')\n",
    "\n",
    "with tf.variable_scope('softmax_linear') as scope:\n",
    "    w = tf.get_variable('weights', [512, N_CLASSES],\n",
    "                        initializer=tf.truncated_normal_initializer())\n",
    "    b = tf.get_variable('biases', [N_CLASSES],\n",
    "                        initializer=tf.random_normal_initializer())\n",
    "    logits = tf.matmul(fc, w) + b\n"
   ]
  },
  {
   "cell_type": "code",
   "execution_count": 6,
   "metadata": {
    "collapsed": false,
    "deletable": true,
    "editable": true
   },
   "outputs": [],
   "source": [
    "with tf.name_scope('loss'):\n",
    "    entropy = tf.nn.softmax_cross_entropy_with_logits(logits=logits, labels=Y)\n",
    "    loss = tf.reduce_mean(entropy, name='loss')\n",
    "    \n",
    "optimizer = tf.train.AdamOptimizer(LEARNING_RATE).minimize(loss, \n",
    "                                        global_step=global_step)\n"
   ]
  },
  {
   "cell_type": "code",
   "execution_count": 7,
   "metadata": {
    "collapsed": false,
    "deletable": true,
    "editable": true
   },
   "outputs": [
    {
     "name": "stdout",
     "output_type": "stream",
     "text": [
      "Average loss at step 10: 12745.0\n",
      "Average loss at step 20: 2417.7\n",
      "Average loss at step 30: 826.1\n",
      "Average loss at step 40: 351.6\n",
      "Average loss at step 50: 218.1\n",
      "Average loss at step 60: 198.8\n",
      "Average loss at step 70: 162.3\n",
      "Average loss at step 80: 153.6\n",
      "Average loss at step 90: 108.2\n",
      "Average loss at step 100: 108.9\n",
      "Average loss at step 110:  68.3\n",
      "Average loss at step 120:  71.0\n",
      "Average loss at step 130:  65.1\n",
      "Average loss at step 140:  63.7\n",
      "Average loss at step 150:  59.6\n",
      "Average loss at step 160:  59.7\n",
      "Average loss at step 170:  53.5\n",
      "Average loss at step 180:  46.6\n",
      "Average loss at step 190:  42.7\n",
      "Average loss at step 200:  47.7\n",
      "Average loss at step 210:  49.5\n",
      "Average loss at step 220:  40.1\n",
      "Average loss at step 230:  32.1\n",
      "Average loss at step 240:  35.3\n",
      "Average loss at step 250:  28.7\n",
      "Average loss at step 260:  35.9\n",
      "Average loss at step 270:  31.5\n",
      "Average loss at step 280:  32.5\n",
      "Average loss at step 290:  29.4\n",
      "Average loss at step 300:  28.3\n",
      "Average loss at step 310:  25.6\n",
      "Average loss at step 320:  28.0\n",
      "Average loss at step 330:  22.0\n",
      "Average loss at step 340:  22.1\n",
      "Average loss at step 350:  22.1\n",
      "Average loss at step 360:  16.5\n",
      "Average loss at step 370:  15.4\n",
      "Average loss at step 380:  13.1\n",
      "Average loss at step 390:  12.8\n",
      "Average loss at step 400:  12.1\n",
      "Average loss at step 410:  11.3\n",
      "Average loss at step 420:  11.4\n",
      "Optimization Finished!\n",
      "Total time: 25.248841285705566 seconds\n",
      "Accuracy 0.1513\n"
     ]
    }
   ],
   "source": [
    "with tf.Session() as sess:\n",
    "    sess.run(tf.global_variables_initializer())\n",
    "    \n",
    "    initial_step = global_step.eval()\n",
    "\n",
    "    start_time = time.time()\n",
    "    n_batches = int(mnist.train.num_examples / batch_size)\n",
    "\n",
    "    total_loss = 0.0\n",
    "    #train\n",
    "    for index in range(initial_step, n_batches * n_epochs):\n",
    "        X_batch, Y_batch = mnist.train.next_batch(batch_size)\n",
    "        _, loss_batch = sess.run([optimizer, loss], \n",
    "                                feed_dict={X: X_batch, Y:Y_batch, dropout: DROPOUT}) \n",
    "        total_loss += loss_batch\n",
    "        if (index + 1) % SKIP_STEP == 0:\n",
    "            print('Average loss at step {}: {:5.1f}'.format(index + 1, total_loss / SKIP_STEP))\n",
    "            total_loss = 0.0\n",
    "    \n",
    "    print(\"Optimization Finished!\")\n",
    "    print(\"Total time: {0} seconds\".format(time.time() - start_time))\n",
    "    \n",
    "    #test\n",
    "    n_batches = int(mnist.test.num_examples/batch_size)\n",
    "    total_correct_preds = 0\n",
    "    for i in range(n_batches):\n",
    "        X_batch, Y_batch = mnist.test.next_batch(batch_size)\n",
    "        _, loss_batch, logits_batch = sess.run([optimizer, loss, logits], \n",
    "                                        feed_dict={X: X_batch, Y:Y_batch, dropout: DROPOUT}) \n",
    "        preds = tf.nn.softmax(logits_batch)\n",
    "        correct_preds = tf.equal(tf.argmax(preds, 1), tf.argmax(Y_batch, 1))\n",
    "        accuracy = tf.reduce_sum(tf.cast(correct_preds, tf.float32))\n",
    "        total_correct_preds += sess.run(accuracy)   \n",
    "    \n",
    "    print(\"Accuracy {0}\".format(total_correct_preds/mnist.test.num_examples))"
   ]
  },
  {
   "cell_type": "code",
   "execution_count": 11,
   "metadata": {
    "collapsed": true
   },
   "outputs": [],
   "source": [
    "# loss很低，但是准确率为什么也这么低"
   ]
  },
  {
   "cell_type": "code",
   "execution_count": null,
   "metadata": {
    "collapsed": true
   },
   "outputs": [],
   "source": []
  }
 ],
 "metadata": {
  "kernelspec": {
   "display_name": "Python 3",
   "language": "python",
   "name": "python3"
  },
  "language_info": {
   "codemirror_mode": {
    "name": "ipython",
    "version": 3
   },
   "file_extension": ".py",
   "mimetype": "text/x-python",
   "name": "python",
   "nbconvert_exporter": "python",
   "pygments_lexer": "ipython3",
   "version": "3.4.3"
  }
 },
 "nbformat": 4,
 "nbformat_minor": 2
}
