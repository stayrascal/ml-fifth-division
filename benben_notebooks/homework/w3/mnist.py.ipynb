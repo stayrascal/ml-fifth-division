{
 "cells": [
  {
   "cell_type": "code",
   "execution_count": 40,
   "metadata": {
    "collapsed": true
   },
   "outputs": [],
   "source": [
    "#import modules\n",
    "import tensorflow as tf\n",
    "import time\n",
    "from tensorflow.examples.tutorials.mnist import input_data"
   ]
  },
  {
   "cell_type": "code",
   "execution_count": 23,
   "metadata": {
    "collapsed": false
   },
   "outputs": [
    {
     "name": "stdout",
     "output_type": "stream",
     "text": [
      "Extracting MNIST_data/train-images-idx3-ubyte.gz\n",
      "Extracting MNIST_data/train-labels-idx1-ubyte.gz\n",
      "Extracting MNIST_data/t10k-images-idx3-ubyte.gz\n",
      "Extracting MNIST_data/t10k-labels-idx1-ubyte.gz\n"
     ]
    }
   ],
   "source": [
    "#import data\n",
    "mnist = input_data.read_data_sets(\"MNIST_data/\", one_hot=True)"
   ]
  },
  {
   "cell_type": "code",
   "execution_count": 32,
   "metadata": {
    "collapsed": true
   },
   "outputs": [],
   "source": [
    "#define args\n",
    "learning_rate = 0.01\n",
    "batch_size = 128\n",
    "n_epochs = 30"
   ]
  },
  {
   "cell_type": "code",
   "execution_count": 37,
   "metadata": {
    "collapsed": false
   },
   "outputs": [],
   "source": [
    "# Create the model\n",
    "X = tf.placeholder(tf.float32, [batch_size, 784], name='X_placeholder') \n",
    "Y = tf.placeholder(tf.float32, [batch_size, 10], name='Y_placeholder')\n",
    "\n",
    "w = tf.Variable(tf.random_normal(shape=[784, 10], stddev=0.01), name='weights')\n",
    "b = tf.Variable(tf.zeros([1, 10]), name=\"bias\")\n",
    "\n",
    "\n",
    "# Define loss and optimizer\n",
    "logits = tf.matmul(X, w) + b \n",
    "entropy = tf.nn.softmax_cross_entropy_with_logits(labels=Y, logits=logits, name='loss')\n",
    "loss = tf.reduce_mean(entropy)\n",
    "optimizer = tf.train.GradientDescentOptimizer(learning_rate).minimize(loss)"
   ]
  },
  {
   "cell_type": "code",
   "execution_count": 42,
   "metadata": {
    "collapsed": false
   },
   "outputs": [
    {
     "name": "stdout",
     "output_type": "stream",
     "text": [
      "Average loss epoch 0: 1.2909418448701606\n",
      "Average loss epoch 1: 0.7316522856692335\n",
      "Average loss epoch 2: 0.6014025466286497\n",
      "Average loss epoch 3: 0.5357174478766523\n",
      "Average loss epoch 4: 0.49791196613878635\n",
      "Average loss epoch 5: 0.47180139601647436\n",
      "Average loss epoch 6: 0.4505046165628589\n",
      "Average loss epoch 7: 0.4353333883907967\n",
      "Average loss epoch 8: 0.4235005513493553\n",
      "Average loss epoch 9: 0.4138159260744259\n",
      "Average loss epoch 10: 0.40412071986354037\n",
      "Average loss epoch 11: 0.39647178900686453\n",
      "Average loss epoch 12: 0.39002260374717224\n",
      "Average loss epoch 13: 0.38459857520245727\n",
      "Average loss epoch 14: 0.3801721329594548\n",
      "Average loss epoch 15: 0.373090785456982\n",
      "Average loss epoch 16: 0.37160419580680787\n",
      "Average loss epoch 17: 0.3658157605808098\n",
      "Average loss epoch 18: 0.3627866475662707\n",
      "Average loss epoch 19: 0.3595390590407076\n",
      "Average loss epoch 20: 0.35623195114391387\n",
      "Average loss epoch 21: 0.353137983447744\n",
      "Average loss epoch 22: 0.35216225485701663\n",
      "Average loss epoch 23: 0.3479509005249241\n",
      "Average loss epoch 24: 0.3464405416122405\n",
      "Average loss epoch 25: 0.34468696448769603\n",
      "Average loss epoch 26: 0.34241570633052393\n",
      "Average loss epoch 27: 0.33948806254735914\n",
      "Average loss epoch 28: 0.3390723522101249\n",
      "Average loss epoch 29: 0.335187044663307\n",
      "Total time: 19.809138536453247 seconds\n",
      "Accuracy 0.9123\n"
     ]
    }
   ],
   "source": [
    "with tf.Session() as sess:\n",
    "    start_time = time.time()\n",
    "    sess.run(tf.global_variables_initializer()) \n",
    "    n_batches = int(mnist.train.num_examples/batch_size)\n",
    "    for i in range(n_epochs):\n",
    "        total_loss = 0\n",
    "\n",
    "        for _ in range(n_batches):\n",
    "            X_batch, Y_batch = mnist.train.next_batch(batch_size)\n",
    "            _, loss_batch = sess.run([optimizer, loss], feed_dict={X: X_batch, Y:Y_batch}) \n",
    "            total_loss += loss_batch\n",
    "        print('Average loss epoch {0}: {1}'.format(i, total_loss/n_batches))\n",
    "\n",
    "    print('Total time: {0} seconds'.format(time.time() - start_time))\n",
    "\n",
    "    # test the model\n",
    "    n_batches = int(mnist.test.num_examples/batch_size)\n",
    "    total_correct_preds = 0\n",
    "    for i in range(n_batches):\n",
    "        X_batch, Y_batch = mnist.test.next_batch(batch_size)\n",
    "        _, loss_batch, logits_batch = sess.run([optimizer, loss, logits], feed_dict={X: X_batch, Y:Y_batch}) \n",
    "        preds = tf.nn.softmax(logits_batch)\n",
    "        correct_preds = tf.equal(tf.argmax(preds, 1), tf.argmax(Y_batch, 1))\n",
    "        accuracy = tf.reduce_sum(tf.cast(correct_preds, tf.float32))\n",
    "        total_correct_preds += sess.run(accuracy)   \n",
    "    \n",
    "    print('Accuracy {0}'.format(total_correct_preds/mnist.test.num_examples))"
   ]
  },
  {
   "cell_type": "code",
   "execution_count": null,
   "metadata": {
    "collapsed": true
   },
   "outputs": [],
   "source": []
  }
 ],
 "metadata": {
  "kernelspec": {
   "display_name": "Python 3",
   "language": "python",
   "name": "python3"
  },
  "language_info": {
   "codemirror_mode": {
    "name": "ipython",
    "version": 3
   },
   "file_extension": ".py",
   "mimetype": "text/x-python",
   "name": "python",
   "nbconvert_exporter": "python",
   "pygments_lexer": "ipython3",
   "version": "3.4.3"
  }
 },
 "nbformat": 4,
 "nbformat_minor": 2
}
