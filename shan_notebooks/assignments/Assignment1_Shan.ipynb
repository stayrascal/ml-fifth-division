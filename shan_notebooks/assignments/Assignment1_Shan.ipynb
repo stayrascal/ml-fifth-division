{
 "cells": [
  {
   "cell_type": "code",
   "execution_count": 30,
   "metadata": {
    "collapsed": false,
    "deletable": true,
    "editable": true
   },
   "outputs": [
    {
     "name": "stdout",
     "output_type": "stream",
     "text": [
      "0.814235\n",
      "0.523714\n",
      "0.0398927\n"
     ]
    }
   ],
   "source": [
    "###############################################################################\n",
    "# 1a: Create two random 0-d tensors x and y of any distribution.\n",
    "# Create a TensorFlow object that returns x + y if x > y, and x - y otherwise.\n",
    "# Hint: look up tf.cond()\n",
    "# I do the first problem for you\n",
    "###############################################################################\n",
    "\n",
    "import tensorflow as tf\n",
    "x = tf.random_uniform([])\n",
    "y = tf.random_uniform([])\n",
    "\n",
    "out = tf.cond(tf.less(x, y), lambda: tf.add(x, y), lambda: tf.subtract(x, y))\n",
    "with tf.Session() as sess:\n",
    "    print(sess.run(out))"
   ]
  },
  {
   "cell_type": "code",
   "execution_count": 37,
   "metadata": {
    "collapsed": false,
    "deletable": true,
    "editable": true
   },
   "outputs": [
    {
     "name": "stdout",
     "output_type": "stream",
     "text": [
      "-0.994302\n",
      "-0.598815\n",
      "-1.32509\n"
     ]
    }
   ],
   "source": [
    "###############################################################################\n",
    "# 1b: Create two 0-d tensors x and y randomly selected from -1 and 1.\n",
    "# Return x + y if x < y, x - y if x > y, 0 otherwise.\n",
    "# Hint: Look up tf.case().\n",
    "###############################################################################\n",
    "\n",
    "x = tf.random_uniform([], -1, 1, dtype=tf.float32)\n",
    "y = tf.random_uniform([], -1, 1, dtype=tf.float32)\n",
    "\n",
    "def f1(): return tf.add(x,y)\n",
    "def f2(): return tf.subtract(x, y)\n",
    "def f3(): return tf.constant(0.)\n",
    "result = tf.case({tf.less(x,y) : f1, tf.greater(x, y) : f2}, default = f3, exclusive=True)\n",
    "\n",
    "with tf.Session() as sess:\n",
    "    print(sess.run(result))\n"
   ]
  },
  {
   "cell_type": "code",
   "execution_count": 38,
   "metadata": {
    "collapsed": false,
    "deletable": true,
    "editable": true
   },
   "outputs": [
    {
     "name": "stdout",
     "output_type": "stream",
     "text": [
      "[[ True False False]\n",
      " [ True False False]]\n"
     ]
    }
   ],
   "source": [
    "###############################################################################\n",
    "# 1c: Create the tensor x of the value [[0, -2, -1], [0, 1, 2]] \n",
    "# and y as a tensor of zeros with the same shape as x.\n",
    "# Return a boolean tensor that yields Trues if x equals y element-wise.\n",
    "# Hint: Look up tf.equal().\n",
    "###############################################################################\n",
    "\n",
    "x = tf.constant([[0, -2, -1],\n",
    "                 [0, 1, 2]])\n",
    "y = tf.zeros_like(x)\n",
    "\n",
    "out = tf.equal(x, y)\n",
    "with tf.Session() as sess:\n",
    "    print(sess.run(out))\n"
   ]
  },
  {
   "cell_type": "code",
   "execution_count": 60,
   "metadata": {
    "collapsed": false,
    "deletable": true,
    "editable": true
   },
   "outputs": [
    {
     "name": "stdout",
     "output_type": "stream",
     "text": [
      "tf.where result:\n",
      " [[ 2]\n",
      " [ 4]\n",
      " [ 6]\n",
      " [ 8]\n",
      " [ 9]\n",
      " [11]\n",
      " [14]\n",
      " [16]\n",
      " [18]]\n",
      "tf.gather result:\n",
      " [[ 31.19073486]\n",
      " [ 30.97266006]\n",
      " [ 38.08450317]\n",
      " [ 34.94445419]\n",
      " [ 34.45999146]\n",
      " [ 36.01657104]\n",
      " [ 30.20379066]\n",
      " [ 33.71149445]\n",
      " [ 36.05556488]]\n"
     ]
    }
   ],
   "source": [
    "###############################################################################\n",
    "# 1d: Create the tensor x of value \n",
    "# [29.05088806,  27.61298943,  31.19073486,  29.35532951,\n",
    "#  30.97266006,  26.67541885,  38.08450317,  20.74983215,\n",
    "#  34.94445419,  34.45999146,  29.06485367,  36.01657104,\n",
    "#  27.88236427,  20.56035233,  30.20379066,  29.51215172,\n",
    "#  33.71149445,  28.59134293,  36.05556488,  28.66994858].\n",
    "# Get the indices of elements in x whose values are greater than 30.\n",
    "# Hint: Use tf.where().\n",
    "# Then extract elements whose values are greater than 30.\n",
    "# Hint: Use tf.gather().\n",
    "###############################################################################\n",
    "x = tf.constant([29.05088806,  27.61298943,  31.19073486,  29.35532951,\n",
    "  30.97266006,  26.67541885,  38.08450317,  20.74983215,\n",
    "  34.94445419,  34.45999146,  29.06485367,  36.01657104,\n",
    "  27.88236427,  20.56035233,  30.20379066,  29.51215172,\n",
    "  33.71149445,  28.59134293,  36.05556488,  28.66994858])\n",
    "\n",
    "out1 = tf.where(x>30)\n",
    "out2 = tf.gather(x, out1)\n",
    "with tf.Session() as sess:\n",
    "    print('tf.where result:\\n', sess.run(out1))\n",
    "    print('tf.gather result:\\n',sess.run(out2))"
   ]
  },
  {
   "cell_type": "code",
   "execution_count": 62,
   "metadata": {
    "collapsed": false,
    "deletable": true,
    "editable": true
   },
   "outputs": [
    {
     "name": "stdout",
     "output_type": "stream",
     "text": [
      "[1 2 3 4 5 6]\n",
      "[[1 0 0 0 0 0]\n",
      " [0 2 0 0 0 0]\n",
      " [0 0 3 0 0 0]\n",
      " [0 0 0 4 0 0]\n",
      " [0 0 0 0 5 0]\n",
      " [0 0 0 0 0 6]]\n"
     ]
    }
   ],
   "source": [
    "###############################################################################\n",
    "# 1e: Create a diagnoal 2-d tensor of size 6 x 6 with the diagonal values of 1,\n",
    "# 2, ..., 6\n",
    "# Hint: Use tf.range() and tf.diag().\n",
    "###############################################################################\n",
    "x = tf.range(1, 7, 1)\n",
    "out = tf.diag(x)\n",
    "with tf.Session() as sess:\n",
    "    print(sess.run(x))\n",
    "    print(sess.run(out))"
   ]
  },
  {
   "cell_type": "code",
   "execution_count": 65,
   "metadata": {
    "collapsed": false,
    "deletable": true,
    "editable": true
   },
   "outputs": [
    {
     "name": "stdout",
     "output_type": "stream",
     "text": [
      "random normal matrix:\n",
      " [[-1.5664016  -0.69449127  0.40231338  0.16469468  0.57276493  1.36004806\n",
      "   1.24369204  0.23808007  2.37089729 -0.36080545]\n",
      " [-0.32272708 -0.13085271  1.1715101  -1.39082336  0.63230938 -1.20282567\n",
      "   1.18561769  0.52183157 -0.03114838 -0.26905236]\n",
      " [-0.05777624  0.79496527 -0.55835694  0.49164858 -1.12662315 -0.42774639\n",
      "  -0.70219034 -1.21515191 -0.47081864 -0.1437607 ]\n",
      " [ 1.17403984 -1.08039832  2.85253215  0.8951956  -1.96989977  2.8322165\n",
      "  -0.4479551  -1.81451178  1.32456458  1.68375731]\n",
      " [-0.66591972 -0.39290351 -0.5278824  -1.01384604 -0.51343942  3.36856008\n",
      "  -0.07531173 -0.74610305  0.10860763  0.37045258]\n",
      " [ 1.03124487  0.67596221 -0.55944514  0.63002819 -0.28316316 -0.52950919\n",
      "  -0.67263353  1.98288333 -0.57647204  0.39759448]\n",
      " [ 1.77038527  1.23074138 -0.8933692  -0.84844428  0.35630095 -1.17121243\n",
      "   0.3119995  -1.1921593  -1.3230617  -1.10906577]\n",
      " [ 1.04053664 -1.49891984  0.05324095  1.39991581  0.34909883  0.98274255\n",
      "   0.32587832  1.00348079  0.73060566  1.42724562]\n",
      " [ 0.96501857  0.39581114 -0.789437    0.27703363  1.98707116 -2.57837987\n",
      "   0.41688648  1.30218172  1.98565042  0.86975652]\n",
      " [-0.65503675  0.42033201 -1.25929427 -0.52352166  0.49400139 -2.03585744\n",
      "  -2.55085444 -1.92272425  0.8145197   0.37549073]]\n",
      "matrix determinant:\n",
      " -59.1228\n"
     ]
    }
   ],
   "source": [
    "###############################################################################\n",
    "# 1f: Create a random 2-d tensor of size 10 x 10 from any distribution.\n",
    "# Calculate its determinant.\n",
    "# Hint: Look at tf.matrix_determinant().\n",
    "###############################################################################\n",
    "x = tf.random_normal([10,10], dtype=tf.float32)\n",
    "out = tf.matrix_determinant(x)\n",
    "with tf.Session() as sess:\n",
    "    print('random normal matrix:\\n', sess.run(x))\n",
    "    print('matrix determinant:\\n', sess.run(out))"
   ]
  },
  {
   "cell_type": "code",
   "execution_count": 67,
   "metadata": {
    "collapsed": false,
    "deletable": true,
    "editable": true
   },
   "outputs": [
    {
     "name": "stdout",
     "output_type": "stream",
     "text": [
      "x: \n",
      " [ 5  2  3  5 10  6  2  3  4  2  1  1  0  9]\n",
      "unique elements: \n",
      " [ 5  2  3 10  6  4  1  0  9]\n",
      "the index of each value of x in the unique output: \n",
      " [0 1 2 0 3 4 1 2 5 1 6 6 7 8]\n"
     ]
    }
   ],
   "source": [
    "###############################################################################\n",
    "# 1g: Create tensor x with value [5, 2, 3, 5, 10, 6, 2, 3, 4, 2, 1, 1, 0, 9].\n",
    "# Return the unique elements in x\n",
    "# Hint: use tf.unique(). Keep in mind that tf.unique() returns a tuple.\n",
    "###############################################################################\n",
    "x = tf.constant([5, 2, 3, 5, 10, 6, 2, 3, 4, 2, 1, 1, 0, 9])\n",
    "y, index = tf.unique(x)\n",
    "with tf.Session() as sess:\n",
    "    print('x: \\n',sess.run(x))\n",
    "    print('unique elements: \\n',sess.run(y))\n",
    "    print('the index of each value of x in the unique output: \\n', sess.run(index))"
   ]
  },
  {
   "cell_type": "code",
   "execution_count": 81,
   "metadata": {
    "collapsed": false,
    "deletable": true,
    "editable": true
   },
   "outputs": [
    {
     "name": "stdout",
     "output_type": "stream",
     "text": [
      "2.07544\n"
     ]
    }
   ],
   "source": [
    "###############################################################################\n",
    "# 1h: Create two tensors x and y of shape 300 from any normal distribution,\n",
    "# as long as they are from the same distribution.\n",
    "# Use tf.less() and tf.select() to return:\n",
    "# - The mean squared error of (x - y) if the average of all elements in (x - y)\n",
    "#   is negative, or\n",
    "# - The sum of absolute value of all elements in the tensor (x - y) otherwise.\n",
    "# Hint: see the Huber loss function in the lecture slides 3.\n",
    "###############################################################################\n",
    "x = tf.random_normal([300], dtype=tf.float32)\n",
    "y = tf.random_normal([300], dtype=tf.float32)\n",
    "\n",
    "average = tf.reduce_mean(x-y)\n",
    "condition = tf.less(average, 0)\n",
    "op1 = tf.reduce_mean(tf.square(x-y))\n",
    "op2 = tf.reduce_sum(tf.abs(x-y))\n",
    "out = tf.cond(condition, lambda: op1, lambda: op2)\n",
    "with tf.Session() as sess:\n",
    "    print(sess.run(out))"
   ]
  },
  {
   "cell_type": "code",
   "execution_count": null,
   "metadata": {
    "collapsed": true,
    "deletable": true,
    "editable": true
   },
   "outputs": [],
   "source": []
  }
 ],
 "metadata": {
  "kernelspec": {
   "display_name": "Python 3",
   "language": "python",
   "name": "python3"
  },
  "language_info": {
   "codemirror_mode": {
    "name": "ipython",
    "version": 3
   },
   "file_extension": ".py",
   "mimetype": "text/x-python",
   "name": "python",
   "nbconvert_exporter": "python",
   "pygments_lexer": "ipython3",
   "version": "3.4.3"
  }
 },
 "nbformat": 4,
 "nbformat_minor": 2
}
