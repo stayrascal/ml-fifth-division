{
 "cells": [
  {
   "cell_type": "code",
   "execution_count": 2,
   "metadata": {
    "collapsed": false
   },
   "outputs": [
    {
     "ename": "ImportError",
     "evalue": "No module named 'utils'",
     "output_type": "error",
     "traceback": [
      "\u001b[0;31m---------------------------------------------------------------------------\u001b[0m",
      "\u001b[0;31mImportError\u001b[0m                               Traceback (most recent call last)",
      "\u001b[0;32m<ipython-input-2-d4cb4a01e050>\u001b[0m in \u001b[0;36m<module>\u001b[0;34m()\u001b[0m\n\u001b[1;32m      1\u001b[0m \u001b[0;32mimport\u001b[0m \u001b[0mtensorflow\u001b[0m \u001b[0;32mas\u001b[0m \u001b[0mtf\u001b[0m\u001b[0;34m\u001b[0m\u001b[0m\n\u001b[1;32m      2\u001b[0m \u001b[0;34m\u001b[0m\u001b[0m\n\u001b[0;32m----> 3\u001b[0;31m \u001b[0;32mfrom\u001b[0m \u001b[0mutils\u001b[0m \u001b[0;32mimport\u001b[0m \u001b[0;34m*\u001b[0m\u001b[0;34m\u001b[0m\u001b[0m\n\u001b[0m\u001b[1;32m      4\u001b[0m \u001b[0;32mfrom\u001b[0m \u001b[0mautoencoder\u001b[0m \u001b[0;32mimport\u001b[0m \u001b[0;34m*\u001b[0m\u001b[0;34m\u001b[0m\u001b[0m\n\u001b[1;32m      5\u001b[0m \u001b[0;34m\u001b[0m\u001b[0m\n",
      "\u001b[0;31mImportError\u001b[0m: No module named 'utils'"
     ]
    }
   ],
   "source": [
    "import tensorflow as tf\n",
    "\n",
    "from utils import *\n",
    "from autoencoder import *\n",
    "\n",
    "batch_size = 100\n",
    "batch_shape = (batch_size, 28, 28, 1)\n",
    "num_visualize = 10\n",
    "\n",
    "lr = 0.01\n",
    "num_epochs = 50\n",
    "\n",
    "def calculate_loss(original, reconstructed):\n",
    "    return tf.div(tf.reduce_sum(tf.square(tf.sub(reconstructed,\n",
    "                                                 original))), \n",
    "                  tf.constant(float(batch_size)))\n",
    "\n",
    "def train(dataset):\n",
    "    input_image, reconstructed_image = autoencoder(batch_shape)\n",
    "    loss = calculate_loss(input_image, reconstructed_image)\n",
    "    optimizer = tf.train.GradientDescentOptimizer(lr).minimize(loss)\n",
    "\n",
    "    init = tf.global_variables_initializer()\n",
    "    with tf.Session() as session:\n",
    "        session.run(init)\n",
    "\n",
    "        dataset_size = len(dataset.train.images)\n",
    "        print (\"Dataset size:\", dataset_size)\n",
    "        num_iters = (num_epochs * dataset_size)/batch_size\n",
    "        print (\"Num iters:\", num_iters)\n",
    "        for step in xrange(num_iters):\n",
    "            input_batch  = get_next_batch(dataset.train, batch_size)\n",
    "            loss_val,  _ = session.run([loss, optimizer], \n",
    "                                       feed_dict={input_image: input_batch})\n",
    "            if step % 1000 == 0:\n",
    "                print (\"Loss at step\", step, \":\", loss_val)\n",
    "\n",
    "        test_batch = get_next_batch(dataset.test, batch_size)\n",
    "        reconstruction = session.run(reconstructed_image,\n",
    "                                     feed_dict={input_image: test_batch})\n",
    "        visualize(test_batch, reconstruction, num_visualize)\n",
    "\n",
    "if __name__ == '__main__':\n",
    "    dataset = load_dataset()\n",
    "    train(dataset)\n",
    "    \n"
   ]
  },
  {
   "cell_type": "code",
   "execution_count": null,
   "metadata": {
    "collapsed": true
   },
   "outputs": [],
   "source": []
  }
 ],
 "metadata": {
  "kernelspec": {
   "display_name": "Python 3",
   "language": "python",
   "name": "python3"
  },
  "language_info": {
   "codemirror_mode": {
    "name": "ipython",
    "version": 3
   },
   "file_extension": ".py",
   "mimetype": "text/x-python",
   "name": "python",
   "nbconvert_exporter": "python",
   "pygments_lexer": "ipython3",
   "version": "3.4.3"
  }
 },
 "nbformat": 4,
 "nbformat_minor": 2
}
