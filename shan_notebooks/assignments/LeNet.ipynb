{
 "cells": [
  {
   "cell_type": "code",
   "execution_count": 1,
   "metadata": {
    "collapsed": true
   },
   "outputs": [],
   "source": [
    "import pickle\n",
    "import numpy as np\n",
    "import tensorflow as tf\n",
    "\n",
    "image_size = 28\n",
    "num_labels = 10"
   ]
  },
  {
   "cell_type": "code",
   "execution_count": 2,
   "metadata": {
    "collapsed": false
   },
   "outputs": [
    {
     "name": "stdout",
     "output_type": "stream",
     "text": [
      "Training set (200000, 784) (200000, 10)\n",
      "Validation set (10000, 784) (10000, 10)\n",
      "Test set (10000, 784) (10000, 10)\n"
     ]
    }
   ],
   "source": [
    "class NotMNIST:\n",
    "    def __init__(self):\n",
    "        class Train:\n",
    "            def __init__(self):\n",
    "                self.images = []\n",
    "                self.labels = []\n",
    "                self.batch_counter = 0\n",
    "\n",
    "            @property\n",
    "            def num_examples(self):\n",
    "                return len(self.images)\n",
    "\n",
    "            def next_batch(self, num):\n",
    "                if self.batch_counter + num >= len(self.labels):\n",
    "                    batch_images = self.images[self.batch_counter:]\n",
    "                    batch_labels = self.labels[self.batch_counter:]\n",
    "                    left = num - len(batch_labels)\n",
    "                    self.batch_counter = left\n",
    "                else:\n",
    "                    batch_images = self.images[self.batch_counter:self.batch_counter + num]\n",
    "                    batch_labels = self.labels[self.batch_counter:self.batch_counter + num]\n",
    "                    self.batch_counter += num\n",
    "                return batch_images, batch_labels\n",
    "\n",
    "        class Test:\n",
    "            def __init__(self):\n",
    "                self.images = []\n",
    "                self.labels = []\n",
    "\n",
    "        self.train = Train()\n",
    "        self.test = Test()\n",
    "            \n",
    "        self.load_as(self.format_of((-1, image_size * image_size)))\n",
    "        \n",
    "    def format_of(self, shape):\n",
    "        return lambda dataset, labels: (\n",
    "                dataset.reshape(shape).astype(np.float32),\n",
    "                (np.arange(num_labels) == labels[:, None]).astype(np.float32)\n",
    "            )\n",
    "        \n",
    "    def load_as(self, reformat):\n",
    "\n",
    "        pickle_file = '../data/notMNIST.pickle'\n",
    "\n",
    "        with open(pickle_file, 'rb') as f:\n",
    "            save = pickle.load(f)\n",
    "            train_dataset = save['train_dataset']\n",
    "            train_labels = save['train_labels']\n",
    "            valid_dataset = save['valid_dataset']\n",
    "            valid_labels = save['valid_labels']\n",
    "            test_dataset = save['test_dataset']\n",
    "            test_labels = save['test_labels']\n",
    "            del save  # 删除内存文件，等待gc回收释放内存\n",
    "        \n",
    "        train_dataset, train_labels = reformat(train_dataset, train_labels)\n",
    "        valid_dataset, valid_labels = reformat(valid_dataset, valid_labels)\n",
    "        test_dataset, test_labels = reformat(test_dataset, test_labels)\n",
    "        print('Training set', train_dataset.shape, train_labels.shape)\n",
    "        print('Validation set', valid_dataset.shape, valid_labels.shape)\n",
    "        print('Test set', test_dataset.shape, test_labels.shape)\n",
    "        self.train.images = train_dataset\n",
    "        self.train.labels = train_labels\n",
    "        self.test.images = test_dataset\n",
    "        self.test.labels = test_labels  \n",
    "        \n",
    "    def reshape_like_image(self, channels):\n",
    "        self.load_as(self.format_of((-1, image_size, image_size, channels)))      \n",
    "\n",
    "not_mnist = NotMNIST()"
   ]
  },
  {
   "cell_type": "code",
   "execution_count": 3,
   "metadata": {
    "collapsed": false
   },
   "outputs": [
    {
     "name": "stdout",
     "output_type": "stream",
     "text": [
      "Training set (200000, 28, 28, 1) (200000, 10)\n",
      "Validation set (10000, 28, 28, 1) (10000, 10)\n",
      "Test set (10000, 28, 28, 1) (10000, 10)\n"
     ]
    }
   ],
   "source": [
    "num_channels = 1 # 灰度图\n",
    "\n",
    "not_mnist.reshape_like_image(num_channels)"
   ]
  },
  {
   "cell_type": "code",
   "execution_count": 5,
   "metadata": {
    "collapsed": false
   },
   "outputs": [],
   "source": [
    "# 训练参数\n",
    "learning_rate = 0.01  # 梯度下降步长，寻找最优解的下降步长\n",
    "training_epochs = 25  # 迭代轮数\n",
    "batch_size = 50  # 批次训练数据集大小\n",
    "display_step = 1\n",
    "\n",
    "# tf图输入\n",
    "x = tf.placeholder(tf.float32, [None, image_size, image_size, num_channels])  # mnist 数据集图片大小为28*28=784，placeholder为占位符\n",
    "y = tf.placeholder(tf.float32, [None, num_labels])  # 识别A-J的数据，一共10个类别\n",
    "\n",
    "# CNN参数\n",
    "patch_size = 5\n",
    "depth = 16\n",
    "num_hidden = 64\n",
    "\n",
    "# Variables.\n",
    "layer1_weights = tf.Variable(tf.truncated_normal([patch_size, patch_size, num_channels, 6], stddev=0.1))\n",
    "layer1_biases = tf.Variable(tf.zeros([6]))\n",
    "\n",
    "layer2_weights = tf.Variable(tf.truncated_normal([patch_size, patch_size, 6, 16], stddev=0.1))\n",
    "layer2_biases = tf.Variable(tf.zeros([16]))\n",
    "\n",
    "layer3_weights = tf.Variable(tf.truncated_normal([5 * 5 * 16, 120], stddev=0.1))\n",
    "layer3_biases = tf.Variable(tf.zeros([120]))\n",
    "\n",
    "layer4_weights = tf.Variable(tf.truncated_normal([120, 84], stddev=0.1))\n",
    "layer4_biases = tf.Variable(tf.zeros([84]))\n",
    "\n",
    "layer5_weights = tf.Variable(tf.truncated_normal([84, num_labels], stddev=0.1))\n",
    "layer5_biases = tf.Variable(tf.zeros([num_labels]))\n",
    "# Model.\n",
    "def model(data):\n",
    "    #con1\n",
    "    conv = tf.nn.conv2d(data, layer1_weights, [1, 1, 1, 1], padding='SAME')\n",
    "    hidden = tf.nn.relu(conv + layer1_biases)\n",
    "    #subpooling\n",
    "    hidden = hidden = tf.nn.avg_pool(hidden, [1, 2, 2, 1], [1, 2, 2, 1], 'SAME')\n",
    "    #conv2\n",
    "    conv = tf.nn.conv2d(hidden, layer2_weights, [1, 1, 1, 1], padding='VALID')\n",
    "    hidden = tf.nn.relu(conv + layer2_biases)\n",
    "    #subpooling\n",
    "    hidden = tf.nn.avg_pool(hidden, [1, 2, 2, 1], [1, 2, 2, 1], 'SAME')\n",
    "    #full connect 1\n",
    "    shape = hidden.get_shape().as_list()\n",
    "    reshape = tf.reshape(hidden, [-1, shape[1] * shape[2] * shape[3]])\n",
    "    hidden = tf.nn.relu(tf.matmul(reshape, layer3_weights) + layer3_biases)\n",
    "    #full connect 2\n",
    "    hidden = tf.nn.relu(tf.matmul(hidden, layer4_weights) + layer4_biases)\n",
    "    #output\n",
    "    noise = tf.random_normal(shape=tf.shape(hidden), mean=0.0, stddev=0.1, dtype=tf.float32)\n",
    "    hidden = noise + hidden\n",
    "    output = tf.matmul(hidden, layer5_weights) + layer5_biases\n",
    "    return output\n",
    "     \n",
    "\n",
    "# 构造模型\n",
    "pred = tf.nn.softmax(model(x))  # Softmax\n",
    "\n",
    "# 损失函数：交叉墒\n",
    "loss = tf.reduce_mean(-tf.reduce_sum(y * tf.log(pred), reduction_indices=1))\n",
    "# 使用梯度下降算法寻找最优解\n",
    "# API tf.train.GradientDescentOptimizer\n",
    "# TODO 创建梯度下降优化方法\n",
    "optimizer = tf.train.GradientDescentOptimizer(learning_rate).minimize(loss)\n",
    "# 初始化所有变量\n",
    "init = tf.global_variables_initializer()\n",
    "saver = tf.train.Saver()\n",
    "\n",
    "def accuracy(pred, y, test_data):\n",
    "    # 测试模型\n",
    "    correct_prediction = tf.equal(tf.argmax(pred, 1), tf.argmax(y, 1))\n",
    "    # 计算准确度\n",
    "    accuracy = tf.reduce_mean(tf.cast(correct_prediction, tf.float32))\n",
    "    return accuracy.eval({x: test_data.images, y: test_data.labels})"
   ]
  },
  {
   "cell_type": "code",
   "execution_count": 6,
   "metadata": {
    "collapsed": false
   },
   "outputs": [
    {
     "name": "stdout",
     "output_type": "stream",
     "text": [
      "Epoch: 0001 loss: 0.792829882 accuracy: 0.9037\n",
      "Epoch: 0002 loss: 0.494312739 accuracy: 0.9156\n",
      "Epoch: 0003 loss: 0.444530127 accuracy: 0.9246\n",
      "Epoch: 0004 loss: 0.413679214 accuracy: 0.9315\n",
      "Epoch: 0005 loss: 0.391518641 accuracy: 0.9372\n",
      "Epoch: 0006 loss: 0.374083733 accuracy: 0.9388\n",
      "Epoch: 0007 loss: 0.359843516 accuracy: 0.9422\n",
      "Epoch: 0008 loss: 0.347963445 accuracy: 0.9436\n",
      "Epoch: 0009 loss: 0.337919140 accuracy: 0.9461\n",
      "Epoch: 0010 loss: 0.329117875 accuracy: 0.9474\n",
      "Epoch: 0011 loss: 0.321322018 accuracy: 0.9482\n",
      "Epoch: 0012 loss: 0.313948866 accuracy: 0.9496\n",
      "Epoch: 0013 loss: 0.307476835 accuracy: 0.9521\n",
      "Epoch: 0014 loss: 0.301589546 accuracy: 0.9522\n",
      "Epoch: 0015 loss: 0.296422766 accuracy: 0.9539\n",
      "Epoch: 0016 loss: 0.291493172 accuracy: 0.9543\n",
      "Epoch: 0017 loss: 0.287127336 accuracy: 0.9538\n",
      "Epoch: 0018 loss: 0.282768714 accuracy: 0.9552\n",
      "Epoch: 0019 loss: 0.278883264 accuracy: 0.9552\n",
      "Epoch: 0020 loss: 0.274622201 accuracy: 0.9563\n",
      "Epoch: 0021 loss: 0.271465003 accuracy: 0.9551\n",
      "Epoch: 0022 loss: 0.267807137 accuracy: 0.9565\n",
      "Epoch: 0023 loss: 0.264562457 accuracy: 0.9565\n",
      "Epoch: 0024 loss: 0.261084021 accuracy: 0.9565\n",
      "Epoch: 0025 loss: 0.258143976 accuracy: 0.9568\n",
      "Optimization Finished!\n",
      "Accuracy: 0.957\n"
     ]
    }
   ],
   "source": [
    "# 启动tf图\n",
    "with tf.Session() as sess:\n",
    "    sess.run(init)  # 初始化所有变量\n",
    "\n",
    "    # 迭代训练\n",
    "    for epoch in range(training_epochs):\n",
    "        avg_loss = 0.\n",
    "        total_batch = int(not_mnist.train.num_examples / batch_size)  # 计算数据集总共有多少批次数据\n",
    "        # 训练训练所有批次数据\n",
    "        for i in range(total_batch):\n",
    "            batch_xs, batch_ys = not_mnist.train.next_batch(batch_size)\n",
    "            # 运行优化操作和损失函数计算操作，获取损失值\n",
    "            _, c = sess.run([optimizer, loss], feed_dict={x: batch_xs,\n",
    "                                                          y: batch_ys})\n",
    "            # 计算平均损失\n",
    "            avg_loss += c / total_batch\n",
    "        # 打印显示\n",
    "        if (epoch + 1) % display_step == 0:\n",
    "            print(\"Epoch:\", '%04d' % (epoch + 1), \"loss:\", \"{:.9f}\".format(avg_loss),\n",
    "                  \"accuracy:\", accuracy(pred, y, not_mnist.test))\n",
    "\n",
    "    print(\"Optimization Finished!\")\n",
    "    print(\"Accuracy:\", accuracy(pred, y, not_mnist.test))\n",
    "    saver.save(sess, 'my-model')"
   ]
  },
  {
   "cell_type": "code",
   "execution_count": null,
   "metadata": {
    "collapsed": true
   },
   "outputs": [],
   "source": []
  }
 ],
 "metadata": {
  "kernelspec": {
   "display_name": "Python 3",
   "language": "python",
   "name": "python3"
  },
  "language_info": {
   "codemirror_mode": {
    "name": "ipython",
    "version": 3
   },
   "file_extension": ".py",
   "mimetype": "text/x-python",
   "name": "python",
   "nbconvert_exporter": "python",
   "pygments_lexer": "ipython3",
   "version": "3.4.3"
  }
 },
 "nbformat": 4,
 "nbformat_minor": 2
}
