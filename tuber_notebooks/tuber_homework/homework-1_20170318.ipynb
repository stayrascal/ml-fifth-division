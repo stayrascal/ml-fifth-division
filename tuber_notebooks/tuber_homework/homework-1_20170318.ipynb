{
 "cells": [
  {
   "cell_type": "markdown",
   "metadata": {
    "deletable": true,
    "editable": true
   },
   "source": [
    "### Sample"
   ]
  },
  {
   "cell_type": "code",
   "execution_count": 1,
   "metadata": {
    "collapsed": true,
    "deletable": true,
    "editable": true
   },
   "outputs": [],
   "source": [
    "import tensorflow as tf\n",
    "x = tf.random_uniform([])\n",
    "y = tf.random_uniform([])\n",
    "out = tf.cond(tf.less(x,y), lambda: tf.add(x,y), lambda: tf.subtract(x,y))"
   ]
  },
  {
   "cell_type": "markdown",
   "metadata": {
    "deletable": true,
    "editable": true
   },
   "source": [
    "### Answer 1"
   ]
  },
  {
   "cell_type": "code",
   "execution_count": 2,
   "metadata": {
    "collapsed": false,
    "deletable": true,
    "editable": true
   },
   "outputs": [
    {
     "name": "stdout",
     "output_type": "stream",
     "text": [
      "-1.33227\n"
     ]
    }
   ],
   "source": [
    "import tensorflow as tf\n",
    "x = tf.random_uniform([], minval=-1, maxval=1)\n",
    "y = tf.random_uniform([], minval=-1, maxval=1)\n",
    "fn1 = lambda: tf.add(x,y)\n",
    "fn2 = lambda: tf.subtract(x,y)\n",
    "fn3 = lambda: tf.constant(0.0)\n",
    "out = tf.case([(tf.less(x,y), fn1), (tf.greater(x,y), fn2)], default=fn3)\n",
    "with tf.Session() as sess:\n",
    "    print(sess.run(out))"
   ]
  },
  {
   "cell_type": "markdown",
   "metadata": {
    "deletable": true,
    "editable": true
   },
   "source": [
    "### Answer 2"
   ]
  },
  {
   "cell_type": "code",
   "execution_count": 36,
   "metadata": {
    "collapsed": false,
    "deletable": true,
    "editable": true
   },
   "outputs": [
    {
     "name": "stdout",
     "output_type": "stream",
     "text": [
      "[[ True False False]\n",
      " [ True False False]]\n"
     ]
    }
   ],
   "source": [
    "import tensorflow as tf\n",
    "x = tf.constant([[0, -2, -1], [0, 1, 2]])\n",
    "y = tf.zeros_like(x)\n",
    "out = tf.equal(x,y)\n",
    "with tf.Session() as sess:\n",
    "    print(sess.run(out))"
   ]
  },
  {
   "cell_type": "markdown",
   "metadata": {
    "deletable": true,
    "editable": true
   },
   "source": [
    "### Answer 3"
   ]
  },
  {
   "cell_type": "code",
   "execution_count": 41,
   "metadata": {
    "collapsed": false,
    "deletable": true,
    "editable": true
   },
   "outputs": [
    {
     "name": "stdout",
     "output_type": "stream",
     "text": [
      "[[ 31.19073486]\n",
      " [ 30.97266006]\n",
      " [ 38.08450317]\n",
      " [ 34.94445419]\n",
      " [ 34.45999146]\n",
      " [ 36.01657104]\n",
      " [ 30.20379066]\n",
      " [ 33.71149445]\n",
      " [ 36.05556488]]\n"
     ]
    }
   ],
   "source": [
    "import tensorflow as tf\n",
    "x = tf.constant(\n",
    "    [29.05088806,  27.61298943,  31.19073486,  29.35532951,\n",
    "     30.97266006,  26.67541885,  38.08450317,  20.74983215,\n",
    "     34.94445419,  34.45999146,  29.06485367,  36.01657104,\n",
    "     27.88236427,  20.56035233,  30.20379066,  29.51215172,\n",
    "     33.71149445,  28.59134293,  36.05556488,  28.66994858])\n",
    "indices = tf.where(x>30)\n",
    "out = tf.gather(x, indices)\n",
    "with tf.Session() as sess:\n",
    "    print(sess.run(out))"
   ]
  },
  {
   "cell_type": "markdown",
   "metadata": {
    "deletable": true,
    "editable": true
   },
   "source": [
    "### Answer 4"
   ]
  },
  {
   "cell_type": "code",
   "execution_count": 42,
   "metadata": {
    "collapsed": false,
    "deletable": true,
    "editable": true
   },
   "outputs": [
    {
     "name": "stdout",
     "output_type": "stream",
     "text": [
      "[[1 0 0 0 0 0]\n",
      " [0 2 0 0 0 0]\n",
      " [0 0 3 0 0 0]\n",
      " [0 0 0 4 0 0]\n",
      " [0 0 0 0 5 0]\n",
      " [0 0 0 0 0 6]]\n"
     ]
    }
   ],
   "source": [
    "import tensorflow as tf\n",
    "x = tf.range(1, 7, 1)\n",
    "out = tf.diag(x)\n",
    "with tf.Session() as sess:\n",
    "    print(sess.run(out))"
   ]
  },
  {
   "cell_type": "markdown",
   "metadata": {
    "deletable": true,
    "editable": true
   },
   "source": [
    "### Answer 5"
   ]
  },
  {
   "cell_type": "code",
   "execution_count": 44,
   "metadata": {
    "collapsed": false,
    "deletable": true,
    "editable": true
   },
   "outputs": [
    {
     "name": "stdout",
     "output_type": "stream",
     "text": [
      "-421.399\n"
     ]
    }
   ],
   "source": [
    "import tensorflow as tf\n",
    "x = tf.random_normal([10,10])\n",
    "out = tf.matrix_determinant(x)\n",
    "with tf.Session() as sess:\n",
    "    print(sess.run(out))"
   ]
  },
  {
   "cell_type": "markdown",
   "metadata": {
    "deletable": true,
    "editable": true
   },
   "source": [
    "### Answer 6"
   ]
  },
  {
   "cell_type": "code",
   "execution_count": 45,
   "metadata": {
    "collapsed": false,
    "deletable": true,
    "editable": true
   },
   "outputs": [
    {
     "name": "stdout",
     "output_type": "stream",
     "text": [
      "[ 5  2  3 10  6  4  1  0  9]\n"
     ]
    }
   ],
   "source": [
    "import tensorflow as tf\n",
    "x = tf.constant([5, 2, 3, 5, 10, 6, 2, 3, 4, 2, 1, 1, 0, 9])\n",
    "out, idx = tf.unique(x)\n",
    "with tf.Session() as sess:\n",
    "    print(sess.run(out))"
   ]
  },
  {
   "cell_type": "markdown",
   "metadata": {
    "deletable": true,
    "editable": true
   },
   "source": [
    "### Answer 7"
   ]
  },
  {
   "cell_type": "code",
   "execution_count": 5,
   "metadata": {
    "collapsed": false,
    "deletable": true,
    "editable": true
   },
   "outputs": [
    {
     "name": "stdout",
     "output_type": "stream",
     "text": [
      "1.8628\n",
      "349.867\n"
     ]
    }
   ],
   "source": [
    "import tensorflow as tf\n",
    "x = tf.random_normal([300], mean=3, stddev=1)\n",
    "y = tf.random_normal([300], mean=3, stddev=1)\n",
    "average = tf.reduce_mean(x-y)\n",
    "fn1 = lambda: tf.reduce_mean(tf.square(x-y))\n",
    "fn2 = lambda: tf.reduce_sum(tf.abs(x-y))\n",
    "out = tf.cond(tf.less(average, 0), fn1, fn2)\n",
    "out1 = tf.where(tf.less(average, 0), tf.reduce_mean(tf.square(x-y)), tf.reduce_sum(tf.abs(x-y)))\n",
    "with tf.Session() as sess:\n",
    "    print(sess.run(out))\n",
    "    print(sess.run(out1))"
   ]
  },
  {
   "cell_type": "code",
   "execution_count": null,
   "metadata": {
    "collapsed": true,
    "deletable": true,
    "editable": true
   },
   "outputs": [],
   "source": []
  }
 ],
 "metadata": {
  "kernelspec": {
   "display_name": "Python 3",
   "language": "python",
   "name": "python3"
  },
  "language_info": {
   "codemirror_mode": {
    "name": "ipython",
    "version": 3
   },
   "file_extension": ".py",
   "mimetype": "text/x-python",
   "name": "python",
   "nbconvert_exporter": "python",
   "pygments_lexer": "ipython3",
   "version": "3.5.2"
  }
 },
 "nbformat": 4,
 "nbformat_minor": 2
}
